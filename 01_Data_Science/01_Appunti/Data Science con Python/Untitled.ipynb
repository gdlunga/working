{
 "cells": [
  {
   "cell_type": "markdown",
   "metadata": {},
   "source": [
    "## Che cosa si intende per Scienza dei Dati ##\n",
    "\n",
    "La scienza dei dati è la disciplina che consiste nell'estrarre conoscenze dai dati. E' un mix di informatica (per le strutture dati, gli algoritmi, la rappresentazione, la capacità di elaborare grandi quantità di dati e programmazione), statistica (per le regressioni e l'inferenza), Matematica (tecniche e principi di ottimizzazione, analisi numerica) e conoscenza del dominio perché dobbiamo sapere quali domande porre e come interpretare i risultati. Un elenco non esaustivo dei principali argomenti di interesse potrebbe essere il seguente: \n",
    "\n",
    "- Database\n",
    "- Analisi del testo ed elaborazione del linguaggio naturale\n",
    "- Analisi numerica del dato e data mining\n",
    "- Analisi delle reti complesse\n",
    "- Rappresentazione dei dati\n",
    "- Machine Learning\n",
    "- Elaborazione delle Serie Temporali\n",
    "- Analisi di grandi quantità di dati\n",
    "\n",
    "\n",
    "\n"
   ]
  },
  {
   "cell_type": "markdown",
   "metadata": {},
   "source": [
    "## La tipica sequenza di analisi dei dati ##\n",
    "\n",
    "**Qualità del Dato** - Nei dati vi possono essere valori mancanti, valori anomali ed altri elementi *non standard*. Fra gli esempi di dati \"sporchi\" vi possono essere date di nascita nel futuro, valori negativi per l'età e peso, indirizzi email inutilizzabili. Una volta ottenuti i dati grezzi, il passo successivo è usare degli strumenti di \"pulizia\" dei dati e le vostre conoscenze statistiche per regolarizzare il dataset. Una volta che nei file abbiamo a disposizione i dati \"puliti\" possiamo utilizzarli per svolgere analisi descrittive ed esplorative.\n",
    "\n",
    "**Descrizione dei dati** -\n",
    "\n",
    "**Fonti dei dati** -\n",
    "\n",
    "**Formati dei dati** - I formati di dati presenti possono essere i più disparati, ad esempio:\n",
    "\n",
    "- Testo standard non strutturato in linguaggio naturale\n",
    "- Dati strutturati fra cui\n",
    "    - dati tabulari in file CSV (*Comma Separated Values*);\n",
    "    - dati tabulari tratti da database;\n",
    "    - dati a tag in formato HTML (*HyperText Markup Language*) o, in generale, in XM(*eXtensible Markup Language*);\n",
    "    - dati a tag in formato JSON (*JavaScript Object Notation*);"
   ]
  },
  {
   "cell_type": "code",
   "execution_count": null,
   "metadata": {},
   "outputs": [],
   "source": []
  }
 ],
 "metadata": {
  "kernelspec": {
   "display_name": "Python 3",
   "language": "python",
   "name": "python3"
  },
  "language_info": {
   "codemirror_mode": {
    "name": "ipython",
    "version": 3
   },
   "file_extension": ".py",
   "mimetype": "text/x-python",
   "name": "python",
   "nbconvert_exporter": "python",
   "pygments_lexer": "ipython3",
   "version": "3.7.4"
  }
 },
 "nbformat": 4,
 "nbformat_minor": 2
}
