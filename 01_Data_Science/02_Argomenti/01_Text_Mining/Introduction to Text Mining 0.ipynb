{
 "cells": [
  {
   "cell_type": "markdown",
   "metadata": {},
   "source": [
    "## Regular Expressions for Detecting Word Patterns"
   ]
  },
  {
   "cell_type": "markdown",
   "metadata": {},
   "source": [
    "Many linguistic processing tasks involve pattern matching. For example, we can find words ending with ed using endswith('ed'). Regular expressions give us a more powerful and flexible method for describing the character patterns we are interested in.\n",
    "There are many other published introductions to regular expressions,\n",
    "organized around the syntax of regular expressions and applied to\n",
    "searching text files. Instead of doing this again, we focus on the use of\n",
    "regular expressions at different stages of linguistic processing. As usual, we’ll adopt a problem-based approach and present new features only as they are needed to solve practical problems.\n",
    "To use regular expressions in Python, we need to import the `re` library using: `import re`. We also need a list of words to search;"
   ]
  },
  {
   "cell_type": "code",
   "execution_count": null,
   "metadata": {},
   "outputs": [],
   "source": []
  }
 ],
 "metadata": {
  "kernelspec": {
   "display_name": "Python 3",
   "language": "python",
   "name": "python3"
  },
  "language_info": {
   "codemirror_mode": {
    "name": "ipython",
    "version": 3
   },
   "file_extension": ".py",
   "mimetype": "text/x-python",
   "name": "python",
   "nbconvert_exporter": "python",
   "pygments_lexer": "ipython3",
   "version": "3.7.4"
  }
 },
 "nbformat": 4,
 "nbformat_minor": 2
}
