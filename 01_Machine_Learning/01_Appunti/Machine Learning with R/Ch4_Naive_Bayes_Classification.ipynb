{
 "cells": [
  {
   "cell_type": "markdown",
   "metadata": {},
   "source": [
    "### Note\n",
    "\n",
    "per l'uso delle regexp in R vedere anche [Regular expressions stringr](https://stringr.tidyverse.org/articles/regular-expressions.html)"
   ]
  },
  {
   "cell_type": "markdown",
   "metadata": {
    "collapsed": true
   },
   "source": [
    "** Algorithm Description **"
   ]
  },
  {
   "cell_type": "markdown",
   "metadata": {},
   "source": [
    "TO BE DONE"
   ]
  },
  {
   "cell_type": "markdown",
   "metadata": {
    "collapsed": true
   },
   "source": [
    "**Example: Filtering Mobile Phone Spam**\n",
    "\n",
    "***Step 1 - Exploring and Preparing the Data***\n",
    "\n",
    "The first step towards constructing our classifier involves processing the raw data for\n",
    "analysis. Text data are challenging to prepare, because it is necessary to transform the\n",
    "words and sentences into a form that a computer can understand. We will transform\n",
    "our data into a representation known as bag-of-words, which ignores word order and\n",
    "simply provides a variable indicating whether the word appears at all. \n",
    "\n",
    "Data are downnloaded from [Machine-Learning-with-R-dataset](https://github.com/stedy/Machine-Learning-with-R-datasets), a complete description can be found at [SMS Spam Collection](http://www.dt.fee.unicamp.br/~tiago/smsspamcollection/).\n"
   ]
  },
  {
   "cell_type": "code",
   "execution_count": 3,
   "metadata": {},
   "outputs": [
    {
     "name": "stdout",
     "output_type": "stream",
     "text": [
      "Current working folder is ' :  C:/Users/t004314/Documents/GitHub/working/01_Machine_Learning/01_Appunti/Dati"
     ]
    }
   ],
   "source": [
    "# Definition of Working Folder\n",
    "\n",
    "Dirname <- \"/working/01_Machine_Learning/01_Appunti\"\n",
    "Dirs <- list.dirs(path=file.path(\"~\"),recursive=T)\n",
    "dir_wd <- names(unlist(sapply(Dirs,grep,pattern=Dirname))[1])\n",
    "dir_wd <- paste(dir_wd,'Dati',sep='/')\n",
    "setwd(dir_wd)\n",
    "cat(\"Current working folder is ' : \", getwd())"
   ]
  },
  {
   "cell_type": "code",
   "execution_count": 4,
   "metadata": {},
   "outputs": [],
   "source": [
    "sms_raw <- read.csv(\"sms_spam.csv\", stringsAsFactors = FALSE)"
   ]
  },
  {
   "cell_type": "code",
   "execution_count": 5,
   "metadata": {},
   "outputs": [
    {
     "name": "stdout",
     "output_type": "stream",
     "text": [
      "'data.frame':\t5574 obs. of  2 variables:\n",
      " $ type: chr  \"ham\" \"ham\" \"spam\" \"ham\" ...\n",
      " $ text: chr  \"Go until jurong point, crazy.. Available only in bugis n great world la e buffet... Cine there got amore wat...\" \"Ok lar... Joking wif u oni...\" \"Free entry in 2 a wkly comp to win FA Cup final tkts 21st May 2005. Text FA to 87121 to receive entry question(\"| __truncated__ \"U dun say so early hor... U c already then say...\" ...\n"
     ]
    }
   ],
   "source": [
    "str(sms_raw)"
   ]
  },
  {
   "cell_type": "markdown",
   "metadata": {},
   "source": [
    "The type element is currently a character vector. Since this is a categorical variable, it\n",
    "would be better to convert it into a factor, as shown in the following code:"
   ]
  },
  {
   "cell_type": "code",
   "execution_count": 6,
   "metadata": {},
   "outputs": [],
   "source": [
    "sms_raw$type <- factor(sms_raw$type)"
   ]
  },
  {
   "cell_type": "code",
   "execution_count": 7,
   "metadata": {},
   "outputs": [
    {
     "name": "stdout",
     "output_type": "stream",
     "text": [
      " Factor w/ 2 levels \"ham\",\"spam\": 1 1 2 1 1 2 1 1 2 2 ...\n"
     ]
    }
   ],
   "source": [
    "str(sms_raw$type)"
   ]
  },
  {
   "cell_type": "code",
   "execution_count": 8,
   "metadata": {},
   "outputs": [
    {
     "data": {
      "text/plain": [
       "\n",
       " ham spam \n",
       "4827  747 "
      ]
     },
     "metadata": {},
     "output_type": "display_data"
    }
   ],
   "source": [
    "table(sms_raw$type)"
   ]
  },
  {
   "cell_type": "markdown",
   "metadata": {},
   "source": [
    "***Step 2 - Data Preparation - Cleaning and Standardizing Text Data***\n",
    "\n",
    "SMS messages are strings of text composed of words, spaces, numbers, and\n",
    "punctuation. Handling this type of complex data takes a lot of thought and\n",
    "effort. One needs to consider how to remove numbers and punctuation; handle\n",
    "uninteresting words such as and, but, and or; and how to break apart sentences into\n",
    "individual words. \n",
    "\n",
    "This functionality has been provided by the members\n",
    "of the R community in a text mining package titled tm. To learn more, see [Feinerer I, Hornik K, Meyer D. Text\n",
    "Mining Infrastructure in R. Journal of Statistical Software. 2008; 25:1-54](https://www.jstatsoft.org/article/view/v025i05) or digit the R command `vignette(\"tm\")`.\n",
    "\n",
    "The tm package can be installed via the install.packages(\"tm\") command\n",
    "and loaded with the library(tm) command.\n"
   ]
  },
  {
   "cell_type": "code",
   "execution_count": 11,
   "metadata": {},
   "outputs": [
    {
     "name": "stderr",
     "output_type": "stream",
     "text": [
      "Loading required package: NLP\n"
     ]
    }
   ],
   "source": [
    "library(tm)"
   ]
  },
  {
   "cell_type": "markdown",
   "metadata": {},
   "source": [
    "The first step in processing text data involves creating a corpus, which is a collection\n",
    "of text documents. The documents can be short or long, from individual news\n",
    "articles, pages in a book or on the web, or entire books. In our case, the corpus\n",
    "will be a collection of SMS messages."
   ]
  },
  {
   "cell_type": "markdown",
   "metadata": {},
   "source": [
    "In order to create a corpus, we'll use the `VCorpus()` function in the `tm` package,\n",
    "which refers to a volatile corpus—volatile as it is stored in memory as opposed to\n",
    "being stored on disk (the `PCorpus()` function can be used to access a permanent\n",
    "corpus stored in a database). This function requires us to specify the source of\n",
    "documents for the corpus, which could be from a computer's filesystem, a database,\n",
    "the Web, or elsewhere. Since we already loaded the SMS message text into R, we'll\n",
    "use the `VectorSource()` reader function to create a source object from the existing\n",
    "`sms_raw$text` vector, which can then be supplied to `VCorpus()` as follows:"
   ]
  },
  {
   "cell_type": "code",
   "execution_count": 12,
   "metadata": {},
   "outputs": [],
   "source": [
    "sms_corpus <- VCorpus(VectorSource(sms_raw$text))"
   ]
  },
  {
   "cell_type": "markdown",
   "metadata": {},
   "source": [
    "To view an actual message text, the `as.character()` function must be applied to\n",
    "the desired messages. To view one message, use the `as.character()` function on\n",
    "a single list element, noting that the double-bracket notation is required:"
   ]
  },
  {
   "cell_type": "code",
   "execution_count": 13,
   "metadata": {},
   "outputs": [
    {
     "data": {
      "text/html": [
       "'Go until jurong point, crazy.. Available only in bugis n great world la e buffet... Cine there got amore wat...'"
      ],
      "text/latex": [
       "'Go until jurong point, crazy.. Available only in bugis n great world la e buffet... Cine there got amore wat...'"
      ],
      "text/markdown": [
       "'Go until jurong point, crazy.. Available only in bugis n great world la e buffet... Cine there got amore wat...'"
      ],
      "text/plain": [
       "[1] \"Go until jurong point, crazy.. Available only in bugis n great world la e buffet... Cine there got amore wat...\""
      ]
     },
     "metadata": {},
     "output_type": "display_data"
    }
   ],
   "source": [
    "as.character(sms_corpus[[1]])"
   ]
  },
  {
   "cell_type": "code",
   "execution_count": 14,
   "metadata": {},
   "outputs": [
    {
     "data": {
      "text/html": [
       "<dl>\n",
       "\t<dt>$`1`</dt>\n",
       "\t\t<dd>'Go until jurong point, crazy.. Available only in bugis n great world la e buffet... Cine there got amore wat...'</dd>\n",
       "\t<dt>$`2`</dt>\n",
       "\t\t<dd>'Ok lar... Joking wif u oni...'</dd>\n",
       "\t<dt>$`3`</dt>\n",
       "\t\t<dd>'Free entry in 2 a wkly comp to win FA Cup final tkts 21st May 2005. Text FA to 87121 to receive entry question(std txt rate)T&amp;C\\'s apply 08452810075over18\\'s'</dd>\n",
       "\t<dt>$`4`</dt>\n",
       "\t\t<dd>'U dun say so early hor... U c already then say...'</dd>\n",
       "\t<dt>$`5`</dt>\n",
       "\t\t<dd>'Nah I don\\'t think he goes to usf, he lives around here though'</dd>\n",
       "\t<dt>$`6`</dt>\n",
       "\t\t<dd>'FreeMsg Hey there darling it\\'s been 3 week\\'s now and no word back! I\\'d like some fun you up for it still? Tb ok! XxX std chgs to send, Â£1.50 to rcv'</dd>\n",
       "\t<dt>$`7`</dt>\n",
       "\t\t<dd>'Even my brother is not like to speak with me. They treat me like aids patent.'</dd>\n",
       "\t<dt>$`8`</dt>\n",
       "\t\t<dd>'As per your request \\'Melle Melle (Oru Minnaminunginte Nurungu Vettam)\\' has been set as your callertune for all Callers. Press *9 to copy your friends Callertune'</dd>\n",
       "\t<dt>$`9`</dt>\n",
       "\t\t<dd>'WINNER!! As a valued network customer you have been selected to receivea Â£900 prize reward! To claim call 09061701461. Claim code KL341. Valid 12 hours only.'</dd>\n",
       "\t<dt>$`10`</dt>\n",
       "\t\t<dd>'Had your mobile 11 months or more? U R entitled to Update to the latest colour mobiles with camera for Free! Call The Mobile Update Co FREE on 08002986030'</dd>\n",
       "</dl>\n"
      ],
      "text/latex": [
       "\\begin{description}\n",
       "\\item[\\$`1`] 'Go until jurong point, crazy.. Available only in bugis n great world la e buffet... Cine there got amore wat...'\n",
       "\\item[\\$`2`] 'Ok lar... Joking wif u oni...'\n",
       "\\item[\\$`3`] 'Free entry in 2 a wkly comp to win FA Cup final tkts 21st May 2005. Text FA to 87121 to receive entry question(std txt rate)T\\&C\\textbackslash{}'s apply 08452810075over18\\textbackslash{}'s'\n",
       "\\item[\\$`4`] 'U dun say so early hor... U c already then say...'\n",
       "\\item[\\$`5`] 'Nah I don\\textbackslash{}'t think he goes to usf, he lives around here though'\n",
       "\\item[\\$`6`] 'FreeMsg Hey there darling it\\textbackslash{}'s been 3 week\\textbackslash{}'s now and no word back! I\\textbackslash{}'d like some fun you up for it still? Tb ok! XxX std chgs to send, Â£1.50 to rcv'\n",
       "\\item[\\$`7`] 'Even my brother is not like to speak with me. They treat me like aids patent.'\n",
       "\\item[\\$`8`] 'As per your request \\textbackslash{}'Melle Melle (Oru Minnaminunginte Nurungu Vettam)\\textbackslash{}' has been set as your callertune for all Callers. Press *9 to copy your friends Callertune'\n",
       "\\item[\\$`9`] 'WINNER!! As a valued network customer you have been selected to receivea Â£900 prize reward! To claim call 09061701461. Claim code KL341. Valid 12 hours only.'\n",
       "\\item[\\$`10`] 'Had your mobile 11 months or more? U R entitled to Update to the latest colour mobiles with camera for Free! Call The Mobile Update Co FREE on 08002986030'\n",
       "\\end{description}\n"
      ],
      "text/markdown": [
       "$`1`\n",
       ":   'Go until jurong point, crazy.. Available only in bugis n great world la e buffet... Cine there got amore wat...'\n",
       "$`2`\n",
       ":   'Ok lar... Joking wif u oni...'\n",
       "$`3`\n",
       ":   'Free entry in 2 a wkly comp to win FA Cup final tkts 21st May 2005. Text FA to 87121 to receive entry question(std txt rate)T&amp;C\\'s apply 08452810075over18\\'s'\n",
       "$`4`\n",
       ":   'U dun say so early hor... U c already then say...'\n",
       "$`5`\n",
       ":   'Nah I don\\'t think he goes to usf, he lives around here though'\n",
       "$`6`\n",
       ":   'FreeMsg Hey there darling it\\'s been 3 week\\'s now and no word back! I\\'d like some fun you up for it still? Tb ok! XxX std chgs to send, Â£1.50 to rcv'\n",
       "$`7`\n",
       ":   'Even my brother is not like to speak with me. They treat me like aids patent.'\n",
       "$`8`\n",
       ":   'As per your request \\'Melle Melle (Oru Minnaminunginte Nurungu Vettam)\\' has been set as your callertune for all Callers. Press *9 to copy your friends Callertune'\n",
       "$`9`\n",
       ":   'WINNER!! As a valued network customer you have been selected to receivea Â£900 prize reward! To claim call 09061701461. Claim code KL341. Valid 12 hours only.'\n",
       "$`10`\n",
       ":   'Had your mobile 11 months or more? U R entitled to Update to the latest colour mobiles with camera for Free! Call The Mobile Update Co FREE on 08002986030'\n",
       "\n",
       "\n"
      ],
      "text/plain": [
       "$`1`\n",
       "[1] \"Go until jurong point, crazy.. Available only in bugis n great world la e buffet... Cine there got amore wat...\"\n",
       "\n",
       "$`2`\n",
       "[1] \"Ok lar... Joking wif u oni...\"\n",
       "\n",
       "$`3`\n",
       "[1] \"Free entry in 2 a wkly comp to win FA Cup final tkts 21st May 2005. Text FA to 87121 to receive entry question(std txt rate)T&C's apply 08452810075over18's\"\n",
       "\n",
       "$`4`\n",
       "[1] \"U dun say so early hor... U c already then say...\"\n",
       "\n",
       "$`5`\n",
       "[1] \"Nah I don't think he goes to usf, he lives around here though\"\n",
       "\n",
       "$`6`\n",
       "[1] \"FreeMsg Hey there darling it's been 3 week's now and no word back! I'd like some fun you up for it still? Tb ok! XxX std chgs to send, Â£1.50 to rcv\"\n",
       "\n",
       "$`7`\n",
       "[1] \"Even my brother is not like to speak with me. They treat me like aids patent.\"\n",
       "\n",
       "$`8`\n",
       "[1] \"As per your request 'Melle Melle (Oru Minnaminunginte Nurungu Vettam)' has been set as your callertune for all Callers. Press *9 to copy your friends Callertune\"\n",
       "\n",
       "$`9`\n",
       "[1] \"WINNER!! As a valued network customer you have been selected to receivea Â£900 prize reward! To claim call 09061701461. Claim code KL341. Valid 12 hours only.\"\n",
       "\n",
       "$`10`\n",
       "[1] \"Had your mobile 11 months or more? U R entitled to Update to the latest colour mobiles with camera for Free! Call The Mobile Update Co FREE on 08002986030\"\n"
      ]
     },
     "metadata": {},
     "output_type": "display_data"
    }
   ],
   "source": [
    "lapply(sms_corpus[1:10], as.character)"
   ]
  },
  {
   "cell_type": "markdown",
   "metadata": {},
   "source": [
    "As noted earlier, the corpus contains the raw text of 5,559 text messages. In order\n",
    "to perform our analysis, we need to divide these messages into individual words.\n",
    "But first, we need to clean the text, in order to standardize the words, by removing\n",
    "punctuation and other characters that clutter the result. For example, we would like\n",
    "the strings Hello!, HELLO, and hello to be counted as instances of the same word."
   ]
  },
  {
   "cell_type": "markdown",
   "metadata": {},
   "source": [
    "The `tm_map()` function provides a method to apply a transformation (also known\n",
    "as mapping) to a tm corpus. We will use this function to clean up our corpus using a\n",
    "series of transformations and save the result in a new object called `corpus_clean`."
   ]
  },
  {
   "cell_type": "markdown",
   "metadata": {},
   "source": [
    "Our first order of business will be to standardize the messages to use only lowercase\n",
    "characters. To this end, R provides a `tolower()` function that returns a lowercase\n",
    "version of text strings. In order to apply this function to the corpus, we need to\n",
    "use the tm wrapper function `content_transformer()` to treat `tolower()` as a\n",
    "transformation function that can be used to access the corpus. The full command is\n",
    "as follows:"
   ]
  },
  {
   "cell_type": "code",
   "execution_count": 15,
   "metadata": {},
   "outputs": [
    {
     "data": {
      "text/html": [
       "'Free entry in 2 a wkly comp to win FA Cup final tkts 21st May 2005. Text FA to 87121 to receive entry question(std txt rate)T&amp;C\\'s apply 08452810075over18\\'s'"
      ],
      "text/latex": [
       "'Free entry in 2 a wkly comp to win FA Cup final tkts 21st May 2005. Text FA to 87121 to receive entry question(std txt rate)T\\&C\\textbackslash{}'s apply 08452810075over18\\textbackslash{}'s'"
      ],
      "text/markdown": [
       "'Free entry in 2 a wkly comp to win FA Cup final tkts 21st May 2005. Text FA to 87121 to receive entry question(std txt rate)T&amp;C\\'s apply 08452810075over18\\'s'"
      ],
      "text/plain": [
       "[1] \"Free entry in 2 a wkly comp to win FA Cup final tkts 21st May 2005. Text FA to 87121 to receive entry question(std txt rate)T&C's apply 08452810075over18's\""
      ]
     },
     "metadata": {},
     "output_type": "display_data"
    },
    {
     "data": {
      "text/html": [
       "'free entry in 2 a wkly comp to win fa cup final tkts 21st may 2005. text fa to 87121 to receive entry question(std txt rate)t&amp;c\\'s apply 08452810075over18\\'s'"
      ],
      "text/latex": [
       "'free entry in 2 a wkly comp to win fa cup final tkts 21st may 2005. text fa to 87121 to receive entry question(std txt rate)t\\&c\\textbackslash{}'s apply 08452810075over18\\textbackslash{}'s'"
      ],
      "text/markdown": [
       "'free entry in 2 a wkly comp to win fa cup final tkts 21st may 2005. text fa to 87121 to receive entry question(std txt rate)t&amp;c\\'s apply 08452810075over18\\'s'"
      ],
      "text/plain": [
       "[1] \"free entry in 2 a wkly comp to win fa cup final tkts 21st may 2005. text fa to 87121 to receive entry question(std txt rate)t&c's apply 08452810075over18's\""
      ]
     },
     "metadata": {},
     "output_type": "display_data"
    }
   ],
   "source": [
    "sms_corpus_clean <- tm_map(sms_corpus,content_transformer(tolower))\n",
    "as.character(sms_corpus[[3]])\n",
    "as.character(sms_corpus_clean[[3]])"
   ]
  },
  {
   "cell_type": "code",
   "execution_count": 16,
   "metadata": {},
   "outputs": [],
   "source": [
    "sms_corpus_clean <- tm_map(sms_corpus_clean, removeNumbers)"
   ]
  },
  {
   "cell_type": "code",
   "execution_count": 17,
   "metadata": {},
   "outputs": [
    {
     "data": {
      "text/html": [
       "'Free entry in 2 a wkly comp to win FA Cup final tkts 21st May 2005. Text FA to 87121 to receive entry question(std txt rate)T&amp;C\\'s apply 08452810075over18\\'s'"
      ],
      "text/latex": [
       "'Free entry in 2 a wkly comp to win FA Cup final tkts 21st May 2005. Text FA to 87121 to receive entry question(std txt rate)T\\&C\\textbackslash{}'s apply 08452810075over18\\textbackslash{}'s'"
      ],
      "text/markdown": [
       "'Free entry in 2 a wkly comp to win FA Cup final tkts 21st May 2005. Text FA to 87121 to receive entry question(std txt rate)T&amp;C\\'s apply 08452810075over18\\'s'"
      ],
      "text/plain": [
       "[1] \"Free entry in 2 a wkly comp to win FA Cup final tkts 21st May 2005. Text FA to 87121 to receive entry question(std txt rate)T&C's apply 08452810075over18's\""
      ]
     },
     "metadata": {},
     "output_type": "display_data"
    },
    {
     "data": {
      "text/html": [
       "<span style=white-space:pre-wrap>'free entry in  a wkly comp to win fa cup final tkts st may . text fa to  to receive entry question(std txt rate)t&amp;c\\'s apply over\\'s'</span>"
      ],
      "text/latex": [
       "'free entry in  a wkly comp to win fa cup final tkts st may . text fa to  to receive entry question(std txt rate)t\\&c\\textbackslash{}'s apply over\\textbackslash{}'s'"
      ],
      "text/markdown": [
       "<span style=white-space:pre-wrap>'free entry in  a wkly comp to win fa cup final tkts st may . text fa to  to receive entry question(std txt rate)t&amp;c\\'s apply over\\'s'</span>"
      ],
      "text/plain": [
       "[1] \"free entry in  a wkly comp to win fa cup final tkts st may . text fa to  to receive entry question(std txt rate)t&c's apply over's\""
      ]
     },
     "metadata": {},
     "output_type": "display_data"
    }
   ],
   "source": [
    "as.character(sms_corpus[[3]])\n",
    "as.character(sms_corpus_clean[[3]])"
   ]
  },
  {
   "cell_type": "code",
   "execution_count": 18,
   "metadata": {},
   "outputs": [],
   "source": [
    "sms_corpus_clean <- tm_map(sms_corpus_clean,removeWords, stopwords())"
   ]
  },
  {
   "cell_type": "code",
   "execution_count": 19,
   "metadata": {},
   "outputs": [
    {
     "data": {
      "text/html": [
       "<ol class=list-inline>\n",
       "\t<li>'i'</li>\n",
       "\t<li>'me'</li>\n",
       "\t<li>'my'</li>\n",
       "\t<li>'myself'</li>\n",
       "\t<li>'we'</li>\n",
       "\t<li>'our'</li>\n",
       "\t<li>'ours'</li>\n",
       "\t<li>'ourselves'</li>\n",
       "\t<li>'you'</li>\n",
       "\t<li>'your'</li>\n",
       "\t<li>'yours'</li>\n",
       "\t<li>'yourself'</li>\n",
       "\t<li>'yourselves'</li>\n",
       "\t<li>'he'</li>\n",
       "\t<li>'him'</li>\n",
       "\t<li>'his'</li>\n",
       "\t<li>'himself'</li>\n",
       "\t<li>'she'</li>\n",
       "\t<li>'her'</li>\n",
       "\t<li>'hers'</li>\n",
       "\t<li>'herself'</li>\n",
       "\t<li>'it'</li>\n",
       "\t<li>'its'</li>\n",
       "\t<li>'itself'</li>\n",
       "\t<li>'they'</li>\n",
       "\t<li>'them'</li>\n",
       "\t<li>'their'</li>\n",
       "\t<li>'theirs'</li>\n",
       "\t<li>'themselves'</li>\n",
       "\t<li>'what'</li>\n",
       "\t<li>'which'</li>\n",
       "\t<li>'who'</li>\n",
       "\t<li>'whom'</li>\n",
       "\t<li>'this'</li>\n",
       "\t<li>'that'</li>\n",
       "\t<li>'these'</li>\n",
       "\t<li>'those'</li>\n",
       "\t<li>'am'</li>\n",
       "\t<li>'is'</li>\n",
       "\t<li>'are'</li>\n",
       "\t<li>'was'</li>\n",
       "\t<li>'were'</li>\n",
       "\t<li>'be'</li>\n",
       "\t<li>'been'</li>\n",
       "\t<li>'being'</li>\n",
       "\t<li>'have'</li>\n",
       "\t<li>'has'</li>\n",
       "\t<li>'had'</li>\n",
       "\t<li>'having'</li>\n",
       "\t<li>'do'</li>\n",
       "\t<li>'does'</li>\n",
       "\t<li>'did'</li>\n",
       "\t<li>'doing'</li>\n",
       "\t<li>'would'</li>\n",
       "\t<li>'should'</li>\n",
       "\t<li>'could'</li>\n",
       "\t<li>'ought'</li>\n",
       "\t<li>'i\\'m'</li>\n",
       "\t<li>'you\\'re'</li>\n",
       "\t<li>'he\\'s'</li>\n",
       "\t<li>'she\\'s'</li>\n",
       "\t<li>'it\\'s'</li>\n",
       "\t<li>'we\\'re'</li>\n",
       "\t<li>'they\\'re'</li>\n",
       "\t<li>'i\\'ve'</li>\n",
       "\t<li>'you\\'ve'</li>\n",
       "\t<li>'we\\'ve'</li>\n",
       "\t<li>'they\\'ve'</li>\n",
       "\t<li>'i\\'d'</li>\n",
       "\t<li>'you\\'d'</li>\n",
       "\t<li>'he\\'d'</li>\n",
       "\t<li>'she\\'d'</li>\n",
       "\t<li>'we\\'d'</li>\n",
       "\t<li>'they\\'d'</li>\n",
       "\t<li>'i\\'ll'</li>\n",
       "\t<li>'you\\'ll'</li>\n",
       "\t<li>'he\\'ll'</li>\n",
       "\t<li>'she\\'ll'</li>\n",
       "\t<li>'we\\'ll'</li>\n",
       "\t<li>'they\\'ll'</li>\n",
       "\t<li>'isn\\'t'</li>\n",
       "\t<li>'aren\\'t'</li>\n",
       "\t<li>'wasn\\'t'</li>\n",
       "\t<li>'weren\\'t'</li>\n",
       "\t<li>'hasn\\'t'</li>\n",
       "\t<li>'haven\\'t'</li>\n",
       "\t<li>'hadn\\'t'</li>\n",
       "\t<li>'doesn\\'t'</li>\n",
       "\t<li>'don\\'t'</li>\n",
       "\t<li>'didn\\'t'</li>\n",
       "\t<li>'won\\'t'</li>\n",
       "\t<li>'wouldn\\'t'</li>\n",
       "\t<li>'shan\\'t'</li>\n",
       "\t<li>'shouldn\\'t'</li>\n",
       "\t<li>'can\\'t'</li>\n",
       "\t<li>'cannot'</li>\n",
       "\t<li>'couldn\\'t'</li>\n",
       "\t<li>'mustn\\'t'</li>\n",
       "\t<li>'let\\'s'</li>\n",
       "\t<li>'that\\'s'</li>\n",
       "\t<li>'who\\'s'</li>\n",
       "\t<li>'what\\'s'</li>\n",
       "\t<li>'here\\'s'</li>\n",
       "\t<li>'there\\'s'</li>\n",
       "\t<li>'when\\'s'</li>\n",
       "\t<li>'where\\'s'</li>\n",
       "\t<li>'why\\'s'</li>\n",
       "\t<li>'how\\'s'</li>\n",
       "\t<li>'a'</li>\n",
       "\t<li>'an'</li>\n",
       "\t<li>'the'</li>\n",
       "\t<li>'and'</li>\n",
       "\t<li>'but'</li>\n",
       "\t<li>'if'</li>\n",
       "\t<li>'or'</li>\n",
       "\t<li>'because'</li>\n",
       "\t<li>'as'</li>\n",
       "\t<li>'until'</li>\n",
       "\t<li>'while'</li>\n",
       "\t<li>'of'</li>\n",
       "\t<li>'at'</li>\n",
       "\t<li>'by'</li>\n",
       "\t<li>'for'</li>\n",
       "\t<li>'with'</li>\n",
       "\t<li>'about'</li>\n",
       "\t<li>'against'</li>\n",
       "\t<li>'between'</li>\n",
       "\t<li>'into'</li>\n",
       "\t<li>'through'</li>\n",
       "\t<li>'during'</li>\n",
       "\t<li>'before'</li>\n",
       "\t<li>'after'</li>\n",
       "\t<li>'above'</li>\n",
       "\t<li>'below'</li>\n",
       "\t<li>'to'</li>\n",
       "\t<li>'from'</li>\n",
       "\t<li>'up'</li>\n",
       "\t<li>'down'</li>\n",
       "\t<li>'in'</li>\n",
       "\t<li>'out'</li>\n",
       "\t<li>'on'</li>\n",
       "\t<li>'off'</li>\n",
       "\t<li>'over'</li>\n",
       "\t<li>'under'</li>\n",
       "\t<li>'again'</li>\n",
       "\t<li>'further'</li>\n",
       "\t<li>'then'</li>\n",
       "\t<li>'once'</li>\n",
       "\t<li>'here'</li>\n",
       "\t<li>'there'</li>\n",
       "\t<li>'when'</li>\n",
       "\t<li>'where'</li>\n",
       "\t<li>'why'</li>\n",
       "\t<li>'how'</li>\n",
       "\t<li>'all'</li>\n",
       "\t<li>'any'</li>\n",
       "\t<li>'both'</li>\n",
       "\t<li>'each'</li>\n",
       "\t<li>'few'</li>\n",
       "\t<li>'more'</li>\n",
       "\t<li>'most'</li>\n",
       "\t<li>'other'</li>\n",
       "\t<li>'some'</li>\n",
       "\t<li>'such'</li>\n",
       "\t<li>'no'</li>\n",
       "\t<li>'nor'</li>\n",
       "\t<li>'not'</li>\n",
       "\t<li>'only'</li>\n",
       "\t<li>'own'</li>\n",
       "\t<li>'same'</li>\n",
       "\t<li>'so'</li>\n",
       "\t<li>'than'</li>\n",
       "\t<li>'too'</li>\n",
       "\t<li>'very'</li>\n",
       "</ol>\n"
      ],
      "text/latex": [
       "\\begin{enumerate*}\n",
       "\\item 'i'\n",
       "\\item 'me'\n",
       "\\item 'my'\n",
       "\\item 'myself'\n",
       "\\item 'we'\n",
       "\\item 'our'\n",
       "\\item 'ours'\n",
       "\\item 'ourselves'\n",
       "\\item 'you'\n",
       "\\item 'your'\n",
       "\\item 'yours'\n",
       "\\item 'yourself'\n",
       "\\item 'yourselves'\n",
       "\\item 'he'\n",
       "\\item 'him'\n",
       "\\item 'his'\n",
       "\\item 'himself'\n",
       "\\item 'she'\n",
       "\\item 'her'\n",
       "\\item 'hers'\n",
       "\\item 'herself'\n",
       "\\item 'it'\n",
       "\\item 'its'\n",
       "\\item 'itself'\n",
       "\\item 'they'\n",
       "\\item 'them'\n",
       "\\item 'their'\n",
       "\\item 'theirs'\n",
       "\\item 'themselves'\n",
       "\\item 'what'\n",
       "\\item 'which'\n",
       "\\item 'who'\n",
       "\\item 'whom'\n",
       "\\item 'this'\n",
       "\\item 'that'\n",
       "\\item 'these'\n",
       "\\item 'those'\n",
       "\\item 'am'\n",
       "\\item 'is'\n",
       "\\item 'are'\n",
       "\\item 'was'\n",
       "\\item 'were'\n",
       "\\item 'be'\n",
       "\\item 'been'\n",
       "\\item 'being'\n",
       "\\item 'have'\n",
       "\\item 'has'\n",
       "\\item 'had'\n",
       "\\item 'having'\n",
       "\\item 'do'\n",
       "\\item 'does'\n",
       "\\item 'did'\n",
       "\\item 'doing'\n",
       "\\item 'would'\n",
       "\\item 'should'\n",
       "\\item 'could'\n",
       "\\item 'ought'\n",
       "\\item 'i\\textbackslash{}'m'\n",
       "\\item 'you\\textbackslash{}'re'\n",
       "\\item 'he\\textbackslash{}'s'\n",
       "\\item 'she\\textbackslash{}'s'\n",
       "\\item 'it\\textbackslash{}'s'\n",
       "\\item 'we\\textbackslash{}'re'\n",
       "\\item 'they\\textbackslash{}'re'\n",
       "\\item 'i\\textbackslash{}'ve'\n",
       "\\item 'you\\textbackslash{}'ve'\n",
       "\\item 'we\\textbackslash{}'ve'\n",
       "\\item 'they\\textbackslash{}'ve'\n",
       "\\item 'i\\textbackslash{}'d'\n",
       "\\item 'you\\textbackslash{}'d'\n",
       "\\item 'he\\textbackslash{}'d'\n",
       "\\item 'she\\textbackslash{}'d'\n",
       "\\item 'we\\textbackslash{}'d'\n",
       "\\item 'they\\textbackslash{}'d'\n",
       "\\item 'i\\textbackslash{}'ll'\n",
       "\\item 'you\\textbackslash{}'ll'\n",
       "\\item 'he\\textbackslash{}'ll'\n",
       "\\item 'she\\textbackslash{}'ll'\n",
       "\\item 'we\\textbackslash{}'ll'\n",
       "\\item 'they\\textbackslash{}'ll'\n",
       "\\item 'isn\\textbackslash{}'t'\n",
       "\\item 'aren\\textbackslash{}'t'\n",
       "\\item 'wasn\\textbackslash{}'t'\n",
       "\\item 'weren\\textbackslash{}'t'\n",
       "\\item 'hasn\\textbackslash{}'t'\n",
       "\\item 'haven\\textbackslash{}'t'\n",
       "\\item 'hadn\\textbackslash{}'t'\n",
       "\\item 'doesn\\textbackslash{}'t'\n",
       "\\item 'don\\textbackslash{}'t'\n",
       "\\item 'didn\\textbackslash{}'t'\n",
       "\\item 'won\\textbackslash{}'t'\n",
       "\\item 'wouldn\\textbackslash{}'t'\n",
       "\\item 'shan\\textbackslash{}'t'\n",
       "\\item 'shouldn\\textbackslash{}'t'\n",
       "\\item 'can\\textbackslash{}'t'\n",
       "\\item 'cannot'\n",
       "\\item 'couldn\\textbackslash{}'t'\n",
       "\\item 'mustn\\textbackslash{}'t'\n",
       "\\item 'let\\textbackslash{}'s'\n",
       "\\item 'that\\textbackslash{}'s'\n",
       "\\item 'who\\textbackslash{}'s'\n",
       "\\item 'what\\textbackslash{}'s'\n",
       "\\item 'here\\textbackslash{}'s'\n",
       "\\item 'there\\textbackslash{}'s'\n",
       "\\item 'when\\textbackslash{}'s'\n",
       "\\item 'where\\textbackslash{}'s'\n",
       "\\item 'why\\textbackslash{}'s'\n",
       "\\item 'how\\textbackslash{}'s'\n",
       "\\item 'a'\n",
       "\\item 'an'\n",
       "\\item 'the'\n",
       "\\item 'and'\n",
       "\\item 'but'\n",
       "\\item 'if'\n",
       "\\item 'or'\n",
       "\\item 'because'\n",
       "\\item 'as'\n",
       "\\item 'until'\n",
       "\\item 'while'\n",
       "\\item 'of'\n",
       "\\item 'at'\n",
       "\\item 'by'\n",
       "\\item 'for'\n",
       "\\item 'with'\n",
       "\\item 'about'\n",
       "\\item 'against'\n",
       "\\item 'between'\n",
       "\\item 'into'\n",
       "\\item 'through'\n",
       "\\item 'during'\n",
       "\\item 'before'\n",
       "\\item 'after'\n",
       "\\item 'above'\n",
       "\\item 'below'\n",
       "\\item 'to'\n",
       "\\item 'from'\n",
       "\\item 'up'\n",
       "\\item 'down'\n",
       "\\item 'in'\n",
       "\\item 'out'\n",
       "\\item 'on'\n",
       "\\item 'off'\n",
       "\\item 'over'\n",
       "\\item 'under'\n",
       "\\item 'again'\n",
       "\\item 'further'\n",
       "\\item 'then'\n",
       "\\item 'once'\n",
       "\\item 'here'\n",
       "\\item 'there'\n",
       "\\item 'when'\n",
       "\\item 'where'\n",
       "\\item 'why'\n",
       "\\item 'how'\n",
       "\\item 'all'\n",
       "\\item 'any'\n",
       "\\item 'both'\n",
       "\\item 'each'\n",
       "\\item 'few'\n",
       "\\item 'more'\n",
       "\\item 'most'\n",
       "\\item 'other'\n",
       "\\item 'some'\n",
       "\\item 'such'\n",
       "\\item 'no'\n",
       "\\item 'nor'\n",
       "\\item 'not'\n",
       "\\item 'only'\n",
       "\\item 'own'\n",
       "\\item 'same'\n",
       "\\item 'so'\n",
       "\\item 'than'\n",
       "\\item 'too'\n",
       "\\item 'very'\n",
       "\\end{enumerate*}\n"
      ],
      "text/markdown": [
       "1. 'i'\n",
       "2. 'me'\n",
       "3. 'my'\n",
       "4. 'myself'\n",
       "5. 'we'\n",
       "6. 'our'\n",
       "7. 'ours'\n",
       "8. 'ourselves'\n",
       "9. 'you'\n",
       "10. 'your'\n",
       "11. 'yours'\n",
       "12. 'yourself'\n",
       "13. 'yourselves'\n",
       "14. 'he'\n",
       "15. 'him'\n",
       "16. 'his'\n",
       "17. 'himself'\n",
       "18. 'she'\n",
       "19. 'her'\n",
       "20. 'hers'\n",
       "21. 'herself'\n",
       "22. 'it'\n",
       "23. 'its'\n",
       "24. 'itself'\n",
       "25. 'they'\n",
       "26. 'them'\n",
       "27. 'their'\n",
       "28. 'theirs'\n",
       "29. 'themselves'\n",
       "30. 'what'\n",
       "31. 'which'\n",
       "32. 'who'\n",
       "33. 'whom'\n",
       "34. 'this'\n",
       "35. 'that'\n",
       "36. 'these'\n",
       "37. 'those'\n",
       "38. 'am'\n",
       "39. 'is'\n",
       "40. 'are'\n",
       "41. 'was'\n",
       "42. 'were'\n",
       "43. 'be'\n",
       "44. 'been'\n",
       "45. 'being'\n",
       "46. 'have'\n",
       "47. 'has'\n",
       "48. 'had'\n",
       "49. 'having'\n",
       "50. 'do'\n",
       "51. 'does'\n",
       "52. 'did'\n",
       "53. 'doing'\n",
       "54. 'would'\n",
       "55. 'should'\n",
       "56. 'could'\n",
       "57. 'ought'\n",
       "58. 'i\\'m'\n",
       "59. 'you\\'re'\n",
       "60. 'he\\'s'\n",
       "61. 'she\\'s'\n",
       "62. 'it\\'s'\n",
       "63. 'we\\'re'\n",
       "64. 'they\\'re'\n",
       "65. 'i\\'ve'\n",
       "66. 'you\\'ve'\n",
       "67. 'we\\'ve'\n",
       "68. 'they\\'ve'\n",
       "69. 'i\\'d'\n",
       "70. 'you\\'d'\n",
       "71. 'he\\'d'\n",
       "72. 'she\\'d'\n",
       "73. 'we\\'d'\n",
       "74. 'they\\'d'\n",
       "75. 'i\\'ll'\n",
       "76. 'you\\'ll'\n",
       "77. 'he\\'ll'\n",
       "78. 'she\\'ll'\n",
       "79. 'we\\'ll'\n",
       "80. 'they\\'ll'\n",
       "81. 'isn\\'t'\n",
       "82. 'aren\\'t'\n",
       "83. 'wasn\\'t'\n",
       "84. 'weren\\'t'\n",
       "85. 'hasn\\'t'\n",
       "86. 'haven\\'t'\n",
       "87. 'hadn\\'t'\n",
       "88. 'doesn\\'t'\n",
       "89. 'don\\'t'\n",
       "90. 'didn\\'t'\n",
       "91. 'won\\'t'\n",
       "92. 'wouldn\\'t'\n",
       "93. 'shan\\'t'\n",
       "94. 'shouldn\\'t'\n",
       "95. 'can\\'t'\n",
       "96. 'cannot'\n",
       "97. 'couldn\\'t'\n",
       "98. 'mustn\\'t'\n",
       "99. 'let\\'s'\n",
       "100. 'that\\'s'\n",
       "101. 'who\\'s'\n",
       "102. 'what\\'s'\n",
       "103. 'here\\'s'\n",
       "104. 'there\\'s'\n",
       "105. 'when\\'s'\n",
       "106. 'where\\'s'\n",
       "107. 'why\\'s'\n",
       "108. 'how\\'s'\n",
       "109. 'a'\n",
       "110. 'an'\n",
       "111. 'the'\n",
       "112. 'and'\n",
       "113. 'but'\n",
       "114. 'if'\n",
       "115. 'or'\n",
       "116. 'because'\n",
       "117. 'as'\n",
       "118. 'until'\n",
       "119. 'while'\n",
       "120. 'of'\n",
       "121. 'at'\n",
       "122. 'by'\n",
       "123. 'for'\n",
       "124. 'with'\n",
       "125. 'about'\n",
       "126. 'against'\n",
       "127. 'between'\n",
       "128. 'into'\n",
       "129. 'through'\n",
       "130. 'during'\n",
       "131. 'before'\n",
       "132. 'after'\n",
       "133. 'above'\n",
       "134. 'below'\n",
       "135. 'to'\n",
       "136. 'from'\n",
       "137. 'up'\n",
       "138. 'down'\n",
       "139. 'in'\n",
       "140. 'out'\n",
       "141. 'on'\n",
       "142. 'off'\n",
       "143. 'over'\n",
       "144. 'under'\n",
       "145. 'again'\n",
       "146. 'further'\n",
       "147. 'then'\n",
       "148. 'once'\n",
       "149. 'here'\n",
       "150. 'there'\n",
       "151. 'when'\n",
       "152. 'where'\n",
       "153. 'why'\n",
       "154. 'how'\n",
       "155. 'all'\n",
       "156. 'any'\n",
       "157. 'both'\n",
       "158. 'each'\n",
       "159. 'few'\n",
       "160. 'more'\n",
       "161. 'most'\n",
       "162. 'other'\n",
       "163. 'some'\n",
       "164. 'such'\n",
       "165. 'no'\n",
       "166. 'nor'\n",
       "167. 'not'\n",
       "168. 'only'\n",
       "169. 'own'\n",
       "170. 'same'\n",
       "171. 'so'\n",
       "172. 'than'\n",
       "173. 'too'\n",
       "174. 'very'\n",
       "\n",
       "\n"
      ],
      "text/plain": [
       "  [1] \"i\"          \"me\"         \"my\"         \"myself\"     \"we\"        \n",
       "  [6] \"our\"        \"ours\"       \"ourselves\"  \"you\"        \"your\"      \n",
       " [11] \"yours\"      \"yourself\"   \"yourselves\" \"he\"         \"him\"       \n",
       " [16] \"his\"        \"himself\"    \"she\"        \"her\"        \"hers\"      \n",
       " [21] \"herself\"    \"it\"         \"its\"        \"itself\"     \"they\"      \n",
       " [26] \"them\"       \"their\"      \"theirs\"     \"themselves\" \"what\"      \n",
       " [31] \"which\"      \"who\"        \"whom\"       \"this\"       \"that\"      \n",
       " [36] \"these\"      \"those\"      \"am\"         \"is\"         \"are\"       \n",
       " [41] \"was\"        \"were\"       \"be\"         \"been\"       \"being\"     \n",
       " [46] \"have\"       \"has\"        \"had\"        \"having\"     \"do\"        \n",
       " [51] \"does\"       \"did\"        \"doing\"      \"would\"      \"should\"    \n",
       " [56] \"could\"      \"ought\"      \"i'm\"        \"you're\"     \"he's\"      \n",
       " [61] \"she's\"      \"it's\"       \"we're\"      \"they're\"    \"i've\"      \n",
       " [66] \"you've\"     \"we've\"      \"they've\"    \"i'd\"        \"you'd\"     \n",
       " [71] \"he'd\"       \"she'd\"      \"we'd\"       \"they'd\"     \"i'll\"      \n",
       " [76] \"you'll\"     \"he'll\"      \"she'll\"     \"we'll\"      \"they'll\"   \n",
       " [81] \"isn't\"      \"aren't\"     \"wasn't\"     \"weren't\"    \"hasn't\"    \n",
       " [86] \"haven't\"    \"hadn't\"     \"doesn't\"    \"don't\"      \"didn't\"    \n",
       " [91] \"won't\"      \"wouldn't\"   \"shan't\"     \"shouldn't\"  \"can't\"     \n",
       " [96] \"cannot\"     \"couldn't\"   \"mustn't\"    \"let's\"      \"that's\"    \n",
       "[101] \"who's\"      \"what's\"     \"here's\"     \"there's\"    \"when's\"    \n",
       "[106] \"where's\"    \"why's\"      \"how's\"      \"a\"          \"an\"        \n",
       "[111] \"the\"        \"and\"        \"but\"        \"if\"         \"or\"        \n",
       "[116] \"because\"    \"as\"         \"until\"      \"while\"      \"of\"        \n",
       "[121] \"at\"         \"by\"         \"for\"        \"with\"       \"about\"     \n",
       "[126] \"against\"    \"between\"    \"into\"       \"through\"    \"during\"    \n",
       "[131] \"before\"     \"after\"      \"above\"      \"below\"      \"to\"        \n",
       "[136] \"from\"       \"up\"         \"down\"       \"in\"         \"out\"       \n",
       "[141] \"on\"         \"off\"        \"over\"       \"under\"      \"again\"     \n",
       "[146] \"further\"    \"then\"       \"once\"       \"here\"       \"there\"     \n",
       "[151] \"when\"       \"where\"      \"why\"        \"how\"        \"all\"       \n",
       "[156] \"any\"        \"both\"       \"each\"       \"few\"        \"more\"      \n",
       "[161] \"most\"       \"other\"      \"some\"       \"such\"       \"no\"        \n",
       "[166] \"nor\"        \"not\"        \"only\"       \"own\"        \"same\"      \n",
       "[171] \"so\"         \"than\"       \"too\"        \"very\"      "
      ]
     },
     "metadata": {},
     "output_type": "display_data"
    }
   ],
   "source": [
    "stopwords(kind = \"en\")"
   ]
  },
  {
   "cell_type": "code",
   "execution_count": 20,
   "metadata": {},
   "outputs": [
    {
     "data": {
      "text/html": [
       "<ol class=list-inline>\n",
       "\t<li>'ad'</li>\n",
       "\t<li>'al'</li>\n",
       "\t<li>'allo'</li>\n",
       "\t<li>'ai'</li>\n",
       "\t<li>'agli'</li>\n",
       "\t<li>'all'</li>\n",
       "\t<li>'agl'</li>\n",
       "\t<li>'alla'</li>\n",
       "\t<li>'alle'</li>\n",
       "\t<li>'con'</li>\n",
       "\t<li>'col'</li>\n",
       "\t<li>'coi'</li>\n",
       "\t<li>'da'</li>\n",
       "\t<li>'dal'</li>\n",
       "\t<li>'dallo'</li>\n",
       "\t<li>'dai'</li>\n",
       "\t<li>'dagli'</li>\n",
       "\t<li>'dall'</li>\n",
       "\t<li>'dagl'</li>\n",
       "\t<li>'dalla'</li>\n",
       "\t<li>'dalle'</li>\n",
       "\t<li>'di'</li>\n",
       "\t<li>'del'</li>\n",
       "\t<li>'dello'</li>\n",
       "\t<li>'dei'</li>\n",
       "\t<li>'degli'</li>\n",
       "\t<li>'dell'</li>\n",
       "\t<li>'degl'</li>\n",
       "\t<li>'della'</li>\n",
       "\t<li>'delle'</li>\n",
       "\t<li>'in'</li>\n",
       "\t<li>'nel'</li>\n",
       "\t<li>'nello'</li>\n",
       "\t<li>'nei'</li>\n",
       "\t<li>'negli'</li>\n",
       "\t<li>'nell'</li>\n",
       "\t<li>'negl'</li>\n",
       "\t<li>'nella'</li>\n",
       "\t<li>'nelle'</li>\n",
       "\t<li>'su'</li>\n",
       "\t<li>'sul'</li>\n",
       "\t<li>'sullo'</li>\n",
       "\t<li>'sui'</li>\n",
       "\t<li>'sugli'</li>\n",
       "\t<li>'sull'</li>\n",
       "\t<li>'sugl'</li>\n",
       "\t<li>'sulla'</li>\n",
       "\t<li>'sulle'</li>\n",
       "\t<li>'per'</li>\n",
       "\t<li>'tra'</li>\n",
       "\t<li>'contro'</li>\n",
       "\t<li>'io'</li>\n",
       "\t<li>'tu'</li>\n",
       "\t<li>'lui'</li>\n",
       "\t<li>'lei'</li>\n",
       "\t<li>'noi'</li>\n",
       "\t<li>'voi'</li>\n",
       "\t<li>'loro'</li>\n",
       "\t<li>'mio'</li>\n",
       "\t<li>'mia'</li>\n",
       "\t<li>'miei'</li>\n",
       "\t<li>'mie'</li>\n",
       "\t<li>'tuo'</li>\n",
       "\t<li>'tua'</li>\n",
       "\t<li>'tuoi'</li>\n",
       "\t<li>'tue'</li>\n",
       "\t<li>'suo'</li>\n",
       "\t<li>'sua'</li>\n",
       "\t<li>'suoi'</li>\n",
       "\t<li>'sue'</li>\n",
       "\t<li>'nostro'</li>\n",
       "\t<li>'nostra'</li>\n",
       "\t<li>'nostri'</li>\n",
       "\t<li>'nostre'</li>\n",
       "\t<li>'vostro'</li>\n",
       "\t<li>'vostra'</li>\n",
       "\t<li>'vostri'</li>\n",
       "\t<li>'vostre'</li>\n",
       "\t<li>'mi'</li>\n",
       "\t<li>'ti'</li>\n",
       "\t<li>'ci'</li>\n",
       "\t<li>'vi'</li>\n",
       "\t<li>'lo'</li>\n",
       "\t<li>'la'</li>\n",
       "\t<li>'li'</li>\n",
       "\t<li>'le'</li>\n",
       "\t<li>'gli'</li>\n",
       "\t<li>'ne'</li>\n",
       "\t<li>'il'</li>\n",
       "\t<li>'un'</li>\n",
       "\t<li>'uno'</li>\n",
       "\t<li>'una'</li>\n",
       "\t<li>'ma'</li>\n",
       "\t<li>'ed'</li>\n",
       "\t<li>'se'</li>\n",
       "\t<li>'perché'</li>\n",
       "\t<li>'anche'</li>\n",
       "\t<li>'come'</li>\n",
       "\t<li>'dov'</li>\n",
       "\t<li>'dove'</li>\n",
       "\t<li>'che'</li>\n",
       "\t<li>'chi'</li>\n",
       "\t<li>'cui'</li>\n",
       "\t<li>'non'</li>\n",
       "\t<li>'più'</li>\n",
       "\t<li>'quale'</li>\n",
       "\t<li>'quanto'</li>\n",
       "\t<li>'quanti'</li>\n",
       "\t<li>'quanta'</li>\n",
       "\t<li>'quante'</li>\n",
       "\t<li>'quello'</li>\n",
       "\t<li>'quelli'</li>\n",
       "\t<li>'quella'</li>\n",
       "\t<li>'quelle'</li>\n",
       "\t<li>'questo'</li>\n",
       "\t<li>'questi'</li>\n",
       "\t<li>'questa'</li>\n",
       "\t<li>'queste'</li>\n",
       "\t<li>'si'</li>\n",
       "\t<li>'tutto'</li>\n",
       "\t<li>'tutti'</li>\n",
       "\t<li>'a'</li>\n",
       "\t<li>'c'</li>\n",
       "\t<li>'e'</li>\n",
       "\t<li>'i'</li>\n",
       "\t<li>'l'</li>\n",
       "\t<li>'o'</li>\n",
       "\t<li>'ho'</li>\n",
       "\t<li>'hai'</li>\n",
       "\t<li>'ha'</li>\n",
       "\t<li>'abbiamo'</li>\n",
       "\t<li>'avete'</li>\n",
       "\t<li>'hanno'</li>\n",
       "\t<li>'abbia'</li>\n",
       "\t<li>'abbiate'</li>\n",
       "\t<li>'abbiano'</li>\n",
       "\t<li>'avrò'</li>\n",
       "\t<li>'avrai'</li>\n",
       "\t<li>'avrà'</li>\n",
       "\t<li>'avremo'</li>\n",
       "\t<li>'avrete'</li>\n",
       "\t<li>'avranno'</li>\n",
       "\t<li>'avrei'</li>\n",
       "\t<li>'avresti'</li>\n",
       "\t<li>'avrebbe'</li>\n",
       "\t<li>'avremmo'</li>\n",
       "\t<li>'avreste'</li>\n",
       "\t<li>'avrebbero'</li>\n",
       "\t<li>'avevo'</li>\n",
       "\t<li>'avevi'</li>\n",
       "\t<li>'aveva'</li>\n",
       "\t<li>'avevamo'</li>\n",
       "\t<li>'avevate'</li>\n",
       "\t<li>'avevano'</li>\n",
       "\t<li>'ebbi'</li>\n",
       "\t<li>'avesti'</li>\n",
       "\t<li>'ebbe'</li>\n",
       "\t<li>'avemmo'</li>\n",
       "\t<li>'aveste'</li>\n",
       "\t<li>'ebbero'</li>\n",
       "\t<li>'avessi'</li>\n",
       "\t<li>'avesse'</li>\n",
       "\t<li>'avessimo'</li>\n",
       "\t<li>'avessero'</li>\n",
       "\t<li>'avendo'</li>\n",
       "\t<li>'avuto'</li>\n",
       "\t<li>'avuta'</li>\n",
       "\t<li>'avuti'</li>\n",
       "\t<li>'avute'</li>\n",
       "\t<li>'sono'</li>\n",
       "\t<li>'sei'</li>\n",
       "\t<li>'è'</li>\n",
       "\t<li>'siamo'</li>\n",
       "\t<li>'siete'</li>\n",
       "\t<li>'sia'</li>\n",
       "\t<li>'siate'</li>\n",
       "\t<li>'siano'</li>\n",
       "\t<li>'sarò'</li>\n",
       "\t<li>'sarai'</li>\n",
       "\t<li>'sarà'</li>\n",
       "\t<li>'saremo'</li>\n",
       "\t<li>'sarete'</li>\n",
       "\t<li>'saranno'</li>\n",
       "\t<li>'sarei'</li>\n",
       "\t<li>'saresti'</li>\n",
       "\t<li>'sarebbe'</li>\n",
       "\t<li>'saremmo'</li>\n",
       "\t<li>'sareste'</li>\n",
       "\t<li>'sarebbero'</li>\n",
       "\t<li>'ero'</li>\n",
       "\t<li>'eri'</li>\n",
       "\t<li>'era'</li>\n",
       "\t<li>'eravamo'</li>\n",
       "\t<li>'eravate'</li>\n",
       "\t<li>'erano'</li>\n",
       "\t<li>'fui'</li>\n",
       "\t<li>'fosti'</li>\n",
       "\t<li>'fu'</li>\n",
       "\t<li>'fummo'</li>\n",
       "\t<li>'foste'</li>\n",
       "\t<li>'furono'</li>\n",
       "\t<li>'fossi'</li>\n",
       "\t<li>'fosse'</li>\n",
       "\t<li>'fossimo'</li>\n",
       "\t<li>'fossero'</li>\n",
       "\t<li>'essendo'</li>\n",
       "\t<li>'faccio'</li>\n",
       "\t<li>'fai'</li>\n",
       "\t<li>'facciamo'</li>\n",
       "\t<li>'fanno'</li>\n",
       "\t<li>'faccia'</li>\n",
       "\t<li>'facciate'</li>\n",
       "\t<li>'facciano'</li>\n",
       "\t<li>'farò'</li>\n",
       "\t<li>'farai'</li>\n",
       "\t<li>'farà'</li>\n",
       "\t<li>'faremo'</li>\n",
       "\t<li>'farete'</li>\n",
       "\t<li>'faranno'</li>\n",
       "\t<li>'farei'</li>\n",
       "\t<li>'faresti'</li>\n",
       "\t<li>'farebbe'</li>\n",
       "\t<li>'faremmo'</li>\n",
       "\t<li>'fareste'</li>\n",
       "\t<li>'farebbero'</li>\n",
       "\t<li>'facevo'</li>\n",
       "\t<li>'facevi'</li>\n",
       "\t<li>'faceva'</li>\n",
       "\t<li>'facevamo'</li>\n",
       "\t<li>'facevate'</li>\n",
       "\t<li>'facevano'</li>\n",
       "\t<li>'feci'</li>\n",
       "\t<li>'facesti'</li>\n",
       "\t<li>'fece'</li>\n",
       "\t<li>'facemmo'</li>\n",
       "\t<li>'faceste'</li>\n",
       "\t<li>'fecero'</li>\n",
       "\t<li>'facessi'</li>\n",
       "\t<li>'facesse'</li>\n",
       "\t<li>'facessimo'</li>\n",
       "\t<li>'facessero'</li>\n",
       "\t<li>'facendo'</li>\n",
       "\t<li>'sto'</li>\n",
       "\t<li>'stai'</li>\n",
       "\t<li>'sta'</li>\n",
       "\t<li>'stiamo'</li>\n",
       "\t<li>'stanno'</li>\n",
       "\t<li>'stia'</li>\n",
       "\t<li>'stiate'</li>\n",
       "\t<li>'stiano'</li>\n",
       "\t<li>'starò'</li>\n",
       "\t<li>'starai'</li>\n",
       "\t<li>'starà'</li>\n",
       "\t<li>'staremo'</li>\n",
       "\t<li>'starete'</li>\n",
       "\t<li>'staranno'</li>\n",
       "\t<li>'starei'</li>\n",
       "\t<li>'staresti'</li>\n",
       "\t<li>'starebbe'</li>\n",
       "\t<li>'staremmo'</li>\n",
       "\t<li>'stareste'</li>\n",
       "\t<li>'starebbero'</li>\n",
       "\t<li>'stavo'</li>\n",
       "\t<li>'stavi'</li>\n",
       "\t<li>'stava'</li>\n",
       "\t<li>'stavamo'</li>\n",
       "\t<li>'stavate'</li>\n",
       "\t<li>'stavano'</li>\n",
       "\t<li>'stetti'</li>\n",
       "\t<li>'stesti'</li>\n",
       "\t<li>'stette'</li>\n",
       "\t<li>'stemmo'</li>\n",
       "\t<li>'steste'</li>\n",
       "\t<li>'stettero'</li>\n",
       "\t<li>'stessi'</li>\n",
       "\t<li>'stesse'</li>\n",
       "\t<li>'stessimo'</li>\n",
       "\t<li>'stessero'</li>\n",
       "\t<li>'stando'</li>\n",
       "</ol>\n"
      ],
      "text/latex": [
       "\\begin{enumerate*}\n",
       "\\item 'ad'\n",
       "\\item 'al'\n",
       "\\item 'allo'\n",
       "\\item 'ai'\n",
       "\\item 'agli'\n",
       "\\item 'all'\n",
       "\\item 'agl'\n",
       "\\item 'alla'\n",
       "\\item 'alle'\n",
       "\\item 'con'\n",
       "\\item 'col'\n",
       "\\item 'coi'\n",
       "\\item 'da'\n",
       "\\item 'dal'\n",
       "\\item 'dallo'\n",
       "\\item 'dai'\n",
       "\\item 'dagli'\n",
       "\\item 'dall'\n",
       "\\item 'dagl'\n",
       "\\item 'dalla'\n",
       "\\item 'dalle'\n",
       "\\item 'di'\n",
       "\\item 'del'\n",
       "\\item 'dello'\n",
       "\\item 'dei'\n",
       "\\item 'degli'\n",
       "\\item 'dell'\n",
       "\\item 'degl'\n",
       "\\item 'della'\n",
       "\\item 'delle'\n",
       "\\item 'in'\n",
       "\\item 'nel'\n",
       "\\item 'nello'\n",
       "\\item 'nei'\n",
       "\\item 'negli'\n",
       "\\item 'nell'\n",
       "\\item 'negl'\n",
       "\\item 'nella'\n",
       "\\item 'nelle'\n",
       "\\item 'su'\n",
       "\\item 'sul'\n",
       "\\item 'sullo'\n",
       "\\item 'sui'\n",
       "\\item 'sugli'\n",
       "\\item 'sull'\n",
       "\\item 'sugl'\n",
       "\\item 'sulla'\n",
       "\\item 'sulle'\n",
       "\\item 'per'\n",
       "\\item 'tra'\n",
       "\\item 'contro'\n",
       "\\item 'io'\n",
       "\\item 'tu'\n",
       "\\item 'lui'\n",
       "\\item 'lei'\n",
       "\\item 'noi'\n",
       "\\item 'voi'\n",
       "\\item 'loro'\n",
       "\\item 'mio'\n",
       "\\item 'mia'\n",
       "\\item 'miei'\n",
       "\\item 'mie'\n",
       "\\item 'tuo'\n",
       "\\item 'tua'\n",
       "\\item 'tuoi'\n",
       "\\item 'tue'\n",
       "\\item 'suo'\n",
       "\\item 'sua'\n",
       "\\item 'suoi'\n",
       "\\item 'sue'\n",
       "\\item 'nostro'\n",
       "\\item 'nostra'\n",
       "\\item 'nostri'\n",
       "\\item 'nostre'\n",
       "\\item 'vostro'\n",
       "\\item 'vostra'\n",
       "\\item 'vostri'\n",
       "\\item 'vostre'\n",
       "\\item 'mi'\n",
       "\\item 'ti'\n",
       "\\item 'ci'\n",
       "\\item 'vi'\n",
       "\\item 'lo'\n",
       "\\item 'la'\n",
       "\\item 'li'\n",
       "\\item 'le'\n",
       "\\item 'gli'\n",
       "\\item 'ne'\n",
       "\\item 'il'\n",
       "\\item 'un'\n",
       "\\item 'uno'\n",
       "\\item 'una'\n",
       "\\item 'ma'\n",
       "\\item 'ed'\n",
       "\\item 'se'\n",
       "\\item 'perché'\n",
       "\\item 'anche'\n",
       "\\item 'come'\n",
       "\\item 'dov'\n",
       "\\item 'dove'\n",
       "\\item 'che'\n",
       "\\item 'chi'\n",
       "\\item 'cui'\n",
       "\\item 'non'\n",
       "\\item 'più'\n",
       "\\item 'quale'\n",
       "\\item 'quanto'\n",
       "\\item 'quanti'\n",
       "\\item 'quanta'\n",
       "\\item 'quante'\n",
       "\\item 'quello'\n",
       "\\item 'quelli'\n",
       "\\item 'quella'\n",
       "\\item 'quelle'\n",
       "\\item 'questo'\n",
       "\\item 'questi'\n",
       "\\item 'questa'\n",
       "\\item 'queste'\n",
       "\\item 'si'\n",
       "\\item 'tutto'\n",
       "\\item 'tutti'\n",
       "\\item 'a'\n",
       "\\item 'c'\n",
       "\\item 'e'\n",
       "\\item 'i'\n",
       "\\item 'l'\n",
       "\\item 'o'\n",
       "\\item 'ho'\n",
       "\\item 'hai'\n",
       "\\item 'ha'\n",
       "\\item 'abbiamo'\n",
       "\\item 'avete'\n",
       "\\item 'hanno'\n",
       "\\item 'abbia'\n",
       "\\item 'abbiate'\n",
       "\\item 'abbiano'\n",
       "\\item 'avrò'\n",
       "\\item 'avrai'\n",
       "\\item 'avrà'\n",
       "\\item 'avremo'\n",
       "\\item 'avrete'\n",
       "\\item 'avranno'\n",
       "\\item 'avrei'\n",
       "\\item 'avresti'\n",
       "\\item 'avrebbe'\n",
       "\\item 'avremmo'\n",
       "\\item 'avreste'\n",
       "\\item 'avrebbero'\n",
       "\\item 'avevo'\n",
       "\\item 'avevi'\n",
       "\\item 'aveva'\n",
       "\\item 'avevamo'\n",
       "\\item 'avevate'\n",
       "\\item 'avevano'\n",
       "\\item 'ebbi'\n",
       "\\item 'avesti'\n",
       "\\item 'ebbe'\n",
       "\\item 'avemmo'\n",
       "\\item 'aveste'\n",
       "\\item 'ebbero'\n",
       "\\item 'avessi'\n",
       "\\item 'avesse'\n",
       "\\item 'avessimo'\n",
       "\\item 'avessero'\n",
       "\\item 'avendo'\n",
       "\\item 'avuto'\n",
       "\\item 'avuta'\n",
       "\\item 'avuti'\n",
       "\\item 'avute'\n",
       "\\item 'sono'\n",
       "\\item 'sei'\n",
       "\\item 'è'\n",
       "\\item 'siamo'\n",
       "\\item 'siete'\n",
       "\\item 'sia'\n",
       "\\item 'siate'\n",
       "\\item 'siano'\n",
       "\\item 'sarò'\n",
       "\\item 'sarai'\n",
       "\\item 'sarà'\n",
       "\\item 'saremo'\n",
       "\\item 'sarete'\n",
       "\\item 'saranno'\n",
       "\\item 'sarei'\n",
       "\\item 'saresti'\n",
       "\\item 'sarebbe'\n",
       "\\item 'saremmo'\n",
       "\\item 'sareste'\n",
       "\\item 'sarebbero'\n",
       "\\item 'ero'\n",
       "\\item 'eri'\n",
       "\\item 'era'\n",
       "\\item 'eravamo'\n",
       "\\item 'eravate'\n",
       "\\item 'erano'\n",
       "\\item 'fui'\n",
       "\\item 'fosti'\n",
       "\\item 'fu'\n",
       "\\item 'fummo'\n",
       "\\item 'foste'\n",
       "\\item 'furono'\n",
       "\\item 'fossi'\n",
       "\\item 'fosse'\n",
       "\\item 'fossimo'\n",
       "\\item 'fossero'\n",
       "\\item 'essendo'\n",
       "\\item 'faccio'\n",
       "\\item 'fai'\n",
       "\\item 'facciamo'\n",
       "\\item 'fanno'\n",
       "\\item 'faccia'\n",
       "\\item 'facciate'\n",
       "\\item 'facciano'\n",
       "\\item 'farò'\n",
       "\\item 'farai'\n",
       "\\item 'farà'\n",
       "\\item 'faremo'\n",
       "\\item 'farete'\n",
       "\\item 'faranno'\n",
       "\\item 'farei'\n",
       "\\item 'faresti'\n",
       "\\item 'farebbe'\n",
       "\\item 'faremmo'\n",
       "\\item 'fareste'\n",
       "\\item 'farebbero'\n",
       "\\item 'facevo'\n",
       "\\item 'facevi'\n",
       "\\item 'faceva'\n",
       "\\item 'facevamo'\n",
       "\\item 'facevate'\n",
       "\\item 'facevano'\n",
       "\\item 'feci'\n",
       "\\item 'facesti'\n",
       "\\item 'fece'\n",
       "\\item 'facemmo'\n",
       "\\item 'faceste'\n",
       "\\item 'fecero'\n",
       "\\item 'facessi'\n",
       "\\item 'facesse'\n",
       "\\item 'facessimo'\n",
       "\\item 'facessero'\n",
       "\\item 'facendo'\n",
       "\\item 'sto'\n",
       "\\item 'stai'\n",
       "\\item 'sta'\n",
       "\\item 'stiamo'\n",
       "\\item 'stanno'\n",
       "\\item 'stia'\n",
       "\\item 'stiate'\n",
       "\\item 'stiano'\n",
       "\\item 'starò'\n",
       "\\item 'starai'\n",
       "\\item 'starà'\n",
       "\\item 'staremo'\n",
       "\\item 'starete'\n",
       "\\item 'staranno'\n",
       "\\item 'starei'\n",
       "\\item 'staresti'\n",
       "\\item 'starebbe'\n",
       "\\item 'staremmo'\n",
       "\\item 'stareste'\n",
       "\\item 'starebbero'\n",
       "\\item 'stavo'\n",
       "\\item 'stavi'\n",
       "\\item 'stava'\n",
       "\\item 'stavamo'\n",
       "\\item 'stavate'\n",
       "\\item 'stavano'\n",
       "\\item 'stetti'\n",
       "\\item 'stesti'\n",
       "\\item 'stette'\n",
       "\\item 'stemmo'\n",
       "\\item 'steste'\n",
       "\\item 'stettero'\n",
       "\\item 'stessi'\n",
       "\\item 'stesse'\n",
       "\\item 'stessimo'\n",
       "\\item 'stessero'\n",
       "\\item 'stando'\n",
       "\\end{enumerate*}\n"
      ],
      "text/markdown": [
       "1. 'ad'\n",
       "2. 'al'\n",
       "3. 'allo'\n",
       "4. 'ai'\n",
       "5. 'agli'\n",
       "6. 'all'\n",
       "7. 'agl'\n",
       "8. 'alla'\n",
       "9. 'alle'\n",
       "10. 'con'\n",
       "11. 'col'\n",
       "12. 'coi'\n",
       "13. 'da'\n",
       "14. 'dal'\n",
       "15. 'dallo'\n",
       "16. 'dai'\n",
       "17. 'dagli'\n",
       "18. 'dall'\n",
       "19. 'dagl'\n",
       "20. 'dalla'\n",
       "21. 'dalle'\n",
       "22. 'di'\n",
       "23. 'del'\n",
       "24. 'dello'\n",
       "25. 'dei'\n",
       "26. 'degli'\n",
       "27. 'dell'\n",
       "28. 'degl'\n",
       "29. 'della'\n",
       "30. 'delle'\n",
       "31. 'in'\n",
       "32. 'nel'\n",
       "33. 'nello'\n",
       "34. 'nei'\n",
       "35. 'negli'\n",
       "36. 'nell'\n",
       "37. 'negl'\n",
       "38. 'nella'\n",
       "39. 'nelle'\n",
       "40. 'su'\n",
       "41. 'sul'\n",
       "42. 'sullo'\n",
       "43. 'sui'\n",
       "44. 'sugli'\n",
       "45. 'sull'\n",
       "46. 'sugl'\n",
       "47. 'sulla'\n",
       "48. 'sulle'\n",
       "49. 'per'\n",
       "50. 'tra'\n",
       "51. 'contro'\n",
       "52. 'io'\n",
       "53. 'tu'\n",
       "54. 'lui'\n",
       "55. 'lei'\n",
       "56. 'noi'\n",
       "57. 'voi'\n",
       "58. 'loro'\n",
       "59. 'mio'\n",
       "60. 'mia'\n",
       "61. 'miei'\n",
       "62. 'mie'\n",
       "63. 'tuo'\n",
       "64. 'tua'\n",
       "65. 'tuoi'\n",
       "66. 'tue'\n",
       "67. 'suo'\n",
       "68. 'sua'\n",
       "69. 'suoi'\n",
       "70. 'sue'\n",
       "71. 'nostro'\n",
       "72. 'nostra'\n",
       "73. 'nostri'\n",
       "74. 'nostre'\n",
       "75. 'vostro'\n",
       "76. 'vostra'\n",
       "77. 'vostri'\n",
       "78. 'vostre'\n",
       "79. 'mi'\n",
       "80. 'ti'\n",
       "81. 'ci'\n",
       "82. 'vi'\n",
       "83. 'lo'\n",
       "84. 'la'\n",
       "85. 'li'\n",
       "86. 'le'\n",
       "87. 'gli'\n",
       "88. 'ne'\n",
       "89. 'il'\n",
       "90. 'un'\n",
       "91. 'uno'\n",
       "92. 'una'\n",
       "93. 'ma'\n",
       "94. 'ed'\n",
       "95. 'se'\n",
       "96. 'perché'\n",
       "97. 'anche'\n",
       "98. 'come'\n",
       "99. 'dov'\n",
       "100. 'dove'\n",
       "101. 'che'\n",
       "102. 'chi'\n",
       "103. 'cui'\n",
       "104. 'non'\n",
       "105. 'più'\n",
       "106. 'quale'\n",
       "107. 'quanto'\n",
       "108. 'quanti'\n",
       "109. 'quanta'\n",
       "110. 'quante'\n",
       "111. 'quello'\n",
       "112. 'quelli'\n",
       "113. 'quella'\n",
       "114. 'quelle'\n",
       "115. 'questo'\n",
       "116. 'questi'\n",
       "117. 'questa'\n",
       "118. 'queste'\n",
       "119. 'si'\n",
       "120. 'tutto'\n",
       "121. 'tutti'\n",
       "122. 'a'\n",
       "123. 'c'\n",
       "124. 'e'\n",
       "125. 'i'\n",
       "126. 'l'\n",
       "127. 'o'\n",
       "128. 'ho'\n",
       "129. 'hai'\n",
       "130. 'ha'\n",
       "131. 'abbiamo'\n",
       "132. 'avete'\n",
       "133. 'hanno'\n",
       "134. 'abbia'\n",
       "135. 'abbiate'\n",
       "136. 'abbiano'\n",
       "137. 'avrò'\n",
       "138. 'avrai'\n",
       "139. 'avrà'\n",
       "140. 'avremo'\n",
       "141. 'avrete'\n",
       "142. 'avranno'\n",
       "143. 'avrei'\n",
       "144. 'avresti'\n",
       "145. 'avrebbe'\n",
       "146. 'avremmo'\n",
       "147. 'avreste'\n",
       "148. 'avrebbero'\n",
       "149. 'avevo'\n",
       "150. 'avevi'\n",
       "151. 'aveva'\n",
       "152. 'avevamo'\n",
       "153. 'avevate'\n",
       "154. 'avevano'\n",
       "155. 'ebbi'\n",
       "156. 'avesti'\n",
       "157. 'ebbe'\n",
       "158. 'avemmo'\n",
       "159. 'aveste'\n",
       "160. 'ebbero'\n",
       "161. 'avessi'\n",
       "162. 'avesse'\n",
       "163. 'avessimo'\n",
       "164. 'avessero'\n",
       "165. 'avendo'\n",
       "166. 'avuto'\n",
       "167. 'avuta'\n",
       "168. 'avuti'\n",
       "169. 'avute'\n",
       "170. 'sono'\n",
       "171. 'sei'\n",
       "172. 'è'\n",
       "173. 'siamo'\n",
       "174. 'siete'\n",
       "175. 'sia'\n",
       "176. 'siate'\n",
       "177. 'siano'\n",
       "178. 'sarò'\n",
       "179. 'sarai'\n",
       "180. 'sarà'\n",
       "181. 'saremo'\n",
       "182. 'sarete'\n",
       "183. 'saranno'\n",
       "184. 'sarei'\n",
       "185. 'saresti'\n",
       "186. 'sarebbe'\n",
       "187. 'saremmo'\n",
       "188. 'sareste'\n",
       "189. 'sarebbero'\n",
       "190. 'ero'\n",
       "191. 'eri'\n",
       "192. 'era'\n",
       "193. 'eravamo'\n",
       "194. 'eravate'\n",
       "195. 'erano'\n",
       "196. 'fui'\n",
       "197. 'fosti'\n",
       "198. 'fu'\n",
       "199. 'fummo'\n",
       "200. 'foste'\n",
       "201. 'furono'\n",
       "202. 'fossi'\n",
       "203. 'fosse'\n",
       "204. 'fossimo'\n",
       "205. 'fossero'\n",
       "206. 'essendo'\n",
       "207. 'faccio'\n",
       "208. 'fai'\n",
       "209. 'facciamo'\n",
       "210. 'fanno'\n",
       "211. 'faccia'\n",
       "212. 'facciate'\n",
       "213. 'facciano'\n",
       "214. 'farò'\n",
       "215. 'farai'\n",
       "216. 'farà'\n",
       "217. 'faremo'\n",
       "218. 'farete'\n",
       "219. 'faranno'\n",
       "220. 'farei'\n",
       "221. 'faresti'\n",
       "222. 'farebbe'\n",
       "223. 'faremmo'\n",
       "224. 'fareste'\n",
       "225. 'farebbero'\n",
       "226. 'facevo'\n",
       "227. 'facevi'\n",
       "228. 'faceva'\n",
       "229. 'facevamo'\n",
       "230. 'facevate'\n",
       "231. 'facevano'\n",
       "232. 'feci'\n",
       "233. 'facesti'\n",
       "234. 'fece'\n",
       "235. 'facemmo'\n",
       "236. 'faceste'\n",
       "237. 'fecero'\n",
       "238. 'facessi'\n",
       "239. 'facesse'\n",
       "240. 'facessimo'\n",
       "241. 'facessero'\n",
       "242. 'facendo'\n",
       "243. 'sto'\n",
       "244. 'stai'\n",
       "245. 'sta'\n",
       "246. 'stiamo'\n",
       "247. 'stanno'\n",
       "248. 'stia'\n",
       "249. 'stiate'\n",
       "250. 'stiano'\n",
       "251. 'starò'\n",
       "252. 'starai'\n",
       "253. 'starà'\n",
       "254. 'staremo'\n",
       "255. 'starete'\n",
       "256. 'staranno'\n",
       "257. 'starei'\n",
       "258. 'staresti'\n",
       "259. 'starebbe'\n",
       "260. 'staremmo'\n",
       "261. 'stareste'\n",
       "262. 'starebbero'\n",
       "263. 'stavo'\n",
       "264. 'stavi'\n",
       "265. 'stava'\n",
       "266. 'stavamo'\n",
       "267. 'stavate'\n",
       "268. 'stavano'\n",
       "269. 'stetti'\n",
       "270. 'stesti'\n",
       "271. 'stette'\n",
       "272. 'stemmo'\n",
       "273. 'steste'\n",
       "274. 'stettero'\n",
       "275. 'stessi'\n",
       "276. 'stesse'\n",
       "277. 'stessimo'\n",
       "278. 'stessero'\n",
       "279. 'stando'\n",
       "\n",
       "\n"
      ],
      "text/plain": [
       "  [1] \"ad\"         \"al\"         \"allo\"       \"ai\"         \"agli\"      \n",
       "  [6] \"all\"        \"agl\"        \"alla\"       \"alle\"       \"con\"       \n",
       " [11] \"col\"        \"coi\"        \"da\"         \"dal\"        \"dallo\"     \n",
       " [16] \"dai\"        \"dagli\"      \"dall\"       \"dagl\"       \"dalla\"     \n",
       " [21] \"dalle\"      \"di\"         \"del\"        \"dello\"      \"dei\"       \n",
       " [26] \"degli\"      \"dell\"       \"degl\"       \"della\"      \"delle\"     \n",
       " [31] \"in\"         \"nel\"        \"nello\"      \"nei\"        \"negli\"     \n",
       " [36] \"nell\"       \"negl\"       \"nella\"      \"nelle\"      \"su\"        \n",
       " [41] \"sul\"        \"sullo\"      \"sui\"        \"sugli\"      \"sull\"      \n",
       " [46] \"sugl\"       \"sulla\"      \"sulle\"      \"per\"        \"tra\"       \n",
       " [51] \"contro\"     \"io\"         \"tu\"         \"lui\"        \"lei\"       \n",
       " [56] \"noi\"        \"voi\"        \"loro\"       \"mio\"        \"mia\"       \n",
       " [61] \"miei\"       \"mie\"        \"tuo\"        \"tua\"        \"tuoi\"      \n",
       " [66] \"tue\"        \"suo\"        \"sua\"        \"suoi\"       \"sue\"       \n",
       " [71] \"nostro\"     \"nostra\"     \"nostri\"     \"nostre\"     \"vostro\"    \n",
       " [76] \"vostra\"     \"vostri\"     \"vostre\"     \"mi\"         \"ti\"        \n",
       " [81] \"ci\"         \"vi\"         \"lo\"         \"la\"         \"li\"        \n",
       " [86] \"le\"         \"gli\"        \"ne\"         \"il\"         \"un\"        \n",
       " [91] \"uno\"        \"una\"        \"ma\"         \"ed\"         \"se\"        \n",
       " [96] \"perché\"     \"anche\"      \"come\"       \"dov\"        \"dove\"      \n",
       "[101] \"che\"        \"chi\"        \"cui\"        \"non\"        \"più\"       \n",
       "[106] \"quale\"      \"quanto\"     \"quanti\"     \"quanta\"     \"quante\"    \n",
       "[111] \"quello\"     \"quelli\"     \"quella\"     \"quelle\"     \"questo\"    \n",
       "[116] \"questi\"     \"questa\"     \"queste\"     \"si\"         \"tutto\"     \n",
       "[121] \"tutti\"      \"a\"          \"c\"          \"e\"          \"i\"         \n",
       "[126] \"l\"          \"o\"          \"ho\"         \"hai\"        \"ha\"        \n",
       "[131] \"abbiamo\"    \"avete\"      \"hanno\"      \"abbia\"      \"abbiate\"   \n",
       "[136] \"abbiano\"    \"avrò\"       \"avrai\"      \"avrà\"       \"avremo\"    \n",
       "[141] \"avrete\"     \"avranno\"    \"avrei\"      \"avresti\"    \"avrebbe\"   \n",
       "[146] \"avremmo\"    \"avreste\"    \"avrebbero\"  \"avevo\"      \"avevi\"     \n",
       "[151] \"aveva\"      \"avevamo\"    \"avevate\"    \"avevano\"    \"ebbi\"      \n",
       "[156] \"avesti\"     \"ebbe\"       \"avemmo\"     \"aveste\"     \"ebbero\"    \n",
       "[161] \"avessi\"     \"avesse\"     \"avessimo\"   \"avessero\"   \"avendo\"    \n",
       "[166] \"avuto\"      \"avuta\"      \"avuti\"      \"avute\"      \"sono\"      \n",
       "[171] \"sei\"        \"è\"          \"siamo\"      \"siete\"      \"sia\"       \n",
       "[176] \"siate\"      \"siano\"      \"sarò\"       \"sarai\"      \"sarà\"      \n",
       "[181] \"saremo\"     \"sarete\"     \"saranno\"    \"sarei\"      \"saresti\"   \n",
       "[186] \"sarebbe\"    \"saremmo\"    \"sareste\"    \"sarebbero\"  \"ero\"       \n",
       "[191] \"eri\"        \"era\"        \"eravamo\"    \"eravate\"    \"erano\"     \n",
       "[196] \"fui\"        \"fosti\"      \"fu\"         \"fummo\"      \"foste\"     \n",
       "[201] \"furono\"     \"fossi\"      \"fosse\"      \"fossimo\"    \"fossero\"   \n",
       "[206] \"essendo\"    \"faccio\"     \"fai\"        \"facciamo\"   \"fanno\"     \n",
       "[211] \"faccia\"     \"facciate\"   \"facciano\"   \"farò\"       \"farai\"     \n",
       "[216] \"farà\"       \"faremo\"     \"farete\"     \"faranno\"    \"farei\"     \n",
       "[221] \"faresti\"    \"farebbe\"    \"faremmo\"    \"fareste\"    \"farebbero\" \n",
       "[226] \"facevo\"     \"facevi\"     \"faceva\"     \"facevamo\"   \"facevate\"  \n",
       "[231] \"facevano\"   \"feci\"       \"facesti\"    \"fece\"       \"facemmo\"   \n",
       "[236] \"faceste\"    \"fecero\"     \"facessi\"    \"facesse\"    \"facessimo\" \n",
       "[241] \"facessero\"  \"facendo\"    \"sto\"        \"stai\"       \"sta\"       \n",
       "[246] \"stiamo\"     \"stanno\"     \"stia\"       \"stiate\"     \"stiano\"    \n",
       "[251] \"starò\"      \"starai\"     \"starà\"      \"staremo\"    \"starete\"   \n",
       "[256] \"staranno\"   \"starei\"     \"staresti\"   \"starebbe\"   \"staremmo\"  \n",
       "[261] \"stareste\"   \"starebbero\" \"stavo\"      \"stavi\"      \"stava\"     \n",
       "[266] \"stavamo\"    \"stavate\"    \"stavano\"    \"stetti\"     \"stesti\"    \n",
       "[271] \"stette\"     \"stemmo\"     \"steste\"     \"stettero\"   \"stessi\"    \n",
       "[276] \"stesse\"     \"stessimo\"   \"stessero\"   \"stando\"    "
      ]
     },
     "metadata": {},
     "output_type": "display_data"
    }
   ],
   "source": [
    "stopwords(kind = \"it\")"
   ]
  },
  {
   "cell_type": "code",
   "execution_count": 21,
   "metadata": {},
   "outputs": [
    {
     "data": {
      "text/html": [
       "'Go until jurong point, crazy.. Available only in bugis n great world la e buffet... Cine there got amore wat...'"
      ],
      "text/latex": [
       "'Go until jurong point, crazy.. Available only in bugis n great world la e buffet... Cine there got amore wat...'"
      ],
      "text/markdown": [
       "'Go until jurong point, crazy.. Available only in bugis n great world la e buffet... Cine there got amore wat...'"
      ],
      "text/plain": [
       "[1] \"Go until jurong point, crazy.. Available only in bugis n great world la e buffet... Cine there got amore wat...\""
      ]
     },
     "metadata": {},
     "output_type": "display_data"
    },
    {
     "data": {
      "text/html": [
       "<span style=white-space:pre-wrap>'go  jurong point, crazy.. available   bugis n great world la e buffet... cine  got amore wat...'</span>"
      ],
      "text/latex": [
       "'go  jurong point, crazy.. available   bugis n great world la e buffet... cine  got amore wat...'"
      ],
      "text/markdown": [
       "<span style=white-space:pre-wrap>'go  jurong point, crazy.. available   bugis n great world la e buffet... cine  got amore wat...'</span>"
      ],
      "text/plain": [
       "[1] \"go  jurong point, crazy.. available   bugis n great world la e buffet... cine  got amore wat...\""
      ]
     },
     "metadata": {},
     "output_type": "display_data"
    }
   ],
   "source": [
    "as.character(sms_corpus[[1]])\n",
    "as.character(sms_corpus_clean[[1]])"
   ]
  },
  {
   "cell_type": "code",
   "execution_count": 22,
   "metadata": {},
   "outputs": [],
   "source": [
    "sms_corpus_clean <- tm_map(sms_corpus_clean, removePunctuation)"
   ]
  },
  {
   "cell_type": "code",
   "execution_count": 23,
   "metadata": {},
   "outputs": [
    {
     "data": {
      "text/html": [
       "'Go until jurong point, crazy.. Available only in bugis n great world la e buffet... Cine there got amore wat...'"
      ],
      "text/latex": [
       "'Go until jurong point, crazy.. Available only in bugis n great world la e buffet... Cine there got amore wat...'"
      ],
      "text/markdown": [
       "'Go until jurong point, crazy.. Available only in bugis n great world la e buffet... Cine there got amore wat...'"
      ],
      "text/plain": [
       "[1] \"Go until jurong point, crazy.. Available only in bugis n great world la e buffet... Cine there got amore wat...\""
      ]
     },
     "metadata": {},
     "output_type": "display_data"
    },
    {
     "data": {
      "text/html": [
       "<span style=white-space:pre-wrap>'go  jurong point crazy available   bugis n great world la e buffet cine  got amore wat'</span>"
      ],
      "text/latex": [
       "'go  jurong point crazy available   bugis n great world la e buffet cine  got amore wat'"
      ],
      "text/markdown": [
       "<span style=white-space:pre-wrap>'go  jurong point crazy available   bugis n great world la e buffet cine  got amore wat'</span>"
      ],
      "text/plain": [
       "[1] \"go  jurong point crazy available   bugis n great world la e buffet cine  got amore wat\""
      ]
     },
     "metadata": {},
     "output_type": "display_data"
    }
   ],
   "source": [
    "as.character(sms_corpus[[1]])\n",
    "as.character(sms_corpus_clean[[1]])"
   ]
  },
  {
   "cell_type": "markdown",
   "metadata": {},
   "source": [
    "**Stemming** - Another common standardization for text data involves reducing words to their root\n",
    "form in a process called stemming. The stemming process takes words like learned,\n",
    "learning, and learns, and strips the suffix in order to transform them into the base\n",
    "form, learn. This allows machine learning algorithms to treat the related terms as a\n",
    "single concept rather than attempting to learn a pattern for each variant."
   ]
  },
  {
   "cell_type": "code",
   "execution_count": 25,
   "metadata": {},
   "outputs": [],
   "source": [
    "library(SnowballC)"
   ]
  },
  {
   "cell_type": "code",
   "execution_count": 26,
   "metadata": {},
   "outputs": [
    {
     "data": {
      "text/html": [
       "<ol class=list-inline>\n",
       "\t<li>'learn'</li>\n",
       "\t<li>'learn'</li>\n",
       "\t<li>'learn'</li>\n",
       "\t<li>'learn'</li>\n",
       "</ol>\n"
      ],
      "text/latex": [
       "\\begin{enumerate*}\n",
       "\\item 'learn'\n",
       "\\item 'learn'\n",
       "\\item 'learn'\n",
       "\\item 'learn'\n",
       "\\end{enumerate*}\n"
      ],
      "text/markdown": [
       "1. 'learn'\n",
       "2. 'learn'\n",
       "3. 'learn'\n",
       "4. 'learn'\n",
       "\n",
       "\n"
      ],
      "text/plain": [
       "[1] \"learn\" \"learn\" \"learn\" \"learn\""
      ]
     },
     "metadata": {},
     "output_type": "display_data"
    }
   ],
   "source": [
    "wordStem(c(\"learn\", \"learned\", \"learning\", \"learns\"))"
   ]
  },
  {
   "cell_type": "code",
   "execution_count": 27,
   "metadata": {},
   "outputs": [],
   "source": [
    "sms_corpus_clean <- tm_map(sms_corpus_clean, stemDocument, language='english')\n",
    "sms_corpus_clean <- tm_map(sms_corpus_clean, stripWhitespace)"
   ]
  },
  {
   "cell_type": "code",
   "execution_count": 28,
   "metadata": {},
   "outputs": [
    {
     "data": {
      "text/html": [
       "<dl>\n",
       "\t<dt>$`1`</dt>\n",
       "\t\t<dd>'Go until jurong point, crazy.. Available only in bugis n great world la e buffet... Cine there got amore wat...'</dd>\n",
       "\t<dt>$`2`</dt>\n",
       "\t\t<dd>'Ok lar... Joking wif u oni...'</dd>\n",
       "\t<dt>$`3`</dt>\n",
       "\t\t<dd>'Free entry in 2 a wkly comp to win FA Cup final tkts 21st May 2005. Text FA to 87121 to receive entry question(std txt rate)T&amp;C\\'s apply 08452810075over18\\'s'</dd>\n",
       "</dl>\n"
      ],
      "text/latex": [
       "\\begin{description}\n",
       "\\item[\\$`1`] 'Go until jurong point, crazy.. Available only in bugis n great world la e buffet... Cine there got amore wat...'\n",
       "\\item[\\$`2`] 'Ok lar... Joking wif u oni...'\n",
       "\\item[\\$`3`] 'Free entry in 2 a wkly comp to win FA Cup final tkts 21st May 2005. Text FA to 87121 to receive entry question(std txt rate)T\\&C\\textbackslash{}'s apply 08452810075over18\\textbackslash{}'s'\n",
       "\\end{description}\n"
      ],
      "text/markdown": [
       "$`1`\n",
       ":   'Go until jurong point, crazy.. Available only in bugis n great world la e buffet... Cine there got amore wat...'\n",
       "$`2`\n",
       ":   'Ok lar... Joking wif u oni...'\n",
       "$`3`\n",
       ":   'Free entry in 2 a wkly comp to win FA Cup final tkts 21st May 2005. Text FA to 87121 to receive entry question(std txt rate)T&amp;C\\'s apply 08452810075over18\\'s'\n",
       "\n",
       "\n"
      ],
      "text/plain": [
       "$`1`\n",
       "[1] \"Go until jurong point, crazy.. Available only in bugis n great world la e buffet... Cine there got amore wat...\"\n",
       "\n",
       "$`2`\n",
       "[1] \"Ok lar... Joking wif u oni...\"\n",
       "\n",
       "$`3`\n",
       "[1] \"Free entry in 2 a wkly comp to win FA Cup final tkts 21st May 2005. Text FA to 87121 to receive entry question(std txt rate)T&C's apply 08452810075over18's\"\n"
      ]
     },
     "metadata": {},
     "output_type": "display_data"
    },
    {
     "data": {
      "text/html": [
       "<dl>\n",
       "\t<dt>$`1`</dt>\n",
       "\t\t<dd>'go jurong point crazi avail bugi n great world la e buffet cine got amor wat'</dd>\n",
       "\t<dt>$`2`</dt>\n",
       "\t\t<dd>'ok lar joke wif u oni'</dd>\n",
       "\t<dt>$`3`</dt>\n",
       "\t\t<dd>'free entri wkli comp win fa cup final tkts st may text fa receiv entri questionstd txt ratetc appli s'</dd>\n",
       "</dl>\n"
      ],
      "text/latex": [
       "\\begin{description}\n",
       "\\item[\\$`1`] 'go jurong point crazi avail bugi n great world la e buffet cine got amor wat'\n",
       "\\item[\\$`2`] 'ok lar joke wif u oni'\n",
       "\\item[\\$`3`] 'free entri wkli comp win fa cup final tkts st may text fa receiv entri questionstd txt ratetc appli s'\n",
       "\\end{description}\n"
      ],
      "text/markdown": [
       "$`1`\n",
       ":   'go jurong point crazi avail bugi n great world la e buffet cine got amor wat'\n",
       "$`2`\n",
       ":   'ok lar joke wif u oni'\n",
       "$`3`\n",
       ":   'free entri wkli comp win fa cup final tkts st may text fa receiv entri questionstd txt ratetc appli s'\n",
       "\n",
       "\n"
      ],
      "text/plain": [
       "$`1`\n",
       "[1] \"go jurong point crazi avail bugi n great world la e buffet cine got amor wat\"\n",
       "\n",
       "$`2`\n",
       "[1] \"ok lar joke wif u oni\"\n",
       "\n",
       "$`3`\n",
       "[1] \"free entri wkli comp win fa cup final tkts st may text fa receiv entri questionstd txt ratetc appli s\"\n"
      ]
     },
     "metadata": {},
     "output_type": "display_data"
    }
   ],
   "source": [
    "lapply(sms_corpus[1:3],       as.character)\n",
    "lapply(sms_corpus_clean[1:3], as.character)"
   ]
  },
  {
   "cell_type": "code",
   "execution_count": 30,
   "metadata": {},
   "outputs": [
    {
     "name": "stderr",
     "output_type": "stream",
     "text": [
      "Loading required package: RColorBrewer\n"
     ]
    },
    {
     "data": {
      "image/png": "[encoded data removed]",
      "text/plain": [
       "plot without title"
      ]
     },
     "metadata": {},
     "output_type": "display_data"
    }
   ],
   "source": [
    "library(wordcloud)\n",
    "\n",
    "wordcloud(sms_corpus_clean, min.freq = 50, random.order = FALSE)"
   ]
  },
  {
   "cell_type": "markdown",
   "metadata": {},
   "source": [
    "***Step 3 - Data Preparation - Splitting Text Documents into Words***\n",
    "\n",
    "Now that the data are processed to our liking, the final step is to split the messages\n",
    "into individual components through a process called tokenization. A token is a\n",
    "single element of a text string; in this case, the tokens are words. The tm package provides functionality to tokenize the SMS message corpus. The DocumentTermMatrix() function will take a corpus and create\n",
    "a data structure called a Document Term Matrix (DTM) in which rows indicate\n",
    "documents (SMS messages) and columns indicate terms (words)."
   ]
  },
  {
   "cell_type": "code",
   "execution_count": 31,
   "metadata": {},
   "outputs": [
    {
     "data": {
      "text/plain": [
       "<<DocumentTermMatrix (documents: 5574, terms: 6611)>>\n",
       "Non-/sparse entries: 42653/36807061\n",
       "Sparsity           : 100%\n",
       "Maximal term length: 40\n",
       "Weighting          : term frequency (tf)"
      ]
     },
     "metadata": {},
     "output_type": "display_data"
    }
   ],
   "source": [
    "sms_dtm <- DocumentTermMatrix(sms_corpus_clean)\n",
    "sms_dtm"
   ]
  },
  {
   "cell_type": "markdown",
   "metadata": {},
   "source": [
    "[Aggiungere Esempio]\n",
    "\n",
    "The differences between these two cases illustrate an important principle of cleaning\n",
    "text data: **the order of operations matters**. With this in mind, it is very important\n",
    "to think through how early steps in the process are going to affect later ones. The\n",
    "order presented here will work in many cases, but when the process is tailored more\n",
    "carefully to specific datasets and use cases, it may require rethinking. For example,\n",
    "if there are certain terms you hope to exclude from the matrix, consider whether you\n",
    "should search for them before or after stemming. Also, consider how the removal\n",
    "of punctuation—and whether the punctuation is eliminated or replaced by blank\n",
    "space—affects these steps."
   ]
  },
  {
   "cell_type": "markdown",
   "metadata": {},
   "source": [
    "***Step 4 - Data Preparation - Creating Training and Test Datasets***\n",
    "\n",
    "\n",
    "\n",
    "\n"
   ]
  },
  {
   "cell_type": "code",
   "execution_count": 32,
   "metadata": {},
   "outputs": [],
   "source": [
    "sms_dtm_train <- sms_dtm[1:4169, ]\n",
    "sms_dtm_test  <- sms_dtm[4170:5559, ]"
   ]
  },
  {
   "cell_type": "code",
   "execution_count": 33,
   "metadata": {},
   "outputs": [],
   "source": [
    "sms_train_labels <- sms_raw[1:4169, ]$type\n",
    "sms_test_labels  <- sms_raw[4170:5559, ]$type"
   ]
  },
  {
   "cell_type": "markdown",
   "metadata": {},
   "source": [
    "To confirm that the subsets are representative of the complete set of SMS data, let's\n",
    "compare the proportion of spam in the training and test data frames:"
   ]
  },
  {
   "cell_type": "code",
   "execution_count": 34,
   "metadata": {},
   "outputs": [
    {
     "data": {
      "text/plain": [
       "sms_train_labels\n",
       "      ham      spam \n",
       "0.8647158 0.1352842 "
      ]
     },
     "metadata": {},
     "output_type": "display_data"
    }
   ],
   "source": [
    "prop.table(table(sms_train_labels))"
   ]
  },
  {
   "cell_type": "code",
   "execution_count": 35,
   "metadata": {},
   "outputs": [
    {
     "data": {
      "text/plain": [
       "sms_test_labels\n",
       "      ham      spam \n",
       "0.8697842 0.1302158 "
      ]
     },
     "metadata": {},
     "output_type": "display_data"
    }
   ],
   "source": [
    "prop.table(table(sms_test_labels))"
   ]
  },
  {
   "cell_type": "code",
   "execution_count": 36,
   "metadata": {},
   "outputs": [],
   "source": [
    "spam <- subset(sms_raw, type == \"spam\")\n",
    "ham <- subset(sms_raw, type == \"ham\")"
   ]
  },
  {
   "cell_type": "code",
   "execution_count": 38,
   "metadata": {},
   "outputs": [
    {
     "name": "stderr",
     "output_type": "stream",
     "text": [
      "Warning message in tm_map.SimpleCorpus(corpus, tm::removePunctuation):\n",
      "\"transformation drops documents\"Warning message in tm_map.SimpleCorpus(corpus, function(x) tm::removeWords(x, tm::stopwords())):\n",
      "\"transformation drops documents\"Warning message in tm_map.SimpleCorpus(corpus, tm::removePunctuation):\n",
      "\"transformation drops documents\"Warning message in tm_map.SimpleCorpus(corpus, function(x) tm::removeWords(x, tm::stopwords())):\n",
      "\"transformation drops documents\""
     ]
    },
    {
     "data": {
      "image/png": "[encoded data removed]",
      "text/plain": [
       "plot without title"
      ]
     },
     "metadata": {},
     "output_type": "display_data"
    }
   ],
   "source": [
    "#options(warn=-1)\n",
    "library(stringr)\n",
    "#\n",
    "options(repr.plot.width=12, repr.plot.height=8)\n",
    "par(mfrow=c(1, 2))\n",
    "#\n",
    "# la chiamata seguente serve ad eliminare tutti i simboli grafici dal testo\n",
    "# vedi : https://stackoverflow.com/questions/9637278/r-tm-package-invalid-input-in-utf8towcs \n",
    "#\n",
    "usableTextSpam <- str_replace_all(spam$text,\"[^[:graph:]]\", \" \") \n",
    "usableTextHam  <- str_replace_all(ham$text,\"[^[:graph:]]\", \" \") \n",
    "\n",
    "wordcloud(usableTextSpam, max.words = 50, scale = c(3, 0.5), random.color=TRUE, random.order = FALSE)\n",
    "wordcloud(usableTextHam,  max.words = 50, scale = c(3, 0.5), random.color=TRUE, random.order = FALSE)"
   ]
  },
  {
   "cell_type": "markdown",
   "metadata": {},
   "source": [
    "***Step 5 - Data Preparation - Creating Indicator Features for Frequent Words***"
   ]
  },
  {
   "cell_type": "markdown",
   "metadata": {},
   "source": [
    "The final step in the data preparation process is to transform the sparse matrix into a\n",
    "data structure that can be used to train a Naive Bayes classifier. Currently, the sparse\n",
    "matrix includes over 6,500 features; this is a feature for every word that appears in at\n",
    "least one SMS message. It's unlikely that all of these are useful for classification. To\n",
    "reduce the number of features, we will eliminate any word that appear in less than five\n",
    "SMS messages, or in less than about 0.1 percent of the records in the training data.\n",
    "Finding frequent words requires use of the `findFreqTerms()` function in the\n",
    "tm package. This function takes a DTM and returns a character vector containing\n",
    "the words that appear for at least the specified number of times. For instance,\n",
    "the following command will display the words appearing at least five times in\n",
    "the sms_dtm_train matrix:"
   ]
  },
  {
   "cell_type": "code",
   "execution_count": 39,
   "metadata": {},
   "outputs": [],
   "source": [
    "sms_freq_words <- findFreqTerms(sms_dtm_train, 5)"
   ]
  },
  {
   "cell_type": "markdown",
   "metadata": {},
   "source": [
    "We now need to filter our DTM to include only the terms appearing in a specified\n",
    "vector. As done earlier, we'll use the data frame style `[row, col]` operations to\n",
    "request specific portions of the DTM, noting that the columns are named after the\n",
    "words the DTM contains. We can take advantage of this to limit the DTM to specific\n",
    "words. Since we want all the rows, but only the columns representing the words in\n",
    "the `sms_freq_words vector`, our commands are:"
   ]
  },
  {
   "cell_type": "code",
   "execution_count": 40,
   "metadata": {},
   "outputs": [],
   "source": [
    "sms_dtm_freq_train <- sms_dtm_train[ , sms_freq_words]\n",
    "sms_dtm_freq_test  <- sms_dtm_test [ , sms_freq_words]"
   ]
  },
  {
   "cell_type": "code",
   "execution_count": 41,
   "metadata": {},
   "outputs": [],
   "source": [
    "convert_counts <- function(x) {\n",
    "    x <- ifelse(x > 0, \"Yes\", \"No\")\n",
    "}"
   ]
  },
  {
   "cell_type": "code",
   "execution_count": 42,
   "metadata": {},
   "outputs": [],
   "source": [
    "sms_train <- apply(sms_dtm_freq_train, MARGIN = 2, convert_counts)\n",
    "sms_test  <- apply(sms_dtm_freq_test,  MARGIN = 2, convert_counts)"
   ]
  },
  {
   "cell_type": "markdown",
   "metadata": {
    "collapsed": true
   },
   "source": [
    "***Step 6 - Training a Model on the Data***"
   ]
  },
  {
   "cell_type": "code",
   "execution_count": 44,
   "metadata": {},
   "outputs": [],
   "source": [
    "library(e1071)\n",
    "\n",
    "sms_classifier <- naiveBayes(sms_train, sms_train_labels)"
   ]
  },
  {
   "cell_type": "code",
   "execution_count": null,
   "metadata": {},
   "outputs": [],
   "source": [
    "sms_test_pred <- predict(sms_classifier, sms_test)"
   ]
  },
  {
   "cell_type": "raw",
   "metadata": {},
   "source": [
    "library(gmodels)\n",
    "\n",
    "CrossTable(sms_test_pred, sms_test_labels, prop.chisq = FALSE, prop.t = FALSE, dnn = c('predicted', 'actual'))  "
   ]
  },
  {
   "cell_type": "markdown",
   "metadata": {},
   "source": [
    "**Example: Document Cluster**"
   ]
  }
 ],
 "metadata": {
  "anaconda-cloud": {},
  "kernelspec": {
   "display_name": "R",
   "language": "R",
   "name": "ir"
  },
  "language_info": {
   "codemirror_mode": "r",
   "file_extension": ".r",
   "mimetype": "text/x-r-source",
   "name": "R",
   "pygments_lexer": "r",
   "version": "3.6.1"
  }
 },
 "nbformat": 4,
 "nbformat_minor": 1
}
