{
 "cells": [
  {
   "cell_type": "markdown",
   "metadata": {
    "collapsed": true
   },
   "source": [
    "** Algorithm Description **"
   ]
  },
  {
   "cell_type": "markdown",
   "metadata": {},
   "source": [
    "TO BE DONE"
   ]
  },
  {
   "cell_type": "markdown",
   "metadata": {
    "collapsed": true
   },
   "source": [
    "**Example: Filtering Mobile Phone Spam**\n",
    "\n",
    "***Step 1 - Exploring and Preparing the Data***\n",
    "\n",
    "The first step towards constructing our classifier involves processing the raw data for\n",
    "analysis. Text data are challenging to prepare, because it is necessary to transform the\n",
    "words and sentences into a form that a computer can understand. We will transform\n",
    "our data into a representation known as bag-of-words, which ignores word order and\n",
    "simply provides a variable indicating whether the word appears at all. \n",
    "\n",
    "Data are downnloaded from [Machine-Learning-with-R-dataset](https://github.com/stedy/Machine-Learning-with-R-datasets), a complete description can be found at [SMS Spam Collection](http://www.dt.fee.unicamp.br/~tiago/smsspamcollection/).\n"
   ]
  },
  {
   "cell_type": "code",
   "execution_count": 215,
   "metadata": {
    "collapsed": false
   },
   "outputs": [
    {
     "name": "stdout",
     "output_type": "stream",
     "text": [
      "Current working folder is ' :  C:/Users/T004314/Documents/GitHub/working/01_Machine_Learning/01_Appunti/Dati"
     ]
    }
   ],
   "source": [
    "# Definition of Working Folder\n",
    "\n",
    "Dirname <- \"/working/01_Machine_Learning/01_Appunti\"\n",
    "Dirs <- list.dirs(path=file.path(\"~\"),recursive=T)\n",
    "dir_wd <- names(unlist(sapply(Dirs,grep,pattern=Dirname))[1])\n",
    "dir_wd <- paste(dir_wd,'Dati',sep='/')\n",
    "setwd(dir_wd)\n",
    "cat(\"Current working folder is ' : \", getwd())"
   ]
  },
  {
   "cell_type": "code",
   "execution_count": 216,
   "metadata": {
    "collapsed": false
   },
   "outputs": [],
   "source": [
    "sms_raw <- read.csv(\"sms_spam.csv\", stringsAsFactors = FALSE)"
   ]
  },
  {
   "cell_type": "code",
   "execution_count": 217,
   "metadata": {
    "collapsed": false
   },
   "outputs": [
    {
     "name": "stdout",
     "output_type": "stream",
     "text": [
      "'data.frame':\t5574 obs. of  2 variables:\n",
      " $ type: chr  \"ham\" \"ham\" \"spam\" \"ham\" ...\n",
      " $ text: chr  \"Go until jurong point, crazy.. Available only in bugis n great world la e buffet... Cine there got amore wat...\" \"Ok lar... Joking wif u oni...\" \"Free entry in 2 a wkly comp to win FA Cup final tkts 21st May 2005. Text FA to 87121 to receive entry question(\"| __truncated__ \"U dun say so early hor... U c already then say...\" ...\n"
     ]
    }
   ],
   "source": [
    "str(sms_raw)"
   ]
  },
  {
   "cell_type": "markdown",
   "metadata": {},
   "source": [
    "The type element is currently a character vector. Since this is a categorical variable, it\n",
    "would be better to convert it into a factor, as shown in the following code:"
   ]
  },
  {
   "cell_type": "code",
   "execution_count": 218,
   "metadata": {
    "collapsed": true
   },
   "outputs": [],
   "source": [
    "sms_raw$type <- factor(sms_raw$type)"
   ]
  },
  {
   "cell_type": "code",
   "execution_count": 219,
   "metadata": {
    "collapsed": false
   },
   "outputs": [
    {
     "name": "stdout",
     "output_type": "stream",
     "text": [
      " Factor w/ 2 levels \"ham\",\"spam\": 1 1 2 1 1 2 1 1 2 2 ...\n"
     ]
    }
   ],
   "source": [
    "str(sms_raw$type)"
   ]
  },
  {
   "cell_type": "code",
   "execution_count": 220,
   "metadata": {
    "collapsed": false
   },
   "outputs": [
    {
     "data": {
      "text/plain": [
       "\n",
       " ham spam \n",
       "4827  747 "
      ]
     },
     "metadata": {},
     "output_type": "display_data"
    }
   ],
   "source": [
    "table(sms_raw$type)"
   ]
  },
  {
   "cell_type": "markdown",
   "metadata": {},
   "source": [
    "***Step 2 - Data Preparation - Cleaning and Standardizing Text Data***\n",
    "\n",
    "SMS messages are strings of text composed of words, spaces, numbers, and\n",
    "punctuation. Handling this type of complex data takes a lot of thought and\n",
    "effort. One needs to consider how to remove numbers and punctuation; handle\n",
    "uninteresting words such as and, but, and or; and how to break apart sentences into\n",
    "individual words. \n",
    "\n",
    "This functionality has been provided by the members\n",
    "of the R community in a text mining package titled tm. To learn more, see [Feinerer I, Hornik K, Meyer D. Text\n",
    "Mining Infrastructure in R. Journal of Statistical Software. 2008; 25:1-54](https://www.jstatsoft.org/article/view/v025i05) or digit the R command `vignette(\"tm\")`.\n",
    "\n",
    "The tm package can be installed via the install.packages(\"tm\") command\n",
    "and loaded with the library(tm) command.\n"
   ]
  },
  {
   "cell_type": "code",
   "execution_count": 221,
   "metadata": {
    "collapsed": false
   },
   "outputs": [],
   "source": [
    "library(tm)"
   ]
  },
  {
   "cell_type": "markdown",
   "metadata": {},
   "source": [
    "The first step in processing text data involves creating a corpus, which is a collection\n",
    "of text documents. The documents can be short or long, from individual news\n",
    "articles, pages in a book or on the web, or entire books. In our case, the corpus\n",
    "will be a collection of SMS messages."
   ]
  },
  {
   "cell_type": "markdown",
   "metadata": {},
   "source": [
    "In order to create a corpus, we'll use the `VCorpus()` function in the `tm` package,\n",
    "which refers to a volatile corpus—volatile as it is stored in memory as opposed to\n",
    "being stored on disk (the `PCorpus()` function can be used to access a permanent\n",
    "corpus stored in a database). This function requires us to specify the source of\n",
    "documents for the corpus, which could be from a computer's filesystem, a database,\n",
    "the Web, or elsewhere. Since we already loaded the SMS message text into R, we'll\n",
    "use the `VectorSource()` reader function to create a source object from the existing\n",
    "`sms_raw$text` vector, which can then be supplied to `VCorpus()` as follows:"
   ]
  },
  {
   "cell_type": "code",
   "execution_count": 222,
   "metadata": {
    "collapsed": false
   },
   "outputs": [],
   "source": [
    "sms_corpus <- VCorpus(VectorSource(sms_raw$text))"
   ]
  },
  {
   "cell_type": "markdown",
   "metadata": {},
   "source": [
    "To view an actual message text, the `as.character()` function must be applied to\n",
    "the desired messages. To view one message, use the `as.character()` function on\n",
    "a single list element, noting that the double-bracket notation is required:"
   ]
  },
  {
   "cell_type": "code",
   "execution_count": 223,
   "metadata": {
    "collapsed": false
   },
   "outputs": [
    {
     "data": {
      "text/html": [
       "'Go until jurong point, crazy.. Available only in bugis n great world la e buffet... Cine there got amore wat...'"
      ],
      "text/latex": [
       "'Go until jurong point, crazy.. Available only in bugis n great world la e buffet... Cine there got amore wat...'"
      ],
      "text/markdown": [
       "'Go until jurong point, crazy.. Available only in bugis n great world la e buffet... Cine there got amore wat...'"
      ],
      "text/plain": [
       "[1] \"Go until jurong point, crazy.. Available only in bugis n great world la e buffet... Cine there got amore wat...\""
      ]
     },
     "metadata": {},
     "output_type": "display_data"
    }
   ],
   "source": [
    "as.character(sms_corpus[[1]])"
   ]
  },
  {
   "cell_type": "code",
   "execution_count": 224,
   "metadata": {
    "collapsed": false
   },
   "outputs": [
    {
     "data": {
      "text/html": [
       "<dl>\n",
       "\t<dt>$`1`</dt>\n",
       "\t\t<dd>'Go until jurong point, crazy.. Available only in bugis n great world la e buffet... Cine there got amore wat...'</dd>\n",
       "\t<dt>$`2`</dt>\n",
       "\t\t<dd>'Ok lar... Joking wif u oni...'</dd>\n",
       "\t<dt>$`3`</dt>\n",
       "\t\t<dd>'Free entry in 2 a wkly comp to win FA Cup final tkts 21st May 2005. Text FA to 87121 to receive entry question(std txt rate)T&amp;C\\'s apply 08452810075over18\\'s'</dd>\n",
       "\t<dt>$`4`</dt>\n",
       "\t\t<dd>'U dun say so early hor... U c already then say...'</dd>\n",
       "\t<dt>$`5`</dt>\n",
       "\t\t<dd>'Nah I don\\'t think he goes to usf, he lives around here though'</dd>\n",
       "\t<dt>$`6`</dt>\n",
       "\t\t<dd>'FreeMsg Hey there darling it\\'s been 3 week\\'s now and no word back! I\\'d like some fun you up for it still? Tb ok! XxX std chgs to send, Â£1.50 to rcv'</dd>\n",
       "\t<dt>$`7`</dt>\n",
       "\t\t<dd>'Even my brother is not like to speak with me. They treat me like aids patent.'</dd>\n",
       "\t<dt>$`8`</dt>\n",
       "\t\t<dd>'As per your request \\'Melle Melle (Oru Minnaminunginte Nurungu Vettam)\\' has been set as your callertune for all Callers. Press *9 to copy your friends Callertune'</dd>\n",
       "\t<dt>$`9`</dt>\n",
       "\t\t<dd>'WINNER!! As a valued network customer you have been selected to receivea Â£900 prize reward! To claim call 09061701461. Claim code KL341. Valid 12 hours only.'</dd>\n",
       "\t<dt>$`10`</dt>\n",
       "\t\t<dd>'Had your mobile 11 months or more? U R entitled to Update to the latest colour mobiles with camera for Free! Call The Mobile Update Co FREE on 08002986030'</dd>\n",
       "</dl>\n"
      ],
      "text/latex": [
       "\\begin{description}\n",
       "\\item[\\$`1`] 'Go until jurong point, crazy.. Available only in bugis n great world la e buffet... Cine there got amore wat...'\n",
       "\\item[\\$`2`] 'Ok lar... Joking wif u oni...'\n",
       "\\item[\\$`3`] 'Free entry in 2 a wkly comp to win FA Cup final tkts 21st May 2005. Text FA to 87121 to receive entry question(std txt rate)T\\&C\\textbackslash{}'s apply 08452810075over18\\textbackslash{}'s'\n",
       "\\item[\\$`4`] 'U dun say so early hor... U c already then say...'\n",
       "\\item[\\$`5`] 'Nah I don\\textbackslash{}'t think he goes to usf, he lives around here though'\n",
       "\\item[\\$`6`] 'FreeMsg Hey there darling it\\textbackslash{}'s been 3 week\\textbackslash{}'s now and no word back! I\\textbackslash{}'d like some fun you up for it still? Tb ok! XxX std chgs to send, Â£1.50 to rcv'\n",
       "\\item[\\$`7`] 'Even my brother is not like to speak with me. They treat me like aids patent.'\n",
       "\\item[\\$`8`] 'As per your request \\textbackslash{}'Melle Melle (Oru Minnaminunginte Nurungu Vettam)\\textbackslash{}' has been set as your callertune for all Callers. Press *9 to copy your friends Callertune'\n",
       "\\item[\\$`9`] 'WINNER!! As a valued network customer you have been selected to receivea Â£900 prize reward! To claim call 09061701461. Claim code KL341. Valid 12 hours only.'\n",
       "\\item[\\$`10`] 'Had your mobile 11 months or more? U R entitled to Update to the latest colour mobiles with camera for Free! Call The Mobile Update Co FREE on 08002986030'\n",
       "\\end{description}\n"
      ],
      "text/markdown": [
       "$`1`\n",
       ":   'Go until jurong point, crazy.. Available only in bugis n great world la e buffet... Cine there got amore wat...'\n",
       "$`2`\n",
       ":   'Ok lar... Joking wif u oni...'\n",
       "$`3`\n",
       ":   'Free entry in 2 a wkly comp to win FA Cup final tkts 21st May 2005. Text FA to 87121 to receive entry question(std txt rate)T&amp;C\\'s apply 08452810075over18\\'s'\n",
       "$`4`\n",
       ":   'U dun say so early hor... U c already then say...'\n",
       "$`5`\n",
       ":   'Nah I don\\'t think he goes to usf, he lives around here though'\n",
       "$`6`\n",
       ":   'FreeMsg Hey there darling it\\'s been 3 week\\'s now and no word back! I\\'d like some fun you up for it still? Tb ok! XxX std chgs to send, Â£1.50 to rcv'\n",
       "$`7`\n",
       ":   'Even my brother is not like to speak with me. They treat me like aids patent.'\n",
       "$`8`\n",
       ":   'As per your request \\'Melle Melle (Oru Minnaminunginte Nurungu Vettam)\\' has been set as your callertune for all Callers. Press *9 to copy your friends Callertune'\n",
       "$`9`\n",
       ":   'WINNER!! As a valued network customer you have been selected to receivea Â£900 prize reward! To claim call 09061701461. Claim code KL341. Valid 12 hours only.'\n",
       "$`10`\n",
       ":   'Had your mobile 11 months or more? U R entitled to Update to the latest colour mobiles with camera for Free! Call The Mobile Update Co FREE on 08002986030'\n",
       "\n",
       "\n"
      ],
      "text/plain": [
       "$`1`\n",
       "[1] \"Go until jurong point, crazy.. Available only in bugis n great world la e buffet... Cine there got amore wat...\"\n",
       "\n",
       "$`2`\n",
       "[1] \"Ok lar... Joking wif u oni...\"\n",
       "\n",
       "$`3`\n",
       "[1] \"Free entry in 2 a wkly comp to win FA Cup final tkts 21st May 2005. Text FA to 87121 to receive entry question(std txt rate)T&C's apply 08452810075over18's\"\n",
       "\n",
       "$`4`\n",
       "[1] \"U dun say so early hor... U c already then say...\"\n",
       "\n",
       "$`5`\n",
       "[1] \"Nah I don't think he goes to usf, he lives around here though\"\n",
       "\n",
       "$`6`\n",
       "[1] \"FreeMsg Hey there darling it's been 3 week's now and no word back! I'd like some fun you up for it still? Tb ok! XxX std chgs to send, Â£1.50 to rcv\"\n",
       "\n",
       "$`7`\n",
       "[1] \"Even my brother is not like to speak with me. They treat me like aids patent.\"\n",
       "\n",
       "$`8`\n",
       "[1] \"As per your request 'Melle Melle (Oru Minnaminunginte Nurungu Vettam)' has been set as your callertune for all Callers. Press *9 to copy your friends Callertune\"\n",
       "\n",
       "$`9`\n",
       "[1] \"WINNER!! As a valued network customer you have been selected to receivea Â£900 prize reward! To claim call 09061701461. Claim code KL341. Valid 12 hours only.\"\n",
       "\n",
       "$`10`\n",
       "[1] \"Had your mobile 11 months or more? U R entitled to Update to the latest colour mobiles with camera for Free! Call The Mobile Update Co FREE on 08002986030\"\n"
      ]
     },
     "metadata": {},
     "output_type": "display_data"
    }
   ],
   "source": [
    "lapply(sms_corpus[1:10], as.character)"
   ]
  },
  {
   "cell_type": "markdown",
   "metadata": {},
   "source": [
    "As noted earlier, the corpus contains the raw text of 5,559 text messages. In order\n",
    "to perform our analysis, we need to divide these messages into individual words.\n",
    "But first, we need to clean the text, in order to standardize the words, by removing\n",
    "punctuation and other characters that clutter the result. For example, we would like\n",
    "the strings Hello!, HELLO, and hello to be counted as instances of the same word."
   ]
  },
  {
   "cell_type": "markdown",
   "metadata": {},
   "source": [
    "The `tm_map()` function provides a method to apply a transformation (also known\n",
    "as mapping) to a tm corpus. We will use this function to clean up our corpus using a\n",
    "series of transformations and save the result in a new object called `corpus_clean`."
   ]
  },
  {
   "cell_type": "markdown",
   "metadata": {},
   "source": [
    "Our first order of business will be to standardize the messages to use only lowercase\n",
    "characters. To this end, R provides a `tolower()` function that returns a lowercase\n",
    "version of text strings. In order to apply this function to the corpus, we need to\n",
    "use the tm wrapper function `content_transformer()` to treat `tolower()` as a\n",
    "transformation function that can be used to access the corpus. The full command is\n",
    "as follows:"
   ]
  },
  {
   "cell_type": "code",
   "execution_count": 225,
   "metadata": {
    "collapsed": false
   },
   "outputs": [
    {
     "data": {
      "text/html": [
       "'Free entry in 2 a wkly comp to win FA Cup final tkts 21st May 2005. Text FA to 87121 to receive entry question(std txt rate)T&amp;C\\'s apply 08452810075over18\\'s'"
      ],
      "text/latex": [
       "'Free entry in 2 a wkly comp to win FA Cup final tkts 21st May 2005. Text FA to 87121 to receive entry question(std txt rate)T\\&C\\textbackslash{}'s apply 08452810075over18\\textbackslash{}'s'"
      ],
      "text/markdown": [
       "'Free entry in 2 a wkly comp to win FA Cup final tkts 21st May 2005. Text FA to 87121 to receive entry question(std txt rate)T&amp;C\\'s apply 08452810075over18\\'s'"
      ],
      "text/plain": [
       "[1] \"Free entry in 2 a wkly comp to win FA Cup final tkts 21st May 2005. Text FA to 87121 to receive entry question(std txt rate)T&C's apply 08452810075over18's\""
      ]
     },
     "metadata": {},
     "output_type": "display_data"
    },
    {
     "data": {
      "text/html": [
       "'free entry in 2 a wkly comp to win fa cup final tkts 21st may 2005. text fa to 87121 to receive entry question(std txt rate)t&amp;c\\'s apply 08452810075over18\\'s'"
      ],
      "text/latex": [
       "'free entry in 2 a wkly comp to win fa cup final tkts 21st may 2005. text fa to 87121 to receive entry question(std txt rate)t\\&c\\textbackslash{}'s apply 08452810075over18\\textbackslash{}'s'"
      ],
      "text/markdown": [
       "'free entry in 2 a wkly comp to win fa cup final tkts 21st may 2005. text fa to 87121 to receive entry question(std txt rate)t&amp;c\\'s apply 08452810075over18\\'s'"
      ],
      "text/plain": [
       "[1] \"free entry in 2 a wkly comp to win fa cup final tkts 21st may 2005. text fa to 87121 to receive entry question(std txt rate)t&c's apply 08452810075over18's\""
      ]
     },
     "metadata": {},
     "output_type": "display_data"
    }
   ],
   "source": [
    "sms_corpus_clean <- tm_map(sms_corpus,content_transformer(tolower))\n",
    "as.character(sms_corpus[[3]])\n",
    "as.character(sms_corpus_clean[[3]])"
   ]
  },
  {
   "cell_type": "code",
   "execution_count": 226,
   "metadata": {
    "collapsed": false
   },
   "outputs": [],
   "source": [
    "sms_corpus_clean <- tm_map(sms_corpus_clean, removeNumbers)"
   ]
  },
  {
   "cell_type": "code",
   "execution_count": 227,
   "metadata": {
    "collapsed": false
   },
   "outputs": [
    {
     "data": {
      "text/html": [
       "'Free entry in 2 a wkly comp to win FA Cup final tkts 21st May 2005. Text FA to 87121 to receive entry question(std txt rate)T&amp;C\\'s apply 08452810075over18\\'s'"
      ],
      "text/latex": [
       "'Free entry in 2 a wkly comp to win FA Cup final tkts 21st May 2005. Text FA to 87121 to receive entry question(std txt rate)T\\&C\\textbackslash{}'s apply 08452810075over18\\textbackslash{}'s'"
      ],
      "text/markdown": [
       "'Free entry in 2 a wkly comp to win FA Cup final tkts 21st May 2005. Text FA to 87121 to receive entry question(std txt rate)T&amp;C\\'s apply 08452810075over18\\'s'"
      ],
      "text/plain": [
       "[1] \"Free entry in 2 a wkly comp to win FA Cup final tkts 21st May 2005. Text FA to 87121 to receive entry question(std txt rate)T&C's apply 08452810075over18's\""
      ]
     },
     "metadata": {},
     "output_type": "display_data"
    },
    {
     "data": {
      "text/html": [
       "<span style=white-space:pre-wrap>'free entry in  a wkly comp to win fa cup final tkts st may . text fa to  to receive entry question(std txt rate)t&amp;c\\'s apply over\\'s'</span>"
      ],
      "text/latex": [
       "'free entry in  a wkly comp to win fa cup final tkts st may . text fa to  to receive entry question(std txt rate)t\\&c\\textbackslash{}'s apply over\\textbackslash{}'s'"
      ],
      "text/markdown": [
       "<span style=white-space:pre-wrap>'free entry in  a wkly comp to win fa cup final tkts st may . text fa to  to receive entry question(std txt rate)t&amp;c\\'s apply over\\'s'</span>"
      ],
      "text/plain": [
       "[1] \"free entry in  a wkly comp to win fa cup final tkts st may . text fa to  to receive entry question(std txt rate)t&c's apply over's\""
      ]
     },
     "metadata": {},
     "output_type": "display_data"
    }
   ],
   "source": [
    "as.character(sms_corpus[[3]])\n",
    "as.character(sms_corpus_clean[[3]])"
   ]
  },
  {
   "cell_type": "code",
   "execution_count": 228,
   "metadata": {
    "collapsed": true
   },
   "outputs": [],
   "source": [
    "sms_corpus_clean <- tm_map(sms_corpus_clean,removeWords, stopwords())"
   ]
  },
  {
   "cell_type": "code",
   "execution_count": 229,
   "metadata": {
    "collapsed": false
   },
   "outputs": [
    {
     "data": {
      "text/html": [
       "'Go until jurong point, crazy.. Available only in bugis n great world la e buffet... Cine there got amore wat...'"
      ],
      "text/latex": [
       "'Go until jurong point, crazy.. Available only in bugis n great world la e buffet... Cine there got amore wat...'"
      ],
      "text/markdown": [
       "'Go until jurong point, crazy.. Available only in bugis n great world la e buffet... Cine there got amore wat...'"
      ],
      "text/plain": [
       "[1] \"Go until jurong point, crazy.. Available only in bugis n great world la e buffet... Cine there got amore wat...\""
      ]
     },
     "metadata": {},
     "output_type": "display_data"
    },
    {
     "data": {
      "text/html": [
       "<span style=white-space:pre-wrap>'go  jurong point, crazy.. available   bugis n great world la e buffet... cine  got amore wat...'</span>"
      ],
      "text/latex": [
       "'go  jurong point, crazy.. available   bugis n great world la e buffet... cine  got amore wat...'"
      ],
      "text/markdown": [
       "<span style=white-space:pre-wrap>'go  jurong point, crazy.. available   bugis n great world la e buffet... cine  got amore wat...'</span>"
      ],
      "text/plain": [
       "[1] \"go  jurong point, crazy.. available   bugis n great world la e buffet... cine  got amore wat...\""
      ]
     },
     "metadata": {},
     "output_type": "display_data"
    }
   ],
   "source": [
    "as.character(sms_corpus[[1]])\n",
    "as.character(sms_corpus_clean[[1]])"
   ]
  },
  {
   "cell_type": "code",
   "execution_count": 230,
   "metadata": {
    "collapsed": false
   },
   "outputs": [],
   "source": [
    "sms_corpus_clean <- tm_map(sms_corpus_clean, removePunctuation)"
   ]
  },
  {
   "cell_type": "code",
   "execution_count": 231,
   "metadata": {
    "collapsed": false
   },
   "outputs": [
    {
     "data": {
      "text/html": [
       "'Go until jurong point, crazy.. Available only in bugis n great world la e buffet... Cine there got amore wat...'"
      ],
      "text/latex": [
       "'Go until jurong point, crazy.. Available only in bugis n great world la e buffet... Cine there got amore wat...'"
      ],
      "text/markdown": [
       "'Go until jurong point, crazy.. Available only in bugis n great world la e buffet... Cine there got amore wat...'"
      ],
      "text/plain": [
       "[1] \"Go until jurong point, crazy.. Available only in bugis n great world la e buffet... Cine there got amore wat...\""
      ]
     },
     "metadata": {},
     "output_type": "display_data"
    },
    {
     "data": {
      "text/html": [
       "<span style=white-space:pre-wrap>'go  jurong point crazy available   bugis n great world la e buffet cine  got amore wat'</span>"
      ],
      "text/latex": [
       "'go  jurong point crazy available   bugis n great world la e buffet cine  got amore wat'"
      ],
      "text/markdown": [
       "<span style=white-space:pre-wrap>'go  jurong point crazy available   bugis n great world la e buffet cine  got amore wat'</span>"
      ],
      "text/plain": [
       "[1] \"go  jurong point crazy available   bugis n great world la e buffet cine  got amore wat\""
      ]
     },
     "metadata": {},
     "output_type": "display_data"
    }
   ],
   "source": [
    "as.character(sms_corpus[[1]])\n",
    "as.character(sms_corpus_clean[[1]])"
   ]
  },
  {
   "cell_type": "markdown",
   "metadata": {},
   "source": [
    "**Stemming** - Another common standardization for text data involves reducing words to their root\n",
    "form in a process called stemming. The stemming process takes words like learned,\n",
    "learning, and learns, and strips the suffix in order to transform them into the base\n",
    "form, learn. This allows machine learning algorithms to treat the related terms as a\n",
    "single concept rather than attempting to learn a pattern for each variant."
   ]
  },
  {
   "cell_type": "code",
   "execution_count": 232,
   "metadata": {
    "collapsed": true
   },
   "outputs": [],
   "source": [
    "library(SnowballC)"
   ]
  },
  {
   "cell_type": "code",
   "execution_count": 233,
   "metadata": {
    "collapsed": false
   },
   "outputs": [
    {
     "data": {
      "text/html": [
       "<ol class=list-inline>\n",
       "\t<li>'learn'</li>\n",
       "\t<li>'learn'</li>\n",
       "\t<li>'learn'</li>\n",
       "\t<li>'learn'</li>\n",
       "</ol>\n"
      ],
      "text/latex": [
       "\\begin{enumerate*}\n",
       "\\item 'learn'\n",
       "\\item 'learn'\n",
       "\\item 'learn'\n",
       "\\item 'learn'\n",
       "\\end{enumerate*}\n"
      ],
      "text/markdown": [
       "1. 'learn'\n",
       "2. 'learn'\n",
       "3. 'learn'\n",
       "4. 'learn'\n",
       "\n",
       "\n"
      ],
      "text/plain": [
       "[1] \"learn\" \"learn\" \"learn\" \"learn\""
      ]
     },
     "metadata": {},
     "output_type": "display_data"
    }
   ],
   "source": [
    "wordStem(c(\"learn\", \"learned\", \"learning\", \"learns\"))"
   ]
  },
  {
   "cell_type": "code",
   "execution_count": 234,
   "metadata": {
    "collapsed": true
   },
   "outputs": [],
   "source": [
    "sms_corpus_clean <- tm_map(sms_corpus_clean, stemDocument)\n",
    "sms_corpus_clean <- tm_map(sms_corpus_clean, stripWhitespace)"
   ]
  },
  {
   "cell_type": "code",
   "execution_count": 235,
   "metadata": {
    "collapsed": false
   },
   "outputs": [
    {
     "data": {
      "text/html": [
       "<dl>\n",
       "\t<dt>$`1`</dt>\n",
       "\t\t<dd>'Go until jurong point, crazy.. Available only in bugis n great world la e buffet... Cine there got amore wat...'</dd>\n",
       "\t<dt>$`2`</dt>\n",
       "\t\t<dd>'Ok lar... Joking wif u oni...'</dd>\n",
       "\t<dt>$`3`</dt>\n",
       "\t\t<dd>'Free entry in 2 a wkly comp to win FA Cup final tkts 21st May 2005. Text FA to 87121 to receive entry question(std txt rate)T&amp;C\\'s apply 08452810075over18\\'s'</dd>\n",
       "</dl>\n"
      ],
      "text/latex": [
       "\\begin{description}\n",
       "\\item[\\$`1`] 'Go until jurong point, crazy.. Available only in bugis n great world la e buffet... Cine there got amore wat...'\n",
       "\\item[\\$`2`] 'Ok lar... Joking wif u oni...'\n",
       "\\item[\\$`3`] 'Free entry in 2 a wkly comp to win FA Cup final tkts 21st May 2005. Text FA to 87121 to receive entry question(std txt rate)T\\&C\\textbackslash{}'s apply 08452810075over18\\textbackslash{}'s'\n",
       "\\end{description}\n"
      ],
      "text/markdown": [
       "$`1`\n",
       ":   'Go until jurong point, crazy.. Available only in bugis n great world la e buffet... Cine there got amore wat...'\n",
       "$`2`\n",
       ":   'Ok lar... Joking wif u oni...'\n",
       "$`3`\n",
       ":   'Free entry in 2 a wkly comp to win FA Cup final tkts 21st May 2005. Text FA to 87121 to receive entry question(std txt rate)T&amp;C\\'s apply 08452810075over18\\'s'\n",
       "\n",
       "\n"
      ],
      "text/plain": [
       "$`1`\n",
       "[1] \"Go until jurong point, crazy.. Available only in bugis n great world la e buffet... Cine there got amore wat...\"\n",
       "\n",
       "$`2`\n",
       "[1] \"Ok lar... Joking wif u oni...\"\n",
       "\n",
       "$`3`\n",
       "[1] \"Free entry in 2 a wkly comp to win FA Cup final tkts 21st May 2005. Text FA to 87121 to receive entry question(std txt rate)T&C's apply 08452810075over18's\"\n"
      ]
     },
     "metadata": {},
     "output_type": "display_data"
    },
    {
     "data": {
      "text/html": [
       "<dl>\n",
       "\t<dt>$`1`</dt>\n",
       "\t\t<dd>'go jurong point crazi avail bugi n great world la e buffet cine got amor wat'</dd>\n",
       "\t<dt>$`2`</dt>\n",
       "\t\t<dd>'ok lar joke wif u oni'</dd>\n",
       "\t<dt>$`3`</dt>\n",
       "\t\t<dd>'free entri wkli comp win fa cup final tkts st may text fa receiv entri questionstd txt ratetc appli s'</dd>\n",
       "</dl>\n"
      ],
      "text/latex": [
       "\\begin{description}\n",
       "\\item[\\$`1`] 'go jurong point crazi avail bugi n great world la e buffet cine got amor wat'\n",
       "\\item[\\$`2`] 'ok lar joke wif u oni'\n",
       "\\item[\\$`3`] 'free entri wkli comp win fa cup final tkts st may text fa receiv entri questionstd txt ratetc appli s'\n",
       "\\end{description}\n"
      ],
      "text/markdown": [
       "$`1`\n",
       ":   'go jurong point crazi avail bugi n great world la e buffet cine got amor wat'\n",
       "$`2`\n",
       ":   'ok lar joke wif u oni'\n",
       "$`3`\n",
       ":   'free entri wkli comp win fa cup final tkts st may text fa receiv entri questionstd txt ratetc appli s'\n",
       "\n",
       "\n"
      ],
      "text/plain": [
       "$`1`\n",
       "[1] \"go jurong point crazi avail bugi n great world la e buffet cine got amor wat\"\n",
       "\n",
       "$`2`\n",
       "[1] \"ok lar joke wif u oni\"\n",
       "\n",
       "$`3`\n",
       "[1] \"free entri wkli comp win fa cup final tkts st may text fa receiv entri questionstd txt ratetc appli s\"\n"
      ]
     },
     "metadata": {},
     "output_type": "display_data"
    }
   ],
   "source": [
    "lapply(sms_corpus[1:3], as.character)\n",
    "lapply(sms_corpus_clean[1:3], as.character)"
   ]
  },
  {
   "cell_type": "code",
   "execution_count": 236,
   "metadata": {
    "collapsed": false
   },
   "outputs": [
    {
     "data": {
      "image/png": "[encoded data removed]",
      "text/plain": [
       "plot without title"
      ]
     },
     "metadata": {},
     "output_type": "display_data"
    }
   ],
   "source": [
    "library(wordcloud)\n",
    "\n",
    "wordcloud(sms_corpus_clean, min.freq = 50, random.order = FALSE)"
   ]
  },
  {
   "cell_type": "markdown",
   "metadata": {},
   "source": [
    "***Step 3 - Data Preparation - Splitting Text Documents into Words***\n",
    "\n",
    "Now that the data are processed to our liking, the final step is to split the messages\n",
    "into individual components through a process called tokenization. A token is a\n",
    "single element of a text string; in this case, the tokens are words. The tm package provides functionality to tokenize the SMS message corpus. The DocumentTermMatrix() function will take a corpus and create\n",
    "a data structure called a Document Term Matrix (DTM) in which rows indicate\n",
    "documents (SMS messages) and columns indicate terms (words)."
   ]
  },
  {
   "cell_type": "code",
   "execution_count": 237,
   "metadata": {
    "collapsed": false
   },
   "outputs": [
    {
     "data": {
      "text/plain": [
       "<<DocumentTermMatrix (documents: 5574, terms: 6611)>>\n",
       "Non-/sparse entries: 42653/36807061\n",
       "Sparsity           : 100%\n",
       "Maximal term length: 40\n",
       "Weighting          : term frequency (tf)"
      ]
     },
     "metadata": {},
     "output_type": "display_data"
    }
   ],
   "source": [
    "sms_dtm <- DocumentTermMatrix(sms_corpus_clean)\n",
    "sms_dtm"
   ]
  },
  {
   "cell_type": "markdown",
   "metadata": {},
   "source": [
    "[Aggiungere Esempio]\n",
    "\n",
    "The differences between these two cases illustrate an important principle of cleaning\n",
    "text data: **the order of operations matters**. With this in mind, it is very important\n",
    "to think through how early steps in the process are going to affect later ones. The\n",
    "order presented here will work in many cases, but when the process is tailored more\n",
    "carefully to specific datasets and use cases, it may require rethinking. For example,\n",
    "if there are certain terms you hope to exclude from the matrix, consider whether you\n",
    "should search for them before or after stemming. Also, consider how the removal\n",
    "of punctuation—and whether the punctuation is eliminated or replaced by blank\n",
    "space—affects these steps."
   ]
  },
  {
   "cell_type": "markdown",
   "metadata": {},
   "source": [
    "***Step 4 - Data Preparation - Creating Training and Test Datasets***\n",
    "\n",
    "\n",
    "\n",
    "\n"
   ]
  },
  {
   "cell_type": "code",
   "execution_count": 238,
   "metadata": {
    "collapsed": true
   },
   "outputs": [],
   "source": [
    "sms_dtm_train <- sms_dtm[1:4169, ]\n",
    "sms_dtm_test  <- sms_dtm[4170:5559, ]"
   ]
  },
  {
   "cell_type": "code",
   "execution_count": 239,
   "metadata": {
    "collapsed": true
   },
   "outputs": [],
   "source": [
    "sms_train_labels <- sms_raw[1:4169, ]$type\n",
    "sms_test_labels  <- sms_raw[4170:5559, ]$type"
   ]
  },
  {
   "cell_type": "markdown",
   "metadata": {},
   "source": [
    "To confirm that the subsets are representative of the complete set of SMS data, let's\n",
    "compare the proportion of spam in the training and test data frames:"
   ]
  },
  {
   "cell_type": "code",
   "execution_count": 240,
   "metadata": {
    "collapsed": false
   },
   "outputs": [
    {
     "data": {
      "text/plain": [
       "sms_train_labels\n",
       "      ham      spam \n",
       "0.8647158 0.1352842 "
      ]
     },
     "metadata": {},
     "output_type": "display_data"
    }
   ],
   "source": [
    "prop.table(table(sms_train_labels))"
   ]
  },
  {
   "cell_type": "code",
   "execution_count": 241,
   "metadata": {
    "collapsed": false
   },
   "outputs": [
    {
     "data": {
      "text/plain": [
       "sms_test_labels\n",
       "      ham      spam \n",
       "0.8697842 0.1302158 "
      ]
     },
     "metadata": {},
     "output_type": "display_data"
    }
   ],
   "source": [
    "prop.table(table(sms_test_labels))"
   ]
  },
  {
   "cell_type": "code",
   "execution_count": 242,
   "metadata": {
    "collapsed": true
   },
   "outputs": [],
   "source": [
    "spam <- subset(sms_raw, type == \"spam\")\n",
    "ham <- subset(sms_raw, type == \"ham\")"
   ]
  },
  {
   "cell_type": "code",
   "execution_count": 243,
   "metadata": {
    "collapsed": false
   },
   "outputs": [
    {
     "data": {
      "image/png": "[encoded data removed]",
      "text/plain": [
       "plot without title"
      ]
     },
     "metadata": {},
     "output_type": "display_data"
    }
   ],
   "source": [
    "#options(warn=-1)\n",
    "library(stringr)\n",
    "#\n",
    "options(repr.plot.width=12, repr.plot.height=8)\n",
    "par(mfrow=c(1, 2))\n",
    "#\n",
    "# la chiamata seguente serve ad eliminare tutti i simboli grafici dal testo\n",
    "# vedi : https://stackoverflow.com/questions/9637278/r-tm-package-invalid-input-in-utf8towcs \n",
    "#\n",
    "usableTextSpam <- str_replace_all(spam$text,\"[^[:graph:]]\", \" \") \n",
    "usableTextHam  <- str_replace_all(ham$text,\"[^[:graph:]]\", \" \") \n",
    "\n",
    "wordcloud(usableTextSpam, max.words = 50, scale = c(3, 0.5), random.color=TRUE, random.order = FALSE)\n",
    "wordcloud(usableTextHam,  max.words = 50, scale = c(3, 0.5), random.color=TRUE, random.order = FALSE)"
   ]
  },
  {
   "cell_type": "markdown",
   "metadata": {},
   "source": [
    "***Step 5 - Data Preparation - Creating Indicator Features for Frequent Words***"
   ]
  },
  {
   "cell_type": "markdown",
   "metadata": {},
   "source": [
    "The final step in the data preparation process is to transform the sparse matrix into a\n",
    "data structure that can be used to train a Naive Bayes classifier. Currently, the sparse\n",
    "matrix includes over 6,500 features; this is a feature for every word that appears in at\n",
    "least one SMS message. It's unlikely that all of these are useful for classification. To\n",
    "reduce the number of features, we will eliminate any word that appear in less than five\n",
    "SMS messages, or in less than about 0.1 percent of the records in the training data.\n",
    "Finding frequent words requires use of the `findFreqTerms()` function in the\n",
    "tm package. This function takes a DTM and returns a character vector containing\n",
    "the words that appear for at least the specified number of times. For instance,\n",
    "the following command will display the words appearing at least five times in\n",
    "the sms_dtm_train matrix:"
   ]
  },
  {
   "cell_type": "code",
   "execution_count": 244,
   "metadata": {
    "collapsed": false
   },
   "outputs": [],
   "source": [
    "sms_freq_words <- findFreqTerms(sms_dtm_train, 5)"
   ]
  },
  {
   "cell_type": "markdown",
   "metadata": {},
   "source": [
    "We now need to filter our DTM to include only the terms appearing in a specified\n",
    "vector. As done earlier, we'll use the data frame style `[row, col]` operations to\n",
    "request specific portions of the DTM, noting that the columns are named after the\n",
    "words the DTM contains. We can take advantage of this to limit the DTM to specific\n",
    "words. Since we want all the rows, but only the columns representing the words in\n",
    "the `sms_freq_words vector`, our commands are:"
   ]
  },
  {
   "cell_type": "code",
   "execution_count": 245,
   "metadata": {
    "collapsed": true
   },
   "outputs": [],
   "source": [
    "sms_dtm_freq_train <- sms_dtm_train[ , sms_freq_words]\n",
    "sms_dtm_freq_test  <- sms_dtm_test [ , sms_freq_words]"
   ]
  },
  {
   "cell_type": "code",
   "execution_count": 246,
   "metadata": {
    "collapsed": true
   },
   "outputs": [],
   "source": [
    "convert_counts <- function(x) {\n",
    "    x <- ifelse(x > 0, \"Yes\", \"No\")\n",
    "}"
   ]
  },
  {
   "cell_type": "code",
   "execution_count": 247,
   "metadata": {
    "collapsed": true
   },
   "outputs": [],
   "source": [
    "sms_train <- apply(sms_dtm_freq_train, MARGIN = 2, convert_counts)\n",
    "sms_test  <- apply(sms_dtm_freq_test,  MARGIN = 2, convert_counts)"
   ]
  },
  {
   "cell_type": "markdown",
   "metadata": {
    "collapsed": true
   },
   "source": [
    "***Step 6 - Training a Model on the Data***"
   ]
  },
  {
   "cell_type": "code",
   "execution_count": 248,
   "metadata": {
    "collapsed": true
   },
   "outputs": [],
   "source": [
    "library(e1071)\n",
    "\n",
    "sms_classifier <- naiveBayes(sms_train, sms_train_labels)"
   ]
  },
  {
   "cell_type": "code",
   "execution_count": 249,
   "metadata": {
    "collapsed": false
   },
   "outputs": [],
   "source": [
    "sms_test_pred <- predict(sms_classifier, sms_test)"
   ]
  },
  {
   "cell_type": "raw",
   "metadata": {},
   "source": [
    "library(gmodels)\n",
    "\n",
    "CrossTable(sms_test_pred, sms_test_labels, prop.chisq = FALSE, prop.t = FALSE, dnn = c('predicted', 'actual'))  "
   ]
  },
  {
   "cell_type": "code",
   "execution_count": null,
   "metadata": {
    "collapsed": true
   },
   "outputs": [],
   "source": []
  },
  {
   "cell_type": "code",
   "execution_count": null,
   "metadata": {
    "collapsed": true
   },
   "outputs": [],
   "source": []
  },
  {
   "cell_type": "code",
   "execution_count": null,
   "metadata": {
    "collapsed": true
   },
   "outputs": [],
   "source": []
  },
  {
   "cell_type": "code",
   "execution_count": null,
   "metadata": {
    "collapsed": true
   },
   "outputs": [],
   "source": []
  },
  {
   "cell_type": "code",
   "execution_count": null,
   "metadata": {
    "collapsed": true
   },
   "outputs": [],
   "source": []
  },
  {
   "cell_type": "code",
   "execution_count": null,
   "metadata": {
    "collapsed": true
   },
   "outputs": [],
   "source": []
  },
  {
   "cell_type": "code",
   "execution_count": null,
   "metadata": {
    "collapsed": true
   },
   "outputs": [],
   "source": []
  },
  {
   "cell_type": "markdown",
   "metadata": {},
   "source": [
    "**Example: Document Cluster**"
   ]
  }
 ],
 "metadata": {
  "anaconda-cloud": {},
  "kernelspec": {
   "display_name": "R",
   "language": "R",
   "name": "ir"
  },
  "language_info": {
   "codemirror_mode": "r",
   "file_extension": ".r",
   "mimetype": "text/x-r-source",
   "name": "R",
   "pygments_lexer": "r",
   "version": "3.5.0"
  }
 },
 "nbformat": 4,
 "nbformat_minor": 1
}
