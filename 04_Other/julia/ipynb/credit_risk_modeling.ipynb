{
 "cells": [
  {
   "cell_type": "markdown",
   "metadata": {},
   "source": [
    "# Esempi tratti da \"Credit Risk Modeling using Excel and VBA\""
   ]
  },
  {
   "cell_type": "markdown",
   "metadata": {},
   "source": [
    "## Chapter 3 - Transition Matrices"
   ]
  },
  {
   "cell_type": "markdown",
   "metadata": {},
   "source": [
    "### Cohort Approach"
   ]
  },
  {
   "cell_type": "markdown",
   "metadata": {},
   "source": [
    "Reading rating transition data from csv file"
   ]
  },
  {
   "cell_type": "code",
   "execution_count": 1,
   "metadata": {
    "collapsed": false
   },
   "outputs": [
    {
     "ename": "LoadError",
     "evalue": "type cannot be constructed\nwhile loading In[1], in expression starting on line 13",
     "output_type": "error",
     "traceback": [
      "type cannot be constructed\nwhile loading In[1], in expression starting on line 13",
      ""
     ]
    }
   ],
   "source": [
    "using Dates\n",
    "using DataFrames\n",
    "\n",
    "input_path = \"C:/Users/User/Documents/GitHub/working/julia/data/\"\n",
    "#input_path = \"C:/Users/T004314/Documents/GitHub/working/julia/data/\"\n",
    "input_file = \"rating_transitions.csv\"\n",
    "input_file = string(input_path, input_file)\n",
    "#println(input_file)\n",
    "\n",
    "ds       = readtable(input_file, separator=';')   \n",
    "\n",
    "ids      = ds[1]\n",
    "rating   = Int(ds[3])\n",
    "\n",
    "nclassi  = maximum(rating)- minimum(rating)\n",
    "Ni       = zeros(Float32, nclassi+1)  \n",
    "Nij      = zeros(Float32, nclassi-1, nclassi+1)  \n",
    "pij      = zeros(Float32, nclassi-1, nclassi+1)  \n",
    "\n",
    "trdates  = Dates.Date(ds[2],\"yyyy-mm-dd\")\n",
    "tryears  = [Int(Year(d)) for d in trdates]\n",
    "\n",
    "ystart   = minimum(tryears)\n",
    "yend     = maximum(tryears)-1\n",
    "\n",
    "not_rated = 0\n",
    "defaulted = maximum(rating)\n",
    "\n",
    "for k in 1:length(ids)\n",
    "    # \n",
    "    t = max(ystart, tryears[k])\n",
    "    # Within this While loop we find the cohort to which observation k \n",
    "    # belongs. To decide whether it belongs to a certain cohort, we check\n",
    "    # whether the current rating informations is the latest in the current\n",
    "    # year t. If there is a migration during the current period, we exit \n",
    "    # the While loop and continue with the next observation. If not we\n",
    "    # first check whether the issuer is in default or not rated. In these\n",
    "    # two cases we exit the While loop because we do not compute transitions\n",
    "    # for these two categories.\n",
    "    while t < yend\n",
    "        # Escludiamo dall'analisi tutte le transizioni che avvengono\n",
    "        # all'interno dello stesso anno\n",
    "        if(k != length(ids))\n",
    "            if(ids[k+1] == ids[k] && tryears[k+1] <= t)\n",
    "                break\n",
    "            end    \n",
    "        end    \n",
    "        # Escludiamo anche tutte le controparti gia' fallite o prive\n",
    "        # di rating\n",
    "        if(rating[k] == defaulted || rating[k] == not_rated); break; end\n",
    "        # Add to number of issuers in cohort\n",
    "        Ni[rating[k]+1] += 1\n",
    "        # Determiniamo qual'e' il nuovo rating alla fine del prossimo\n",
    "        # anno. Poiche' i dati sono ordinati per controparte e per anno\n",
    "        # di transizione, questo implica che se la controparte allo \n",
    "        # step k + 1 è diversa da quella allo step k, allora la \n",
    "        # controparte k-esima ha mantenuto invariato il proprio rating.\n",
    "        if(k != length(ids))\n",
    "            if(ids[k+1] != ids[k] || tryears[k+1] > t+1)\n",
    "                # rating invariato \n",
    "                newrat = rating[k]\n",
    "            else    \n",
    "                # il rating e' variato e quindi cerchiamo qual'e' il\n",
    "                # nuovo rating prevalente alla fine del periodo in esame\n",
    "                kn=k+1\n",
    "                if(kn > length(tryears)-1);break;end\n",
    "                while tryears[kn+1] == tryears[kn] && ids[kn+1] == ids[kn]\n",
    "                    if(rating[kn] == defaulted); break; end\n",
    "                    kn += 1\n",
    "                end    \n",
    "                newrat = rating[kn]\n",
    "            end    \n",
    "        else\n",
    "            newrat = rating[k]    \n",
    "        end\n",
    "        # Add to number of transitions\n",
    "        Nij[rating[k], newrat+1]+=1\n",
    "        # exit if observation k cannot belong to cohort of y+1 \n",
    "        if(newrat != rating[k]); break; end\n",
    "        t += 1    \n",
    "    end    \n",
    "end    \n",
    "\n",
    "# compute transition frequencies\n",
    "for(i in 1:(nclassi-1))\n",
    "    for(j in 1:nclassi)\n",
    "       if(Ni[i+1] > 0); pij[i,j]=100*Nij[i,j+1]/Ni[i+1]; end\n",
    "    end\n",
    "end        \n",
    "    \n",
    "# NR category to the end\n",
    "for(i in 1:(nclassi-1))\n",
    "    if(Ni[i+1] > 0); pij[i,nclassi+1]=100*Nij[i,1]/Ni[i+1]; end\n",
    "end\n",
    "\n",
    "#print(Ni,\"\\n\")\n",
    "#print(Nij,\"\\n\")\n",
    "print(pij,\"\\n\")\n",
    "\n",
    "println(\"It worked!\")"
   ]
  },
  {
   "cell_type": "code",
   "execution_count": null,
   "metadata": {
    "collapsed": true
   },
   "outputs": [],
   "source": []
  }
 ],
 "metadata": {
  "anaconda-cloud": {},
  "kernelspec": {
   "display_name": "Python [conda root]",
   "language": "python",
   "name": "conda-root-py"
  },
  "language_info": {
   "codemirror_mode": {
    "name": "ipython",
    "version": 2
   },
   "file_extension": ".py",
   "mimetype": "text/x-python",
   "name": "python",
   "nbconvert_exporter": "python",
   "pygments_lexer": "ipython2",
   "version": "2.7.12"
  }
 },
 "nbformat": 4,
 "nbformat_minor": 1
}
