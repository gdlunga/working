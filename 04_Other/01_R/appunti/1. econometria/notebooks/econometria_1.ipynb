{
 "cells": [
  {
   "cell_type": "markdown",
   "metadata": {},
   "source": [
    "definition of working folder"
   ]
  },
  {
   "cell_type": "code",
   "execution_count": 1,
   "metadata": {
    "collapsed": false,
    "scrolled": true
   },
   "outputs": [
    {
     "name": "stdout",
     "output_type": "stream",
     "text": [
      "Current working folder is ' :  C:/Users/T004314/Documents/GitHub/working/04_Other/01_R/appunti/9. dati"
     ]
    }
   ],
   "source": [
    "Dirname <- \"/working/04_Other/01_R\"\n",
    "Dirs <- list.dirs(path=file.path(\"~\"),recursive=T)\n",
    "dir_wd <- names(unlist(sapply(Dirs,grep,pattern=Dirname))[1])\n",
    "dir_wd <- paste(dir_wd,'appunti/9. dati',sep='/')\n",
    "setwd(dir_wd)\n",
    "cat(\"Current working folder is ' : \", getwd())"
   ]
  },
  {
   "cell_type": "markdown",
   "metadata": {
    "slideshow": {
     "slide_type": "slide"
    }
   },
   "source": [
    "# Time Series"
   ]
  },
  {
   "cell_type": "markdown",
   "metadata": {
    "slideshow": {
     "slide_type": "slide"
    }
   },
   "source": [
    "## Euribor"
   ]
  },
  {
   "cell_type": "code",
   "execution_count": 2,
   "metadata": {
    "collapsed": false,
    "slideshow": {
     "slide_type": "subslide"
    }
   },
   "outputs": [
    {
     "name": "stderr",
     "output_type": "stream",
     "text": [
      "Loading required package: zoo\n",
      "Warning message:\n",
      "\"package 'zoo' was built under R version 3.5.1\"\n",
      "Attaching package: 'zoo'\n",
      "\n",
      "The following objects are masked from 'package:base':\n",
      "\n",
      "    as.Date, as.Date.numeric\n",
      "\n"
     ]
    }
   ],
   "source": [
    "require(zoo)\n",
    "\n",
    "# import del file contenente i dati relativi all'indice S&P MIB\n",
    "file_name = paste(getwd(),'hist_euribor.csv',sep='/')\n",
    "\n",
    "euribor <- read.csv(file_name, sep=';')\n",
    "euribor$Date = as.Date(euribor$Date)\n",
    "\n",
    "# serie giornaliere\n",
    "euribor1M = zoo(x=euribor$X1.Month, order.by=euribor$Date) \n",
    "euribor6M = zoo(x=euribor$X6.Month, order.by=euribor$Date) \n",
    "euribor1Y = zoo(x=euribor$X12.Month, order.by=euribor$Date) \n"
   ]
  },
  {
   "cell_type": "code",
   "execution_count": 3,
   "metadata": {
    "collapsed": false,
    "slideshow": {
     "slide_type": "subslide"
    }
   },
   "outputs": [
    {
     "ename": "ERROR",
     "evalue": "Error in png(tf, width, height, \"in\", pointsize, bg, res, antialias = antialias): unable to start png() device\n",
     "output_type": "error",
     "traceback": [
      "Error in png(tf, width, height, \"in\", pointsize, bg, res, antialias = antialias): unable to start png() device\nTraceback:\n"
     ]
    },
    {
     "data": {
      "text/plain": [
       "Plot with title \"\""
      ]
     },
     "metadata": {},
     "output_type": "display_data"
    }
   ],
   "source": [
    "# creo un nuovo indice aggregando per mese-anno le date presenti originariamente\n",
    "m_index      <- as.Date(as.yearmon(time(euribor1Y)))\n",
    "# creo una nuova serie aggregando i dati di euribor1M sul nuovo indice temporale\n",
    "# (base mensile) e calcolando la media\n",
    "m_euribor1M  <- aggregate(euribor1M, m_index, mean)\n",
    "m_euribor6M  <- aggregate(euribor6M, m_index, mean)\n",
    "m_euribor1Y  <- aggregate(euribor1Y, m_index, mean)\n",
    "\n",
    "plot (m_euribor1M, typ='l')\n",
    "lines(m_euribor6M, col='red')\n",
    "lines(m_euribor1Y, col='blue')"
   ]
  },
  {
   "cell_type": "markdown",
   "metadata": {
    "slideshow": {
     "slide_type": "slide"
    }
   },
   "source": [
    "## Average deposit rate from Bankit database"
   ]
  },
  {
   "cell_type": "code",
   "execution_count": 7,
   "metadata": {
    "collapsed": false,
    "slideshow": {
     "slide_type": "subslide"
    }
   },
   "outputs": [],
   "source": [
    "file_name = paste(getwd(), 'tassi_medi_cc_bankit.csv', sep=\"/\")\n",
    "tassi <- read.csv(file_name, sep=';')"
   ]
  },
  {
   "cell_type": "code",
   "execution_count": 8,
   "metadata": {
    "collapsed": false,
    "slideshow": {
     "slide_type": "subslide"
    }
   },
   "outputs": [
    {
     "data": {
      "image/png": "[encoded data removed]",
      "text/plain": [
       "plot without title"
      ]
     },
     "metadata": {},
     "output_type": "display_data"
    }
   ],
   "source": [
    "plot.ts(tassi$VALORE)"
   ]
  },
  {
   "cell_type": "markdown",
   "metadata": {
    "slideshow": {
     "slide_type": "fragment"
    }
   },
   "source": [
    "The file 'confronto.csv' was generated by taking the overlap period between the two time series of rates, mean value of the Italian banking system and the 1-month Euribor rate. The overlapping range is from January 1999 to December 2004. The series have a monthly frequency."
   ]
  },
  {
   "cell_type": "code",
   "execution_count": 11,
   "metadata": {
    "collapsed": false,
    "slideshow": {
     "slide_type": "slide"
    }
   },
   "outputs": [
    {
     "data": {
      "image/png": "[encoded data removed]",
      "text/plain": [
       "plot without title"
      ]
     },
     "metadata": {},
     "output_type": "display_data"
    }
   ],
   "source": [
    "file_name = paste(getwd(), 'confronto.csv', sep=\"/\")\n",
    "tassi <- read.csv(file_name, sep=';')\n",
    "\n",
    "norm_euribor1m <- tassi$EURIBOR1M-mean(tassi$EURIBOR1M)\n",
    "norm_bank_rate <- tassi$TASSO_BANCA-mean(tassi$TASSO_BANCA)\n",
    "\n",
    "plot(norm_euribor1m, type = 'l',ylim=c(-3,3))\n",
    "lines(norm_bank_rate,col='red')"
   ]
  },
  {
   "cell_type": "code",
   "execution_count": 12,
   "metadata": {
    "collapsed": false
   },
   "outputs": [
    {
     "data": {
      "text/html": [
       "0.975600312604424"
      ],
      "text/latex": [
       "0.975600312604424"
      ],
      "text/markdown": [
       "0.975600312604424"
      ],
      "text/plain": [
       "[1] 0.9756003"
      ]
     },
     "metadata": {},
     "output_type": "display_data"
    },
    {
     "data": {
      "text/plain": [
       "\n",
       "Autocorrelations of series 'X', by lag\n",
       "\n",
       "   -5    -4    -3    -2    -1     0     1     2     3     4     5 \n",
       "0.776 0.846 0.902 0.944 0.973 0.976 0.921 0.855 0.776 0.689 0.594 "
      ]
     },
     "metadata": {},
     "output_type": "display_data"
    }
   ],
   "source": [
    "cor(norm_euribor1m, norm_bank_rate)\n",
    "ccf(norm_euribor1m, norm_bank_rate,lag.max=5, plot=FALSE)"
   ]
  },
  {
   "cell_type": "markdown",
   "metadata": {
    "collapsed": true
   },
   "source": [
    "## Example 1.9 Moving Averages and Filtering"
   ]
  },
  {
   "cell_type": "markdown",
   "metadata": {},
   "source": [
    "Considering a white noise $w_t$, in this example we replace this noise with an average of its current value and its immediate neighbors in the past and future, that is\n",
    "$$ v_t=\\frac{1}{3}(w_{t-1} + w_t + w_{t+1})$$\n",
    "A linear combination of values in a time series is referred generically, to as a filtered series, hence we use the command \"filter\""
   ]
  },
  {
   "cell_type": "code",
   "execution_count": 13,
   "metadata": {
    "collapsed": false
   },
   "outputs": [
    {
     "data": {
      "image/png": "[encoded data removed]",
      "text/plain": [
       "Plot with title \"white noise\""
      ]
     },
     "metadata": {},
     "output_type": "display_data"
    }
   ],
   "source": [
    "npoints = 500\n",
    "size    = 25\n",
    "\n",
    "w=rnorm(npoints)\n",
    "v=filter(w,sides=2,filter=rep(1/size,size))\n",
    "\n",
    "par(mfrow=c(3,1))\n",
    "plot.ts(w, main='white noise')\n",
    "plot.ts(v, main='moving average')\n",
    "plot.ts(w, main='white noise')\n",
    "lines(v, col='red', lwd=2)"
   ]
  },
  {
   "cell_type": "markdown",
   "metadata": {},
   "source": [
    "### Autocovariance"
   ]
  },
  {
   "cell_type": "markdown",
   "metadata": {},
   "source": [
    "The autocovariance function is defined as the second moment product\n",
    "\n",
    "\\begin{equation}\n",
    " \\gamma (s,t) = cov(x_s,x_t) = E[(x_s-\\mu_s)(x_t-\\mu_t)]\n",
    "\\end{equation}\n",
    "\n",
    "The white noise series $w_t$ has $\\mathbb{E}(w_t)=0$ and \n",
    "$$\n",
    "\\gamma_w(t,s)= cov(w_s, w_t) = \\begin{cases} \\sigma^2_w & s=t, \\\\ 0 & s \\ne t\n",
    "\\end{cases}\n",
    "$$\n",
    "\n",
    "In order to test this result we'll use the function shift which produce a shifted vector of a predefined amount."
   ]
  },
  {
   "cell_type": "code",
   "execution_count": 14,
   "metadata": {
    "collapsed": true
   },
   "outputs": [],
   "source": [
    "shift<-function(x,shift_by){\n",
    "  stopifnot(is.numeric(shift_by))\n",
    "  stopifnot(is.numeric(x))\n",
    "  \n",
    "  if (length(shift_by)>1)\n",
    "    return(sapply(shift_by,shift, x=x))\n",
    "  \n",
    "  out<-NULL\n",
    "  abs_shift_by=abs(shift_by)\n",
    "  if (shift_by > 0 )\n",
    "    out<-c(tail(x,-abs_shift_by),rep(NA,abs_shift_by))\n",
    "  else if (shift_by < 0 )\n",
    "    out<-c(rep(NA,abs_shift_by), head(x,-abs_shift_by))\n",
    "  else\n",
    "    out<-x\n",
    "  out\n",
    "}"
   ]
  },
  {
   "cell_type": "markdown",
   "metadata": {},
   "source": [
    "For example let's produce a shifted series of the white noise. Note that, in order to avoid NA points, we have to take only $n - 1$ points where $n$ is the original length of the $w$ series."
   ]
  },
  {
   "cell_type": "code",
   "execution_count": 15,
   "metadata": {
    "collapsed": false
   },
   "outputs": [
    {
     "name": "stdout",
     "output_type": "stream",
     "text": [
      "covariance of w(t,t+1) =  -0.07273596 \n"
     ]
    }
   ],
   "source": [
    "n  = length(w)\n",
    "ww = shift(w, 1)[1:n-1]\n",
    "w  = w[1:n-1] \n",
    "\n",
    "cat('covariance of w(t,t+1) = ',  cov(w,ww), \"\\n\")"
   ]
  },
  {
   "cell_type": "markdown",
   "metadata": {},
   "source": [
    "Let's compute the autocovariance of the moving average process. \n",
    "The process is described by the filter\n",
    "\n",
    "$$ v_t=\\frac{1}{3}(w_{t-1} + w_t + w_{t+1})$$\n",
    "\n",
    "Then\n",
    "\n",
    "$$\\gamma(s,t)=cov \\left[ \\frac{1}{3}(w_{s-1} + w_s + w_{s+1}), \\frac{1}{3}(w_{t-1} + w_t + w_{t+1})  \\right]$$\n",
    "\n",
    "We can summarize the values for all $s$ and $t$ for the $v$ process as:\n",
    "\n",
    "$$\n",
    "\\gamma_v(s,t)= \\begin{cases}\n",
    "\\frac{3}{9} \\sigma^2_w & s=t, \\\\\n",
    "\\frac{2}{9} \\sigma^2_w & \\vert s - t \\vert = 1, \\\\\n",
    "\\frac{1}{9} \\sigma^2_w & \\vert s - t \\vert = 2, \\\\\n",
    "0                      & \\vert s - t \\vert > 2 \\\\\n",
    "\\end{cases}\n",
    "$$\n",
    "\n",
    "Let's try to test these results"
   ]
  },
  {
   "cell_type": "code",
   "execution_count": 16,
   "metadata": {
    "collapsed": false
   },
   "outputs": [
    {
     "name": "stdout",
     "output_type": "stream",
     "text": [
      "covariance of v(t,t) =  NA \n",
      "3*sigma^2 / 9        =  0.3780965 \n"
     ]
    }
   ],
   "source": [
    "v = v[3:length(v)-1]\n",
    "\n",
    "#cat('variance of v        = ',  var(w), \"\\n\")\n",
    "cat('covariance of v(t,t) = ',  cov(v,v), \"\\n\")\n",
    "cat('3*sigma^2 / 9        = ',  3*var(w)/9, \"\\n\")\n"
   ]
  },
  {
   "cell_type": "code",
   "execution_count": 17,
   "metadata": {
    "collapsed": false
   },
   "outputs": [
    {
     "name": "stdout",
     "output_type": "stream",
     "text": [
      "covariance of v(t,t+1) =  NA \n",
      "2*sigma^2 / 9          =  0.2520643 \n"
     ]
    }
   ],
   "source": [
    "n  = length(v)\n",
    "vv = shift(v,1)\n",
    "vv = vv[1:n-1]\n",
    "v  = v[1:n-1]\n",
    "\n",
    "cat('covariance of v(t,t+1) = ',  cov(v,vv), \"\\n\")\n",
    "cat('2*sigma^2 / 9          = ',  2*var(w)/9, \"\\n\")\n"
   ]
  },
  {
   "cell_type": "code",
   "execution_count": 18,
   "metadata": {
    "collapsed": false
   },
   "outputs": [
    {
     "name": "stdout",
     "output_type": "stream",
     "text": [
      "covariance of v(t,t+2) =  NA \n",
      "1*sigma^2 / 9          =  0.1260322 \n"
     ]
    }
   ],
   "source": [
    "n  = length(v)\n",
    "vv = shift(vv,1)\n",
    "vv = vv[1:n-1]\n",
    "v  = v[1:n-1]\n",
    "\n",
    "cat('covariance of v(t,t+2) = ',  cov(v,vv), \"\\n\")\n",
    "cat('1*sigma^2 / 9          = ',  1*var(w)/9, \"\\n\")\n"
   ]
  },
  {
   "cell_type": "code",
   "execution_count": 19,
   "metadata": {
    "collapsed": false
   },
   "outputs": [
    {
     "name": "stdout",
     "output_type": "stream",
     "text": [
      "covariance of v(t,t+3) =  NA \n"
     ]
    }
   ],
   "source": [
    "n  = length(v)\n",
    "vv = shift(vv,1)\n",
    "vv = vv[1:n-1]\n",
    "v  = v[1:n-1]\n",
    "\n",
    "cat('covariance of v(t,t+3) = ',  cov(v,vv), \"\\n\")"
   ]
  },
  {
   "cell_type": "markdown",
   "metadata": {},
   "source": [
    "### The autocorrelation function\n",
    "\n",
    "The autocorrelation function (ACF) is defined as\n",
    "\n",
    "$$\n",
    "\\rho(s,t) = \\frac{\\gamma(s,t)}{\\sqrt{\\gamma(s,s)\\gamma(t,t)}}\n",
    "$$\n",
    "\n",
    "For the three-point moving average process we have:\n",
    "\n",
    "$$\n",
    "\\rho_v(h)= \\begin{cases}\n",
    "1 & h=0, \\\\\n",
    "\\frac{2}{3} & \\vert h\\vert = 1, \\\\\n",
    "\\frac{1}{3} & \\vert h\\vert = 2, \\\\\n",
    "0           & \\vert h\\vert > 2 \\\\\n",
    "\\end{cases}\n",
    "$$\n"
   ]
  },
  {
   "cell_type": "code",
   "execution_count": 20,
   "metadata": {
    "collapsed": false
   },
   "outputs": [
    {
     "ename": "ERROR",
     "evalue": "Error in na.fail.default(as.ts(x)): missing values in object\n",
     "output_type": "error",
     "traceback": [
      "Error in na.fail.default(as.ts(x)): missing values in object\nTraceback:\n",
      "1. acf(v, lag.max = 10, plot = FALSE)",
      "2. na.action(as.ts(x))",
      "3. na.fail.default(as.ts(x))",
      "4. stop(\"missing values in object\")"
     ]
    }
   ],
   "source": [
    "#v = v[3: length(v)-1]\n",
    "acf(v, lag.max=10, plot=FALSE)\n",
    "ccf(v,v, lag.max=10)"
   ]
  },
  {
   "cell_type": "markdown",
   "metadata": {},
   "source": [
    "## Example 1.10 Autoregression"
   ]
  },
  {
   "cell_type": "markdown",
   "metadata": {},
   "source": [
    "Suppose we consider the white noise of the previous example as input and calculate the output using the second-order equation\n",
    "$$x_t=x_{t-1} -.9 x_{t-2}+w_t $$\n",
    "This equation represents a regression or prediction of the current value of $x_t$ of a time series as a function of the past two values of the series and, hence, the term 'autoregression' is used for this model"
   ]
  },
  {
   "cell_type": "code",
   "execution_count": 21,
   "metadata": {
    "collapsed": false
   },
   "outputs": [
    {
     "data": {
      "image/png": "[encoded data removed]",
      "text/plain": [
       "Plot with title \"autoregression\""
      ]
     },
     "metadata": {},
     "output_type": "display_data"
    }
   ],
   "source": [
    "w=rnorm(550,0,1)\n",
    "x= filter(w, filter=c(1,-.9),method=\"recursive\")[-(1:50)]\n",
    "plot.ts(x, main=\"autoregression\")"
   ]
  },
  {
   "cell_type": "markdown",
   "metadata": {},
   "source": [
    "Another simple example. Consider the process\n",
    "$$y_t = \\alpha y_{t-1} + w$$"
   ]
  },
  {
   "cell_type": "code",
   "execution_count": 22,
   "metadata": {
    "collapsed": false
   },
   "outputs": [
    {
     "name": "stdout",
     "output_type": "stream",
     "text": [
      "y variance (measured)  =  4.454176 \n",
      "y variance (predicted) =  5.263158 \n"
     ]
    },
    {
     "data": {
      "image/png": "[encoded data removed]",
      "text/plain": [
       "Plot with title \"autoregression\""
      ]
     },
     "metadata": {},
     "output_type": "display_data"
    },
    {
     "data": {
      "image/png": "[encoded data removed]",
      "text/plain": [
       "plot without title"
      ]
     },
     "metadata": {},
     "output_type": "display_data"
    }
   ],
   "source": [
    "require('stats')\n",
    "\n",
    "npoints = 1000\n",
    "alpha   = .9\n",
    "\n",
    "w=rnorm(npoints)\n",
    "y = filter(w, filter=c(alpha),method=\"recursive\")\n",
    "#y  = arima.sim(model=list(ar=alpha), n=npoints)\n",
    "\n",
    "cat('y variance (measured)  = ',  var(y), \"\\n\")\n",
    "cat('y variance (predicted) = ', 1/(1-alpha*alpha),\"\\n\")\n",
    "\n",
    "plot.ts(y, main=\"autoregression\")\n",
    "\n",
    "rho=acf(y, plot=FALSE, lag.max=30)\n",
    "xx = seq(0,30)\n",
    "yy = alpha**xx\n",
    "plot(rho$lag, rho$acf)\n",
    "lines(xx,yy,col='red')\n",
    "\n"
   ]
  },
  {
   "cell_type": "markdown",
   "metadata": {},
   "source": [
    "It is worth noting that the AR processes $AR(p)$ with $p > 1$ may have cyclical trends. This happens if and only if among the roots of the polynomial $A(z)$ there is a pair of complex conjugate numbers. In this case, the process assumes a cyclical pattern in which the amplitude of the oscillations varies around a mean value. \n",
    "\n",
    "Letìs consider for example the process\n",
    "$$ y_t=1.5 y_{t-1} - 0.7 y_{t-2} + w$$"
   ]
  },
  {
   "cell_type": "code",
   "execution_count": 23,
   "metadata": {
    "collapsed": false
   },
   "outputs": [
    {
     "data": {
      "image/png": "[encoded data removed]",
      "text/plain": [
       "Plot with title \"autoregression\""
      ]
     },
     "metadata": {},
     "output_type": "display_data"
    }
   ],
   "source": [
    "w=rnorm(1000)\n",
    "x= filter(w, filter=c(1.5,-0.7),method=\"recursive\") \n",
    "plot.ts(x, main=\"autoregression\")"
   ]
  },
  {
   "cell_type": "markdown",
   "metadata": {},
   "source": [
    "## Example 1.11 Random walk with drift"
   ]
  },
  {
   "cell_type": "code",
   "execution_count": 24,
   "metadata": {
    "collapsed": false
   },
   "outputs": [
    {
     "data": {
      "image/png": "[encoded data removed]",
      "text/plain": [
       "Plot with title \"random walk\""
      ]
     },
     "metadata": {},
     "output_type": "display_data"
    }
   ],
   "source": [
    "npoints = 250\n",
    "drift   = .25\n",
    "\n",
    "w = rnorm(npoints)\n",
    "x = cumsum(w)\n",
    "\n",
    "wd = w + drift\n",
    "xd = cumsum(wd)\n",
    "\n",
    "plot.ts(xd,ylim=c(-5,55),main=\"random walk\",ylab='')\n",
    "lines(x,col=4)\n",
    "abline(h=0, col=4,  lty=2)\n",
    "abline(a=0, b=drift,lty=2)"
   ]
  },
  {
   "cell_type": "markdown",
   "metadata": {
    "collapsed": true
   },
   "source": [
    "## Example 1.12 Signal in Noise"
   ]
  },
  {
   "cell_type": "code",
   "execution_count": 25,
   "metadata": {
    "collapsed": false
   },
   "outputs": [
    {
     "data": {
      "image/png": "[encoded data removed]",
      "text/plain": [
       "plot without title"
      ]
     },
     "metadata": {},
     "output_type": "display_data"
    }
   ],
   "source": [
    "cs     = 2*cos(2*pi*1:500/50+.6*pi)\n",
    "wd     = 3*w\n",
    "x      = seq(1:500)\n",
    "xx     = .01 * x\n",
    "\n",
    "signal = cs + wd + xx\n",
    "v=filter(signal,sides=1,filter=rep(1/3,3))\n",
    "\n",
    "plot.ts(signal)\n",
    "lines(v,col='red')\n",
    "lines(xx, col = 'blue')\n",
    "\n",
    "reg=lm(signal~x)\n",
    "abline(reg,col=\"yellow\")\n",
    "\n",
    "lines(cs + xx,col='green',lwd=2)"
   ]
  }
 ],
 "metadata": {
  "anaconda-cloud": {},
  "celltoolbar": "Slideshow",
  "kernelspec": {
   "display_name": "R",
   "language": "R",
   "name": "ir"
  },
  "language_info": {
   "codemirror_mode": "r",
   "file_extension": ".r",
   "mimetype": "text/x-r-source",
   "name": "R",
   "pygments_lexer": "r",
   "version": "3.5.0"
  }
 },
 "nbformat": 4,
 "nbformat_minor": 0
}
