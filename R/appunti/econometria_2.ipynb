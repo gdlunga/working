{
 "cells": [
  {
   "cell_type": "markdown",
   "metadata": {},
   "source": [
    "## Processi ARMA"
   ]
  },
  {
   "cell_type": "markdown",
   "metadata": {},
   "source": [
    "La classe dei processi ARMA comprende sia i processi AR che i processi MA come caso particolare. Un processo $ARMA(p,q)$ è infatti definito da:\n",
    "$$A(L) y_t = C(L) \\epsilon_t$$\n",
    "dove $p$ è l'ordine del polinomio $A(L)$ e $q$ è l'ordine del polinomio $C(L)$."
   ]
  },
  {
   "cell_type": "markdown",
   "metadata": {},
   "source": [
    "..."
   ]
  },
  {
   "cell_type": "markdown",
   "metadata": {},
   "source": [
    "### Previsione"
   ]
  },
  {
   "cell_type": "markdown",
   "metadata": {},
   "source": [
    "Data la disponibilità della serie temporale fino al tempo $T$, ci proponiamo ora di prevedere il fenomeno $k$ periodi in avanti. Il set informativo a cui facciamo riferimento è denotato con $\\mathcal{F}_T= \\{ y_1, y_2, \\dots y_{T-1}, y_T \\}$. Sfrutteremo il risultato fondamentale secondo il quale il previsore ottimale di $y_{T+k}$ è il suo valore atteso condizionato all'informazione disponibile al tempo $T$:\n",
    "$$\\tilde y_{T+k \\vert T} = \\mathbb{E} [y_{T+k} \\vert \\mathcal{F}_T] $$\n"
   ]
  },
  {
   "cell_type": "markdown",
   "metadata": {},
   "source": [
    "#### Previsione da un modello AR(1)"
   ]
  },
  {
   "cell_type": "markdown",
   "metadata": {},
   "source": [
    "$$ y_t = \\alpha t_{t-1} + \\epsilon_t$$\n",
    "\n",
    "$$\n",
    "\\begin{split}\n",
    "\\tilde y_{T+1 \\vert T} &= \\mathbb{E} \\left[ y_{T+1} \\vert \\mathcal{F}_T \\right]  \\\\\n",
    "&= \\alpha \\mathbb{E} [y_T \\vert \\mathcal{F}_T] + \\mathbb{E} [\\epsilon_{T+1} \\vert \\mathcal{F}_T] \\\\\n",
    "&= \\alpha y_T\n",
    "\\end{split}\n",
    "$$\n",
    "\n",
    "$$\n",
    "\\begin{split}\n",
    "\\tilde y_{T+2 \\vert T} &= \\mathbb{E} \\left[ y_{T+2} \\vert \\mathcal{F}_T \\right]  \\\\\n",
    "&= \\alpha \\mathbb{E} [y_{T+1} \\vert \\mathcal{F}_T] + \\mathbb{E} [\\epsilon_{T+2} \\vert \\mathcal{F}_T] \\\\\n",
    "&= \\alpha \\mathbb{E} [ (\\alpha y_T + \\epsilon_{T+1}) \\vert \\mathcal{F}_T] + \\mathbb{E} [\\epsilon_{T+2} \\vert \\mathcal{F}_T] \\\\\n",
    "&= \\alpha^2 y_T\n",
    "\\end{split}\n",
    "$$"
   ]
  },
  {
   "cell_type": "markdown",
   "metadata": {},
   "source": [
    "In generale, le previsioni seguono la formula ricorsiva:\n",
    "$$\n",
    "\\tilde y_{T+k \\vert T} = \\alpha \\tilde y_{T+k -1 \\vert T}\n",
    "$$\n",
    "con valore iniziale $(k=0)$ pari all'ultimo valore osservato $y_T$. Nei termini di quest'ultimo possiamo scrivere:\n",
    "$$\n",
    "\\tilde  y_{T+k \\vert T} = \\alpha^k y_T\n",
    "$$"
   ]
  },
  {
   "cell_type": "markdown",
   "metadata": {},
   "source": [
    "Calcoliamo ora la varianza dell'errore di previsione:\n",
    "\n",
    "$$\n",
    "\\begin{split}\n",
    "V \\left( \\tilde y_{T+1 \\vert T}  \\right) &= \\mathbb{E} \\left[  (y_{T+1} - \\tilde y_{T+1 \\vert T} )^2   \\right] \\\\\n",
    "&= \\mathbb{E} \\left[  ( \\alpha y_T + \\epsilon_{T+1} -\\alpha y_T          )^2   \\right] \\\\\n",
    "&= \\sigma^2\n",
    "\\end{split}\n",
    "$$\n",
    "\n",
    "$$\n",
    "\\begin{split}\n",
    "V \\left( \\tilde y_{T+2 \\vert T}  \\right) &= \\mathbb{E} \\left[  (y_{T+2} - \\tilde y_{T+2 \\vert T} )^2   \\right] \\\\\n",
    "&= \\mathbb{E} \\left[  ( \\alpha^2 y_T + \\alpha \\epsilon_{T+1} + \\epsilon_{T+2} -\\alpha^2 y_T          )^2   \\right] \\\\\n",
    "&= \\sigma^2(1 + \\alpha^2)\n",
    "\\end{split}\n",
    "$$\n",
    "\n",
    "In generale\n",
    "\n",
    "$$\n",
    "\\begin{split}\n",
    "V \\left( \\tilde y_{T+k \\vert T}  \\right) &= \\mathbb{E} \\left[  (y_{T+k} - \\tilde y_{T+k \\vert T} )^2   \\right] \\\\\n",
    "&= \\sigma^2(1 + \\alpha^2 + \\alpha^4 + \\dots + \\alpha^{2(k-1)})\n",
    "\\end{split}\n",
    "$$\n",
    "\n",
    "ricordando che\n",
    "$$\n",
    "\\sum\\limits_{i=0}^n x^{2i} = \\frac{1-x^{2(n+1)}}{1-x^2}\n",
    "$$\n",
    "\n",
    "otteniamo infine \n",
    "$$\n",
    "V \\left( \\tilde y_{T+k \\vert T}  \\right) = \\sigma^2  \\frac{1-\\alpha^{2k}}{1-\\alpha^2}\n",
    "$$\n"
   ]
  },
  {
   "cell_type": "markdown",
   "metadata": {
    "collapsed": true
   },
   "source": [
    "### Example\n",
    "\n",
    "Consideriamo un processo $ARMA(2,1)$ così definito:\n",
    "\n",
    "$$y_t=y_{t-1}-.5 y _{t-2} + \\epsilon_t + 0.75 \\epsilon_{t-1}$$"
   ]
  },
  {
   "cell_type": "code",
   "execution_count": 1,
   "metadata": {
    "collapsed": false
   },
   "outputs": [
    {
     "name": "stderr",
     "output_type": "stream",
     "text": [
      "Loading required package: vars\n",
      "Warning message:\n",
      "In library(package, lib.loc = lib.loc, character.only = TRUE, logical.return = TRUE, : there is no package called 'vars'Loading required package: forecast\n",
      "Warning message:\n",
      ": package 'forecast' was built under R version 3.2.5Loading required package: zoo\n",
      "Warning message:\n",
      ": package 'zoo' was built under R version 3.2.4\n",
      "Attaching package: 'zoo'\n",
      "\n",
      "The following objects are masked from 'package:base':\n",
      "\n",
      "    as.Date, as.Date.numeric\n",
      "\n",
      "Loading required package: timeDate\n",
      "This is forecast 7.1 \n",
      "\n"
     ]
    },
    {
     "ename": "ERROR",
     "evalue": "Error in auto.arima(arma.sim, aic = F, demean = F, intercept = T, order = 10): unused arguments (aic = F, demean = F, intercept = T, order = 10)\n",
     "output_type": "error",
     "traceback": [
      "Error in auto.arima(arma.sim, aic = F, demean = F, intercept = T, order = 10): unused arguments (aic = F, demean = F, intercept = T, order = 10)\n"
     ]
    },
    {
     "ename": "ERROR",
     "evalue": "Error in eval(expr, envir, enclos): oggetto \"VAR\" non trovato\n",
     "output_type": "error",
     "traceback": [
      "Error in eval(expr, envir, enclos): oggetto \"VAR\" non trovato\n"
     ]
    },
    {
     "ename": "ERROR",
     "evalue": "Error in plot(VAR$ar, type = \"l\"): error in evaluating the argument 'x' in selecting a method for function 'plot': Errore: oggetto \"VAR\" non trovato\n\n",
     "output_type": "error",
     "traceback": [
      "Error in plot(VAR$ar, type = \"l\"): error in evaluating the argument 'x' in selecting a method for function 'plot': Errore: oggetto \"VAR\" non trovato\n\n"
     ]
    }
   ],
   "source": [
    "require(\"vars\")\n",
    "require(\"forecast\")\n",
    "\n",
    "arma.sim <- arima.sim(model=list(ar=c(1.0,-0.5),ma=c(0.75)),n=100) \n",
    "#arima(arma.sim, order=c(2,0,1))\n",
    "\n",
    "VAR <- auto.arima(arma.sim, aic=F,demean=F, intercept=T, order=10) \n",
    "VAR\n",
    "plot(VAR$ar, type='l')"
   ]
  },
  {
   "cell_type": "code",
   "execution_count": null,
   "metadata": {
    "collapsed": true
   },
   "outputs": [],
   "source": []
  }
 ],
 "metadata": {
  "kernelspec": {
   "display_name": "R",
   "language": "R",
   "name": "ir"
  },
  "language_info": {
   "codemirror_mode": "r",
   "file_extension": ".r",
   "mimetype": "text/x-r-source",
   "name": "R",
   "pygments_lexer": "r",
   "version": "3.2.2"
  }
 },
 "nbformat": 4,
 "nbformat_minor": 0
}
