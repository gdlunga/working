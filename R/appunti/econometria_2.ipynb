{
 "cells": [
  {
   "cell_type": "markdown",
   "metadata": {},
   "source": [
    "## Processi ARMA"
   ]
  },
  {
   "cell_type": "markdown",
   "metadata": {},
   "source": [
    "La classe dei processi ARMA comprende sia i processi AR che i processi MA come caso particolare. Un processo $ARMA(p,q)$ è infatti definito da:\n",
    "$$A(L) y_t = C(L) \\epsilon_t$$\n",
    "dove $p$ è l'ordine del polinomio $A(L)$ e $q$ è l'ordine del polinomio $C(L)$."
   ]
  },
  {
   "cell_type": "markdown",
   "metadata": {},
   "source": [
    "..."
   ]
  },
  {
   "cell_type": "markdown",
   "metadata": {},
   "source": [
    "### Previsione"
   ]
  },
  {
   "cell_type": "markdown",
   "metadata": {},
   "source": [
    "Data la disponibilità della serie temporale fino al tempo $T$, ci proponiamo ora di prevedere il fenomeno $k$ periodi in avanti. Il set informativo a cui facciamo riferimento è denotato con $\\mathcal{F}_T= \\{ y_1, y_2, \\dots y_{T-1}, y_T \\}$. Sfrutteremo il risultato fondamentale secondo il quale il previsore ottimale di $y_{T+k}$ è il suo valore atteso condizionato all'informazione disponibile al tempo $T$:\n",
    "$$\\tilde y_{T+k \\vert T} = \\mathbb{E} [y_{T+k} \\vert \\mathcal{F}_T] $$\n"
   ]
  },
  {
   "cell_type": "markdown",
   "metadata": {},
   "source": [
    "#### Previsione da un modello AR(1)"
   ]
  },
  {
   "cell_type": "markdown",
   "metadata": {},
   "source": [
    "$$ y_t = \\alpha t_{t-1} + \\epsilon_t$$\n",
    "\n",
    "$$\n",
    "\\begin{split}\n",
    "\\tilde y_{T+1 \\vert T} &= \\mathbb{E} \\left[ y_{T+1} \\vert \\mathcal{F}_T \\right]  \\\\\n",
    "&= \\alpha \\mathbb{E} [y_T \\vert \\mathcal{F}_T] + \\mathbb{E} [\\epsilon_{T+1} \\vert \\mathcal{F}_T] \\\\\n",
    "&= \\alpha y_T\n",
    "\\end{split}\n",
    "$$\n",
    "\n",
    "$$\n",
    "\\begin{split}\n",
    "\\tilde y_{T+2 \\vert T} &= \\mathbb{E} \\left[ y_{T+2} \\vert \\mathcal{F}_T \\right]  \\\\\n",
    "&= \\alpha \\mathbb{E} [y_{T+1} \\vert \\mathcal{F}_T] + \\mathbb{E} [\\epsilon_{T+2} \\vert \\mathcal{F}_T] \\\\\n",
    "&= \\alpha \\mathbb{E} [ (\\alpha y_T + \\epsilon_{T+1}) \\vert \\mathcal{F}_T] + \\mathbb{E} [\\epsilon_{T+2} \\vert \\mathcal{F}_T] \\\\\n",
    "&= \\alpha^2 y_T\n",
    "\\end{split}\n",
    "$$"
   ]
  },
  {
   "cell_type": "markdown",
   "metadata": {},
   "source": [
    "In generale, le previsioni seguono la formula ricorsiva:\n",
    "$$\n",
    "\\tilde y_{T+k \\vert T} = \\alpha \\tilde y_{T+k -1 \\vert T}\n",
    "$$\n",
    "con valore iniziale $(k=0)$ pari all'ultimo valore osservato $y_T$. Nei termini di quest'ultimo possiamo scrivere:\n",
    "$$\n",
    "\\tilde  y_{T+k \\vert T} = \\alpha^k y_T\n",
    "$$"
   ]
  },
  {
   "cell_type": "markdown",
   "metadata": {},
   "source": [
    "Calcoliamo ora la varianza dell'errore di previsione:\n",
    "\n",
    "$$\n",
    "\\begin{split}\n",
    "V \\left( \\tilde y_{T+1 \\vert T}  \\right) &= \\mathbb{E} \\left[  (y_{T+1} - \\tilde y_{T+1 \\vert T} )^2   \\right] \\\\\n",
    "&= \\mathbb{E} \\left[  ( \\alpha y_T + \\epsilon_{T+1} -\\alpha y_T          )^2   \\right] \\\\\n",
    "&= \\sigma^2\n",
    "\\end{split}\n",
    "$$\n",
    "\n",
    "$$\n",
    "\\begin{split}\n",
    "V \\left( \\tilde y_{T+2 \\vert T}  \\right) &= \\mathbb{E} \\left[  (y_{T+2} - \\tilde y_{T+2 \\vert T} )^2   \\right] \\\\\n",
    "&= \\mathbb{E} \\left[  ( \\alpha^2 y_T + \\alpha \\epsilon_{T+1} + \\epsilon_{T+2} -\\alpha^2 y_T          )^2   \\right] \\\\\n",
    "&= \\sigma^2(1 + \\alpha^2)\n",
    "\\end{split}\n",
    "$$\n",
    "\n",
    "In generale\n",
    "\n",
    "$$\n",
    "\\begin{split}\n",
    "V \\left( \\tilde y_{T+k \\vert T}  \\right) &= \\mathbb{E} \\left[  (y_{T+k} - \\tilde y_{T+k \\vert T} )^2   \\right] \\\\\n",
    "&= \\sigma^2(1 + \\alpha^2 + \\alpha^4 + \\dots + \\alpha^{2(k-1)})\n",
    "\\end{split}\n",
    "$$\n",
    "\n",
    "ricordando che\n",
    "$$\n",
    "\\sum\\limits_{i=0}^n x^{2i} = \\frac{1-x^{2(n+1)}}{1-x^2}\n",
    "$$\n",
    "\n",
    "otteniamo infine \n",
    "$$\n",
    "V \\left( \\tilde y_{T+k \\vert T}  \\right) = \\sigma^2  \\frac{1-\\alpha^{2k}}{1-\\alpha^2}\n",
    "$$\n"
   ]
  },
  {
   "cell_type": "markdown",
   "metadata": {
    "collapsed": true
   },
   "source": [
    "### Example\n",
    "\n",
    "Consideriamo un processo $ARMA(2,1)$ così definito:\n",
    "\n",
    "$$y_t=y_{t-1}-.5 y _{t-2} + \\epsilon_t + 0.75 \\epsilon_{t-1}$$"
   ]
  },
  {
   "cell_type": "code",
   "execution_count": 8,
   "metadata": {
    "collapsed": false
   },
   "outputs": [
    {
     "data": {
      "text/plain": [
       "Series: arma.sim \n",
       "ARIMA(2,0,1) with non-zero mean \n",
       "\n",
       "Coefficients:\n",
       "         ar1      ar2     ma1  intercept\n",
       "      0.9961  -0.5825  0.7541    -0.5386\n",
       "s.e.  0.0899   0.0890  0.0806     0.2601\n",
       "\n",
       "sigma^2 estimated as 0.7882:  log likelihood=-129.78\n",
       "AIC=269.55   AICc=270.19   BIC=282.58"
      ]
     },
     "execution_count": 8,
     "metadata": {},
     "output_type": "execute_result"
    }
   ],
   "source": [
    "require(\"vars\")\n",
    "require(\"forecast\")\n",
    "\n",
    "arma.sim <- arima.sim(model=list(ar=c(1.0,-0.5),ma=c(0.75)),n=100) \n",
    "#arima(arma.sim, order=c(2,0,1))\n",
    "\n",
    "VAR <- auto.arima(arma.sim) \n",
    "VAR"
   ]
  },
  {
   "cell_type": "code",
   "execution_count": null,
   "metadata": {
    "collapsed": true
   },
   "outputs": [],
   "source": []
  }
 ],
 "metadata": {
  "kernelspec": {
   "display_name": "R",
   "language": "R",
   "name": "ir"
  },
  "language_info": {
   "codemirror_mode": "r",
   "file_extension": ".r",
   "mimetype": "text/x-r-source",
   "name": "R",
   "pygments_lexer": "r",
   "version": "3.2.2"
  }
 },
 "nbformat": 4,
 "nbformat_minor": 0
}
