{
 "cells": [
  {
   "cell_type": "markdown",
   "metadata": {},
   "source": [
    "## Processi ARMA"
   ]
  },
  {
   "cell_type": "markdown",
   "metadata": {},
   "source": [
    "La classe dei processi ARMA comprende sia i processi AR che i processi MA come caso particolare. Un processo $ARMA(p,q)$ è infatti definito da:\n",
    "$$A(L) y_t = C(L) \\epsilon_t$$\n",
    "dove $p$ è l'ordine del polinomio $A(L)$ e $q$ è l'ordine del polinomio $C(L)$."
   ]
  },
  {
   "cell_type": "markdown",
   "metadata": {},
   "source": [
    "..."
   ]
  },
  {
   "cell_type": "markdown",
   "metadata": {},
   "source": [
    "### Previsione"
   ]
  },
  {
   "cell_type": "markdown",
   "metadata": {},
   "source": [
    "Data la disponibilità della serie temporale fino al tempo $T$, ci proponiamo ora di prevedere il fenomeno $k$ periodi in avanti. Il set informativo a cui facciamo riferimento è denotato con $\\mathcal{F}_T= \\{ y_1, y_2, \\dots y_{T-1}, y_T \\}$. Sfrutteremo il risultato fondamentale secondo il quale il previsore ottimale di $y_{T+k}$ è il suo valore atteso condizionato all'informazione disponibile al tempo $T$:\n",
    "$$\\tilde y_{T+k \\vert T} = \\mathbb{E} [y_{T+k} \\vert \\mathcal{F}_T] $$\n"
   ]
  },
  {
   "cell_type": "markdown",
   "metadata": {},
   "source": [
    "#### Previsione da un modello AR(1)"
   ]
  },
  {
   "cell_type": "markdown",
   "metadata": {},
   "source": [
    "$$ y_t = \\alpha t_{t-1} + \\epsilon_t$$\n",
    "\n",
    "$$\n",
    "\\begin{split}\n",
    "\\tilde y_{T+1 \\vert T} &= \\mathbb{E} \\left[ y_{T+1} \\vert \\mathcal{F}_T \\right]  \\\\\n",
    "&= \\alpha \\mathbb{E} [y_T \\vert \\mathcal{F}_T] + \\mathbb{E} [\\epsilon_{T+1} \\vert \\mathcal{F}_T] \\\\\n",
    "&= \\alpha y_T\n",
    "\\end{split}\n",
    "$$\n",
    "\n",
    "$$\n",
    "\\begin{split}\n",
    "\\tilde y_{T+2 \\vert T} &= \\mathbb{E} \\left[ y_{T+2} \\vert \\mathcal{F}_T \\right]  \\\\\n",
    "&= \\alpha \\mathbb{E} [y_{T+1} \\vert \\mathcal{F}_T] + \\mathbb{E} [\\epsilon_{T+2} \\vert \\mathcal{F}_T] \\\\\n",
    "&= \\alpha \\mathbb{E} [ (\\alpha y_T + \\epsilon_{T+1}) \\vert \\mathcal{F}_T] + \\mathbb{E} [\\epsilon_{T+2} \\vert \\mathcal{F}_T] \\\\\n",
    "&= \\alpha^2 y_T\n",
    "\\end{split}\n",
    "$$"
   ]
  },
  {
   "cell_type": "markdown",
   "metadata": {},
   "source": [
    "In generale, le previsioni seguono la formula ricorsiva:\n",
    "$$\n",
    "\\tilde y_{T+k \\vert T} = \\alpha \\tilde y_{T+k -1 \\vert T}\n",
    "$$\n",
    "con valore iniziale $(k=0)$ pari all'ultimo valore osservato $y_T$. Nei termini di quest'ultimo possiamo scrivere:\n",
    "$$\n",
    "\\tilde  y_{T+k \\vert T} = \\alpha^k y_T\n",
    "$$"
   ]
  },
  {
   "cell_type": "markdown",
   "metadata": {},
   "source": [
    "Calcoliamo ora la varianza dell'errore di previsione:\n",
    "\n",
    "$$\n",
    "\\begin{split}\n",
    "V \\left( \\tilde y_{T+1 \\vert T}  \\right) &= \\mathbb{E} \\left[  (y_{T+1} - \\tilde y_{T+1 \\vert T} )^2   \\right] \\\\\n",
    "&= \\mathbb{E} \\left[  ( \\alpha y_T + \\epsilon_{T+1} -\\alpha y_T          )^2   \\right] \\\\\n",
    "&= \\sigma^2\n",
    "\\end{split}\n",
    "$$\n",
    "\n",
    "$$\n",
    "\\begin{split}\n",
    "V \\left( \\tilde y_{T+2 \\vert T}  \\right) &= \\mathbb{E} \\left[  (y_{T+2} - \\tilde y_{T+2 \\vert T} )^2   \\right] \\\\\n",
    "&= \\mathbb{E} \\left[  ( \\alpha^2 y_T + \\alpha \\epsilon_{T+1} + \\epsilon_{T+2} -\\alpha^2 y_T          )^2   \\right] \\\\\n",
    "&= \\sigma^2(1 + \\alpha^2)\n",
    "\\end{split}\n",
    "$$\n",
    "\n",
    "In generale\n",
    "\n",
    "$$\n",
    "\\begin{split}\n",
    "V \\left( \\tilde y_{T+k \\vert T}  \\right) &= \\mathbb{E} \\left[  (y_{T+k} - \\tilde y_{T+k \\vert T} )^2   \\right] \\\\\n",
    "&= \\sigma^2(1 + \\alpha^2 + \\alpha^4 + \\dots + \\alpha^{2(k-1)})\n",
    "\\end{split}\n",
    "$$\n",
    "\n",
    "ricordando che\n",
    "$$\n",
    "\\sum\\limits_{i=0}^n x^{2i} = \\frac{1-x^{2(n+1)}}{1-x^2}\n",
    "$$\n",
    "\n",
    "otteniamo infine \n",
    "$$\n",
    "V \\left( \\tilde y_{T+k \\vert T}  \\right) = \\sigma^2  \\frac{1-\\alpha^{2k}}{1-\\alpha^2}\n",
    "$$\n"
   ]
  },
  {
   "cell_type": "markdown",
   "metadata": {
    "collapsed": true
   },
   "source": [
    "### Example\n",
    "\n",
    "Consideriamo un processo $ARMA(2,1)$ così definito:\n",
    "\n",
    "$$y_t=y_{t-1}-.5 y _{t-2} + \\epsilon_t + 0.75 \\epsilon_{t-1}$$"
   ]
  },
  {
   "cell_type": "code",
   "execution_count": null,
   "metadata": {
    "collapsed": true
   },
   "outputs": [],
   "source": [
    " arma.sim<-arima.sim(model=list(ar=c(1,-.5),ma=c(-.7,.1)),n=100) "
   ]
  }
 ],
 "metadata": {
  "kernelspec": {
   "display_name": "Python 2",
   "language": "python",
   "name": "python2"
  },
  "language_info": {
   "codemirror_mode": {
    "name": "ipython",
    "version": 2
   },
   "file_extension": ".py",
   "mimetype": "text/x-python",
   "name": "python",
   "nbconvert_exporter": "python",
   "pygments_lexer": "ipython2",
   "version": "2.7.10"
  }
 },
 "nbformat": 4,
 "nbformat_minor": 0
}
