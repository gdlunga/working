{
 "cells": [
  {
   "cell_type": "code",
   "execution_count": 6,
   "metadata": {
    "collapsed": false
   },
   "outputs": [
    {
     "name": "stderr",
     "output_type": "stream",
     "text": [
      "The following objects are masked from myDf (pos = 3):\n",
      "\n",
      "    Default, EBIT.TA, ME.TL, RE.TA, S.TA, WC.TA\n",
      "\n"
     ]
    }
   ],
   "source": [
    "options(warn=-1)\n",
    "\n",
    "require(XLConnect)\n",
    "require(rms)\n",
    "\n",
    "myDf  <- read.csv(\"/Users/giovanni/git_repository/working/R/credit risk modelling/default_data.csv\") \n",
    "attach(myDf)\n"
   ]
  },
  {
   "cell_type": "markdown",
   "metadata": {},
   "source": [
    "### Model 1"
   ]
  },
  {
   "cell_type": "code",
   "execution_count": 7,
   "metadata": {
    "collapsed": false
   },
   "outputs": [
    {
     "data": {
      "text/plain": [
       "\n",
       "Call:\n",
       "glm(formula = Default ~ WC.TA + RE.TA + EBIT.TA + ME.TL + S.TA, \n",
       "    family = \"binomial\", data = myDf)\n",
       "\n",
       "Deviance Residuals: \n",
       "    Min       1Q   Median       3Q      Max  \n",
       "-1.9855  -0.1971  -0.1194  -0.0407   5.0377  \n",
       "\n",
       "Coefficients:\n",
       "            Estimate Std. Error z value Pr(>|z|)    \n",
       "(Intercept)  -2.5508     0.2660  -9.588  < 2e-16 ***\n",
       "WC.TA         0.4188     0.5735   0.730  0.46525    \n",
       "RE.TA        -1.4533     0.2293  -6.339 2.32e-10 ***\n",
       "EBIT.TA      -7.8839     2.7127  -2.906  0.00366 ** \n",
       "ME.TL        -1.5917     0.3232  -4.925 8.44e-07 ***\n",
       "S.TA          0.6253     0.3490   1.792  0.07314 .  \n",
       "---\n",
       "Signif. codes:  0 ‘***’ 0.001 ‘**’ 0.01 ‘*’ 0.05 ‘.’ 0.1 ‘ ’ 1\n",
       "\n",
       "(Dispersion parameter for binomial family taken to be 1)\n",
       "\n",
       "    Null deviance: 721.20  on 3999  degrees of freedom\n",
       "Residual deviance: 561.39  on 3994  degrees of freedom\n",
       "AIC: 573.39\n",
       "\n",
       "Number of Fisher Scoring iterations: 10\n"
      ]
     },
     "execution_count": 7,
     "metadata": {},
     "output_type": "execute_result"
    },
    {
     "name": "stderr",
     "output_type": "stream",
     "text": [
      "Waiting for profiling to be done...\n"
     ]
    },
    {
     "data": {
      "text/html": [
       "<table>\n",
       "<thead><tr><th></th><th scope=col>2.5 %</th><th scope=col>97.5 %</th></tr></thead>\n",
       "<tbody>\n",
       "\t<tr><th scope=row>(Intercept)</th><td>-3.079534</td><td>-2.033653</td></tr>\n",
       "\t<tr><th scope=row>WC.TA</th><td>-0.7599312</td><td> 1.5326722</td></tr>\n",
       "\t<tr><th scope=row>RE.TA</th><td>-1.9011820</td><td>-0.9988416</td></tr>\n",
       "\t<tr><th scope=row>EBIT.TA</th><td>-13.106952</td><td> -2.355428</td></tr>\n",
       "\t<tr><th scope=row>ME.TL</th><td>-2.272975</td><td>-1.008079</td></tr>\n",
       "\t<tr><th scope=row>S.TA</th><td>-0.1529173</td><td> 1.3672795</td></tr>\n",
       "</tbody>\n",
       "</table>\n"
      ],
      "text/latex": [
       "\\begin{tabular}{r|ll}\n",
       "  & 2.5 % & 97.5 %\\\\\n",
       "\\hline\n",
       "\t(Intercept) & -3.079534 & -2.033653\\\\\n",
       "\tWC.TA & -0.7599312 &  1.5326722\\\\\n",
       "\tRE.TA & -1.9011820 & -0.9988416\\\\\n",
       "\tEBIT.TA & -13.106952 &  -2.355428\\\\\n",
       "\tME.TL & -2.272975 & -1.008079\\\\\n",
       "\tS.TA & -0.1529173 &  1.3672795\\\\\n",
       "\\end{tabular}\n"
      ],
      "text/markdown": [
       "1. -3.07953406859485\n",
       "2. -0.759931166631971\n",
       "3. -1.90118197892741\n",
       "4. -13.1069515931108\n",
       "5. -2.27297499306207\n",
       "6. -0.152917298126407\n",
       "7. -2.03365262657975\n",
       "8. 1.53267222027153\n",
       "9. -0.998841602589601\n",
       "10. -2.35542814462633\n",
       "11. -1.00807856957481\n",
       "12. 1.36727949301441\n",
       "\n",
       "\n"
      ],
      "text/plain": [
       "                  2.5 %     97.5 %\n",
       "(Intercept)  -3.0795341 -2.0336526\n",
       "WC.TA        -0.7599312  1.5326722\n",
       "RE.TA        -1.9011820 -0.9988416\n",
       "EBIT.TA     -13.1069516 -2.3554281\n",
       "ME.TL        -2.2729750 -1.0080786\n",
       "S.TA         -0.1529173  1.3672795"
      ]
     },
     "execution_count": 7,
     "metadata": {},
     "output_type": "execute_result"
    },
    {
     "name": "stdout",
     "output_type": "stream",
     "text": [
      "\n",
      "Logistic Regression Model\n",
      "\n",
      "lrm(formula = Default ~ WC.TA + RE.TA + EBIT.TA + ME.TL + S.TA)\n",
      "\n",
      "                      Model Likelihood     Discrimination    Rank Discrim.    \n",
      "                         Ratio Test            Indexes          Indexes       \n",
      "Obs          4000    LR chi2     159.81    R2       0.237    C       0.880    \n",
      " 0           3928    d.f.             5    g        3.681    Dxy     0.761    \n",
      " 1             72    Pr(> chi2) <0.0001    gr      39.704    gamma   0.776    \n",
      "max |deriv| 7e-07                          gp       0.025    tau-a   0.027    \n",
      "                                           Brier    0.016                     \n",
      "\n",
      "          Coef    S.E.   Wald Z Pr(>|Z|)\n",
      "Intercept -2.5508 0.2660 -9.59  <0.0001 \n",
      "WC.TA      0.4188 0.5735  0.73  0.4653  \n",
      "RE.TA     -1.4533 0.2293 -6.34  <0.0001 \n",
      "EBIT.TA   -7.8839 2.7127 -2.91  0.0037  \n",
      "ME.TL     -1.5917 0.3232 -4.92  <0.0001 \n",
      "S.TA       0.6253 0.3490  1.79  0.0731  \n",
      "\n",
      "\n"
     ]
    }
   ],
   "source": [
    "\n",
    "mylogit <- glm(Default ~ WC.TA + RE.TA + EBIT.TA + ME.TL + S.TA, data = myDf, family = \"binomial\")\n",
    "summary(mylogit)\n",
    "confint(mylogit)\n",
    "mod1b <- lrm(Default ~ WC.TA + RE.TA + EBIT.TA + ME.TL + S.TA)\n",
    "print(mod1b)\n"
   ]
  },
  {
   "cell_type": "markdown",
   "metadata": {},
   "source": [
    "### Model 2"
   ]
  },
  {
   "cell_type": "code",
   "execution_count": 11,
   "metadata": {
    "collapsed": false
   },
   "outputs": [
    {
     "data": {
      "text/plain": [
       "\n",
       "Call:\n",
       "glm(formula = Default ~ RE.TA + EBIT.TA + ME.TL, family = \"binomial\", \n",
       "    data = myDf)\n",
       "\n",
       "Deviance Residuals: \n",
       "    Min       1Q   Median       3Q      Max  \n",
       "-1.9331  -0.2005  -0.1197  -0.0402   5.0761  \n",
       "\n",
       "Coefficients:\n",
       "            Estimate Std. Error z value Pr(>|z|)    \n",
       "(Intercept)  -2.3236     0.2357  -9.856  < 2e-16 ***\n",
       "RE.TA        -1.4191     0.2286  -6.207 5.41e-10 ***\n",
       "EBIT.TA      -7.0406     2.7396  -2.570   0.0102 *  \n",
       "ME.TL        -1.6144     0.3246  -4.973 6.59e-07 ***\n",
       "---\n",
       "Signif. codes:  0 ‘***’ 0.001 ‘**’ 0.01 ‘*’ 0.05 ‘.’ 0.1 ‘ ’ 1\n",
       "\n",
       "(Dispersion parameter for binomial family taken to be 1)\n",
       "\n",
       "    Null deviance: 721.20  on 3999  degrees of freedom\n",
       "Residual deviance: 564.84  on 3996  degrees of freedom\n",
       "AIC: 572.84\n",
       "\n",
       "Number of Fisher Scoring iterations: 10\n"
      ]
     },
     "execution_count": 11,
     "metadata": {},
     "output_type": "execute_result"
    },
    {
     "name": "stderr",
     "output_type": "stream",
     "text": [
      "Waiting for profiling to be done...\n"
     ]
    },
    {
     "data": {
      "text/html": [
       "<table>\n",
       "<thead><tr><th></th><th scope=col>2.5 %</th><th scope=col>97.5 %</th></tr></thead>\n",
       "<tbody>\n",
       "\t<tr><th scope=row>(Intercept)</th><td>-2.791929</td><td>-1.866711</td></tr>\n",
       "\t<tr><th scope=row>RE.TA</th><td>-1.8679648</td><td>-0.9688638</td></tr>\n",
       "\t<tr><th scope=row>EBIT.TA</th><td>-12.278368</td><td> -1.446279</td></tr>\n",
       "\t<tr><th scope=row>ME.TL</th><td>-2.298299</td><td>-1.027880</td></tr>\n",
       "</tbody>\n",
       "</table>\n"
      ],
      "text/latex": [
       "\\begin{tabular}{r|ll}\n",
       "  & 2.5 % & 97.5 %\\\\\n",
       "\\hline\n",
       "\t(Intercept) & -2.791929 & -1.866711\\\\\n",
       "\tRE.TA & -1.8679648 & -0.9688638\\\\\n",
       "\tEBIT.TA & -12.278368 &  -1.446279\\\\\n",
       "\tME.TL & -2.298299 & -1.027880\\\\\n",
       "\\end{tabular}\n"
      ],
      "text/markdown": [
       "1. -2.79192929740505\n",
       "2. -1.86796481875758\n",
       "3. -12.2783677358093\n",
       "4. -2.29829887792988\n",
       "5. -1.86671088249169\n",
       "6. -0.968863792633108\n",
       "7. -1.44627877499358\n",
       "8. -1.02788011701129\n",
       "\n",
       "\n"
      ],
      "text/plain": [
       "                 2.5 %     97.5 %\n",
       "(Intercept)  -2.791929 -1.8667109\n",
       "RE.TA        -1.867965 -0.9688638\n",
       "EBIT.TA     -12.278368 -1.4462788\n",
       "ME.TL        -2.298299 -1.0278801"
      ]
     },
     "execution_count": 11,
     "metadata": {},
     "output_type": "execute_result"
    },
    {
     "name": "stdout",
     "output_type": "stream",
     "text": [
      "\n",
      "Logistic Regression Model\n",
      "\n",
      "lrm(formula = Default ~ RE.TA + EBIT.TA + ME.TL)\n",
      "\n",
      "                      Model Likelihood     Discrimination    Rank Discrim.    \n",
      "                         Ratio Test            Indexes          Indexes       \n",
      "Obs          4000    LR chi2     156.36    R2       0.232    C       0.879    \n",
      " 0           3928    d.f.             3    g        3.732    Dxy     0.757    \n",
      " 1             72    Pr(> chi2) <0.0001    gr      41.767    gamma   0.772    \n",
      "max |deriv| 3e-07                          gp       0.025    tau-a   0.027    \n",
      "                                           Brier    0.016                     \n",
      "\n",
      "          Coef    S.E.   Wald Z Pr(>|Z|)\n",
      "Intercept -2.3236 0.2357 -9.86  <0.0001 \n",
      "RE.TA     -1.4191 0.2286 -6.21  <0.0001 \n",
      "EBIT.TA   -7.0406 2.7396 -2.57  0.0102  \n",
      "ME.TL     -1.6144 0.3246 -4.97  <0.0001 \n",
      "\n",
      "\n"
     ]
    }
   ],
   "source": [
    "\n",
    "mylogit <- glm(Default ~ RE.TA + EBIT.TA + ME.TL, data = myDf, family = \"binomial\")\n",
    "summary(mylogit)\n",
    "confint(mylogit)\n",
    "mod1b <- lrm(Default ~ RE.TA + EBIT.TA + ME.TL)\n",
    "print(mod1b)\n"
   ]
  },
  {
   "cell_type": "markdown",
   "metadata": {},
   "source": [
    "### wald.test(b = coef(mylogit), Sigma = vcov(mylogit), Terms = c(1,5))"
   ]
  },
  {
   "cell_type": "code",
   "execution_count": 10,
   "metadata": {
    "collapsed": false
   },
   "outputs": [
    {
     "data": {
      "text/plain": [
       "    Default          WC.TA             RE.TA            EBIT.TA        \n",
       " Min.   :0.000   Min.   :-2.2400   Min.   :-3.3100   Min.   :-0.59000  \n",
       " 1st Qu.:0.000   1st Qu.: 0.0300   1st Qu.: 0.0900   1st Qu.: 0.04000  \n",
       " Median :0.000   Median : 0.1200   Median : 0.2200   Median : 0.05000  \n",
       " Mean   :0.018   Mean   : 0.1426   Mean   : 0.2104   Mean   : 0.05181  \n",
       " 3rd Qu.:0.000   3rd Qu.: 0.2400   3rd Qu.: 0.3700   3rd Qu.: 0.07000  \n",
       " Max.   :1.000   Max.   : 0.7700   Max.   : 1.6400   Max.   : 0.20000  \n",
       "     ME.TL             S.TA       \n",
       " Min.   : 0.020   Min.   :0.0400  \n",
       " 1st Qu.: 0.620   1st Qu.:0.1700  \n",
       " Median : 1.140   Median :0.2600  \n",
       " Mean   : 1.954   Mean   :0.3036  \n",
       " 3rd Qu.: 2.240   3rd Qu.:0.3700  \n",
       " Max.   :60.610   Max.   :5.0100  "
      ]
     },
     "execution_count": 10,
     "metadata": {},
     "output_type": "execute_result"
    },
    {
     "ename": "ERROR",
     "evalue": "Error in hist.default(w, seq(-3, 3, 0.01)): some 'x' not counted; maybe 'breaks' do not span range of 'x'\n",
     "output_type": "error",
     "traceback": [
      "Error in hist.default(w, seq(-3, 3, 0.01)): some 'x' not counted; maybe 'breaks' do not span range of 'x'\n"
     ]
    },
    {
     "data": {
      "image/png": "[encoded data removed]",
      "image/svg+xml": [
       "<?xml version=\"1.0\" encoding=\"UTF-8\"?>\n",
       "<svg xmlns=\"http://www.w3.org/2000/svg\" xmlns:xlink=\"http://www.w3.org/1999/xlink\" width=\"504pt\" height=\"504pt\" viewBox=\"0 0 504 504\" version=\"1.1\">\n",
       "<defs>\n",
       "<g>\n",
       "<symbol overflow=\"visible\" id=\"glyph0-0\">\n",
       "<path style=\"stroke:none;\" d=\"M 0.390625 0 L 0.390625 -8.609375 L 7.21875 -8.609375 L 7.21875 0 Z M 6.140625 -1.078125 L 6.140625 -7.53125 L 1.46875 -7.53125 L 1.46875 -1.078125 Z \"/>\n",
       "</symbol>\n",
       "<symbol overflow=\"visible\" id=\"glyph0-1\">\n",
       "<path style=\"stroke:none;\" d=\"M 0.5 -3.890625 L 3.4375 -3.890625 L 3.4375 -2.796875 L 0.5 -2.796875 Z \"/>\n",
       "</symbol>\n",
       "<symbol overflow=\"visible\" id=\"glyph0-2\">\n",
       "<path style=\"stroke:none;\" d=\"M 3.125 0.234375 C 2.125 0.234375 1.398438 -0.0351562 0.953125 -0.578125 C 0.503906 -1.128906 0.28125 -1.796875 0.28125 -2.578125 L 1.390625 -2.578125 C 1.429688 -2.035156 1.53125 -1.640625 1.6875 -1.390625 C 1.96875 -0.953125 2.460938 -0.734375 3.171875 -0.734375 C 3.734375 -0.734375 4.179688 -0.878906 4.515625 -1.171875 C 4.847656 -1.472656 5.015625 -1.859375 5.015625 -2.328125 C 5.015625 -2.898438 4.835938 -3.300781 4.484375 -3.53125 C 4.128906 -3.769531 3.640625 -3.890625 3.015625 -3.890625 C 2.941406 -3.890625 2.867188 -3.882812 2.796875 -3.875 C 2.722656 -3.875 2.648438 -3.875 2.578125 -3.875 L 2.578125 -4.8125 C 2.691406 -4.789062 2.785156 -4.78125 2.859375 -4.78125 C 2.929688 -4.78125 3.007812 -4.78125 3.09375 -4.78125 C 3.488281 -4.78125 3.8125 -4.84375 4.0625 -4.96875 C 4.507812 -5.1875 4.734375 -5.578125 4.734375 -6.140625 C 4.734375 -6.554688 4.582031 -6.875 4.28125 -7.09375 C 3.988281 -7.320312 3.644531 -7.4375 3.25 -7.4375 C 2.550781 -7.4375 2.066406 -7.203125 1.796875 -6.734375 C 1.648438 -6.484375 1.566406 -6.117188 1.546875 -5.640625 L 0.5 -5.640625 C 0.5 -6.265625 0.625 -6.796875 0.875 -7.234375 C 1.300781 -8.015625 2.054688 -8.40625 3.140625 -8.40625 C 3.992188 -8.40625 4.65625 -8.210938 5.125 -7.828125 C 5.59375 -7.453125 5.828125 -6.898438 5.828125 -6.171875 C 5.828125 -5.660156 5.691406 -5.242188 5.421875 -4.921875 C 5.242188 -4.722656 5.019531 -4.566406 4.75 -4.453125 C 5.1875 -4.328125 5.53125 -4.09375 5.78125 -3.75 C 6.03125 -3.40625 6.15625 -2.984375 6.15625 -2.484375 C 6.15625 -1.679688 5.890625 -1.023438 5.359375 -0.515625 C 4.835938 -0.015625 4.09375 0.234375 3.125 0.234375 Z \"/>\n",
       "</symbol>\n",
       "<symbol overflow=\"visible\" id=\"glyph0-3\">\n",
       "<path style=\"stroke:none;\" d=\"M 0.375 0 C 0.414062 -0.71875 0.566406 -1.34375 0.828125 -1.875 C 1.085938 -2.414062 1.59375 -2.90625 2.34375 -3.34375 L 3.46875 -4 C 3.96875 -4.289062 4.320312 -4.539062 4.53125 -4.75 C 4.851562 -5.070312 5.015625 -5.441406 5.015625 -5.859375 C 5.015625 -6.347656 4.863281 -6.734375 4.5625 -7.015625 C 4.269531 -7.304688 3.882812 -7.453125 3.40625 -7.453125 C 2.675781 -7.453125 2.175781 -7.179688 1.90625 -6.640625 C 1.75 -6.335938 1.664062 -5.929688 1.65625 -5.421875 L 0.578125 -5.421875 C 0.585938 -6.148438 0.722656 -6.742188 0.984375 -7.203125 C 1.441406 -8.015625 2.25 -8.421875 3.40625 -8.421875 C 4.363281 -8.421875 5.0625 -8.160156 5.5 -7.640625 C 5.945312 -7.117188 6.171875 -6.539062 6.171875 -5.90625 C 6.171875 -5.238281 5.9375 -4.664062 5.46875 -4.1875 C 5.195312 -3.90625 4.707031 -3.566406 4 -3.171875 L 3.1875 -2.734375 C 2.8125 -2.523438 2.515625 -2.320312 2.296875 -2.125 C 1.898438 -1.789062 1.648438 -1.414062 1.546875 -1 L 6.140625 -1 L 6.140625 0 Z \"/>\n",
       "</symbol>\n",
       "<symbol overflow=\"visible\" id=\"glyph0-4\">\n",
       "<path style=\"stroke:none;\" d=\"M 1.15625 -5.9375 L 1.15625 -6.75 C 1.914062 -6.820312 2.441406 -6.945312 2.734375 -7.125 C 3.035156 -7.300781 3.265625 -7.710938 3.421875 -8.359375 L 4.25 -8.359375 L 4.25 0 L 3.125 0 L 3.125 -5.9375 Z \"/>\n",
       "</symbol>\n",
       "<symbol overflow=\"visible\" id=\"glyph0-5\">\n",
       "<path style=\"stroke:none;\" d=\"M 3.25 -8.390625 C 4.332031 -8.390625 5.117188 -7.941406 5.609375 -7.046875 C 5.984375 -6.359375 6.171875 -5.410156 6.171875 -4.203125 C 6.171875 -3.066406 6 -2.125 5.65625 -1.375 C 5.164062 -0.300781 4.359375 0.234375 3.234375 0.234375 C 2.234375 0.234375 1.484375 -0.203125 0.984375 -1.078125 C 0.578125 -1.816406 0.375 -2.800781 0.375 -4.03125 C 0.375 -4.976562 0.5 -5.796875 0.75 -6.484375 C 1.207031 -7.753906 2.039062 -8.390625 3.25 -8.390625 Z M 3.234375 -0.734375 C 3.785156 -0.734375 4.222656 -0.972656 4.546875 -1.453125 C 4.867188 -1.941406 5.03125 -2.847656 5.03125 -4.171875 C 5.03125 -5.117188 4.910156 -5.898438 4.671875 -6.515625 C 4.441406 -7.128906 3.988281 -7.4375 3.3125 -7.4375 C 2.6875 -7.4375 2.226562 -7.144531 1.9375 -6.5625 C 1.65625 -5.976562 1.515625 -5.117188 1.515625 -3.984375 C 1.515625 -3.128906 1.609375 -2.441406 1.796875 -1.921875 C 2.078125 -1.128906 2.554688 -0.734375 3.234375 -0.734375 Z \"/>\n",
       "</symbol>\n",
       "<symbol overflow=\"visible\" id=\"glyph0-6\">\n",
       "<path style=\"stroke:none;\" d=\"M 1.484375 -8.609375 L 3.109375 -1.609375 L 5.046875 -8.609375 L 6.3125 -8.609375 L 8.265625 -1.609375 L 9.890625 -8.609375 L 11.15625 -8.609375 L 8.90625 0 L 7.671875 0 L 5.6875 -7.140625 L 3.6875 0 L 2.46875 0 L 0.21875 -8.609375 Z \"/>\n",
       "</symbol>\n",
       "<symbol overflow=\"visible\" id=\"glyph1-0\">\n",
       "<path style=\"stroke:none;\" d=\"M 0 -0.390625 L -8.609375 -0.390625 L -8.609375 -7.21875 L 0 -7.21875 Z M -1.078125 -6.140625 L -7.53125 -6.140625 L -7.53125 -1.46875 L -1.078125 -1.46875 Z \"/>\n",
       "</symbol>\n",
       "<symbol overflow=\"visible\" id=\"glyph1-1\">\n",
       "<path style=\"stroke:none;\" d=\"M -8.390625 -3.25 C -8.390625 -4.332031 -7.941406 -5.117188 -7.046875 -5.609375 C -6.359375 -5.984375 -5.410156 -6.171875 -4.203125 -6.171875 C -3.066406 -6.171875 -2.125 -6 -1.375 -5.65625 C -0.300781 -5.164062 0.234375 -4.359375 0.234375 -3.234375 C 0.234375 -2.234375 -0.203125 -1.484375 -1.078125 -0.984375 C -1.816406 -0.578125 -2.800781 -0.375 -4.03125 -0.375 C -4.976562 -0.375 -5.796875 -0.5 -6.484375 -0.75 C -7.753906 -1.207031 -8.390625 -2.039062 -8.390625 -3.25 Z M -0.734375 -3.234375 C -0.734375 -3.785156 -0.972656 -4.222656 -1.453125 -4.546875 C -1.941406 -4.867188 -2.847656 -5.03125 -4.171875 -5.03125 C -5.117188 -5.03125 -5.898438 -4.910156 -6.515625 -4.671875 C -7.128906 -4.441406 -7.4375 -3.988281 -7.4375 -3.3125 C -7.4375 -2.6875 -7.144531 -2.226562 -6.5625 -1.9375 C -5.976562 -1.65625 -5.117188 -1.515625 -3.984375 -1.515625 C -3.128906 -1.515625 -2.441406 -1.609375 -1.921875 -1.796875 C -1.128906 -2.078125 -0.734375 -2.554688 -0.734375 -3.234375 Z \"/>\n",
       "</symbol>\n",
       "<symbol overflow=\"visible\" id=\"glyph1-2\">\n",
       "<path style=\"stroke:none;\" d=\"M -1.28125 -1.03125 L -1.28125 -2.25 L 0 -2.25 L 0 -1.03125 Z \"/>\n",
       "</symbol>\n",
       "<symbol overflow=\"visible\" id=\"glyph1-3\">\n",
       "<path style=\"stroke:none;\" d=\"M -5.9375 -1.15625 L -6.75 -1.15625 C -6.820312 -1.914062 -6.945312 -2.441406 -7.125 -2.734375 C -7.300781 -3.035156 -7.710938 -3.265625 -8.359375 -3.421875 L -8.359375 -4.25 L 0 -4.25 L 0 -3.125 L -5.9375 -3.125 Z \"/>\n",
       "</symbol>\n",
       "<symbol overflow=\"visible\" id=\"glyph1-4\">\n",
       "<path style=\"stroke:none;\" d=\"M 0 -0.375 C -0.71875 -0.414062 -1.34375 -0.566406 -1.875 -0.828125 C -2.414062 -1.085938 -2.90625 -1.59375 -3.34375 -2.34375 L -4 -3.46875 C -4.289062 -3.96875 -4.539062 -4.320312 -4.75 -4.53125 C -5.070312 -4.851562 -5.441406 -5.015625 -5.859375 -5.015625 C -6.347656 -5.015625 -6.734375 -4.863281 -7.015625 -4.5625 C -7.304688 -4.269531 -7.453125 -3.882812 -7.453125 -3.40625 C -7.453125 -2.675781 -7.179688 -2.175781 -6.640625 -1.90625 C -6.335938 -1.75 -5.929688 -1.664062 -5.421875 -1.65625 L -5.421875 -0.578125 C -6.148438 -0.585938 -6.742188 -0.722656 -7.203125 -0.984375 C -8.015625 -1.441406 -8.421875 -2.25 -8.421875 -3.40625 C -8.421875 -4.363281 -8.160156 -5.0625 -7.640625 -5.5 C -7.117188 -5.945312 -6.539062 -6.171875 -5.90625 -6.171875 C -5.238281 -6.171875 -4.664062 -5.9375 -4.1875 -5.46875 C -3.90625 -5.195312 -3.566406 -4.707031 -3.171875 -4 L -2.734375 -3.1875 C -2.523438 -2.8125 -2.320312 -2.515625 -2.125 -2.296875 C -1.789062 -1.898438 -1.414062 -1.648438 -1 -1.546875 L -1 -6.140625 L 0 -6.140625 Z \"/>\n",
       "</symbol>\n",
       "<symbol overflow=\"visible\" id=\"glyph1-5\">\n",
       "<path style=\"stroke:none;\" d=\"M 0.234375 -3.125 C 0.234375 -2.125 -0.0351562 -1.398438 -0.578125 -0.953125 C -1.128906 -0.503906 -1.796875 -0.28125 -2.578125 -0.28125 L -2.578125 -1.390625 C -2.035156 -1.429688 -1.640625 -1.53125 -1.390625 -1.6875 C -0.953125 -1.96875 -0.734375 -2.460938 -0.734375 -3.171875 C -0.734375 -3.734375 -0.878906 -4.179688 -1.171875 -4.515625 C -1.472656 -4.847656 -1.859375 -5.015625 -2.328125 -5.015625 C -2.898438 -5.015625 -3.300781 -4.835938 -3.53125 -4.484375 C -3.769531 -4.128906 -3.890625 -3.640625 -3.890625 -3.015625 C -3.890625 -2.941406 -3.882812 -2.867188 -3.875 -2.796875 C -3.875 -2.722656 -3.875 -2.648438 -3.875 -2.578125 L -4.8125 -2.578125 C -4.789062 -2.691406 -4.78125 -2.785156 -4.78125 -2.859375 C -4.78125 -2.929688 -4.78125 -3.007812 -4.78125 -3.09375 C -4.78125 -3.488281 -4.84375 -3.8125 -4.96875 -4.0625 C -5.1875 -4.507812 -5.578125 -4.734375 -6.140625 -4.734375 C -6.554688 -4.734375 -6.875 -4.582031 -7.09375 -4.28125 C -7.320312 -3.988281 -7.4375 -3.644531 -7.4375 -3.25 C -7.4375 -2.550781 -7.203125 -2.066406 -6.734375 -1.796875 C -6.484375 -1.648438 -6.117188 -1.566406 -5.640625 -1.546875 L -5.640625 -0.5 C -6.265625 -0.5 -6.796875 -0.625 -7.234375 -0.875 C -8.015625 -1.300781 -8.40625 -2.054688 -8.40625 -3.140625 C -8.40625 -3.992188 -8.210938 -4.65625 -7.828125 -5.125 C -7.453125 -5.59375 -6.898438 -5.828125 -6.171875 -5.828125 C -5.660156 -5.828125 -5.242188 -5.691406 -4.921875 -5.421875 C -4.722656 -5.242188 -4.566406 -5.019531 -4.453125 -4.75 C -4.328125 -5.1875 -4.09375 -5.53125 -3.75 -5.78125 C -3.40625 -6.03125 -2.984375 -6.15625 -2.484375 -6.15625 C -1.679688 -6.15625 -1.023438 -5.890625 -0.515625 -5.359375 C -0.015625 -4.835938 0.234375 -4.09375 0.234375 -3.125 Z \"/>\n",
       "</symbol>\n",
       "<symbol overflow=\"visible\" id=\"glyph1-6\">\n",
       "<path style=\"stroke:none;\" d=\"M -2.96875 -3.96875 L -6.78125 -3.96875 L -2.96875 -1.28125 Z M 0 -3.984375 L -2.046875 -3.984375 L -2.046875 -0.3125 L -3.078125 -0.3125 L -8.421875 -4.15625 L -8.421875 -5.046875 L -2.96875 -5.046875 L -2.96875 -6.28125 L -2.046875 -6.28125 L -2.046875 -5.046875 L 0 -5.046875 Z \"/>\n",
       "</symbol>\n",
       "<symbol overflow=\"visible\" id=\"glyph1-7\">\n",
       "<path style=\"stroke:none;\" d=\"M -2.140625 -1.484375 C -1.535156 -1.554688 -1.117188 -1.835938 -0.890625 -2.328125 C -0.773438 -2.578125 -0.71875 -2.863281 -0.71875 -3.1875 C -0.71875 -3.8125 -0.914062 -4.273438 -1.3125 -4.578125 C -1.707031 -4.878906 -2.148438 -5.03125 -2.640625 -5.03125 C -3.222656 -5.03125 -3.675781 -4.847656 -4 -4.484375 C -4.320312 -4.128906 -4.484375 -3.703125 -4.484375 -3.203125 C -4.484375 -2.835938 -4.410156 -2.523438 -4.265625 -2.265625 C -4.128906 -2.003906 -3.9375 -1.785156 -3.6875 -1.609375 L -3.734375 -0.6875 L -8.25 -1.328125 L -8.25 -5.6875 L -7.234375 -5.6875 L -7.234375 -2.125 L -4.90625 -1.765625 C -5.050781 -1.960938 -5.160156 -2.148438 -5.234375 -2.328125 C -5.359375 -2.640625 -5.421875 -3 -5.421875 -3.40625 C -5.421875 -4.175781 -5.171875 -4.828125 -4.671875 -5.359375 C -4.179688 -5.898438 -3.554688 -6.171875 -2.796875 -6.171875 C -2.003906 -6.171875 -1.300781 -5.921875 -0.6875 -5.421875 C -0.0820312 -4.929688 0.21875 -4.148438 0.21875 -3.078125 C 0.21875 -2.398438 0.0234375 -1.796875 -0.359375 -1.265625 C -0.742188 -0.742188 -1.335938 -0.453125 -2.140625 -0.390625 Z \"/>\n",
       "</symbol>\n",
       "<symbol overflow=\"visible\" id=\"glyph1-8\">\n",
       "<path style=\"stroke:none;\" d=\"M -1 -4.21875 C -1 -4.613281 -1.039062 -4.9375 -1.125 -5.1875 C -1.269531 -5.644531 -1.5625 -6.019531 -2 -6.3125 C -2.34375 -6.539062 -2.785156 -6.703125 -3.328125 -6.796875 C -3.660156 -6.859375 -3.960938 -6.890625 -4.234375 -6.890625 C -5.304688 -6.890625 -6.132812 -6.675781 -6.71875 -6.25 C -7.3125 -5.832031 -7.609375 -5.148438 -7.609375 -4.203125 L -7.609375 -2.140625 L -1 -2.140625 Z M -8.609375 -0.96875 L -8.609375 -4.453125 C -8.609375 -5.640625 -8.1875 -6.554688 -7.34375 -7.203125 C -6.59375 -7.785156 -5.625 -8.078125 -4.4375 -8.078125 C -3.519531 -8.078125 -2.691406 -7.90625 -1.953125 -7.5625 C -0.648438 -6.957031 0 -5.914062 0 -4.4375 L 0 -0.96875 Z \"/>\n",
       "</symbol>\n",
       "<symbol overflow=\"visible\" id=\"glyph1-9\">\n",
       "<path style=\"stroke:none;\" d=\"M -6.421875 -3.390625 C -6.421875 -3.835938 -6.316406 -4.269531 -6.109375 -4.6875 C -5.898438 -5.101562 -5.628906 -5.421875 -5.296875 -5.640625 C -4.972656 -5.847656 -4.601562 -5.988281 -4.1875 -6.0625 C -3.894531 -6.125 -3.429688 -6.15625 -2.796875 -6.15625 L -2.796875 -1.546875 C -2.160156 -1.566406 -1.648438 -1.71875 -1.265625 -2 C -0.878906 -2.28125 -0.6875 -2.71875 -0.6875 -3.3125 C -0.6875 -3.863281 -0.867188 -4.300781 -1.234375 -4.625 C -1.441406 -4.8125 -1.6875 -4.945312 -1.96875 -5.03125 L -1.96875 -6.0625 C -1.738281 -6.039062 -1.484375 -5.953125 -1.203125 -5.796875 C -0.921875 -5.640625 -0.6875 -5.46875 -0.5 -5.28125 C -0.1875 -4.957031 0.0195312 -4.554688 0.125 -4.078125 C 0.1875 -3.828125 0.21875 -3.539062 0.21875 -3.21875 C 0.21875 -2.4375 -0.0625 -1.773438 -0.625 -1.234375 C -1.195312 -0.691406 -1.992188 -0.421875 -3.015625 -0.421875 C -4.023438 -0.421875 -4.84375 -0.691406 -5.46875 -1.234375 C -6.101562 -1.785156 -6.421875 -2.503906 -6.421875 -3.390625 Z M -3.640625 -5.0625 C -4.097656 -5.019531 -4.460938 -4.921875 -4.734375 -4.765625 C -5.242188 -4.484375 -5.5 -4.003906 -5.5 -3.328125 C -5.5 -2.835938 -5.320312 -2.425781 -4.96875 -2.09375 C -4.625 -1.769531 -4.179688 -1.597656 -3.640625 -1.578125 Z M -6.421875 -3.28125 Z \"/>\n",
       "</symbol>\n",
       "<symbol overflow=\"visible\" id=\"glyph1-10\">\n",
       "<path style=\"stroke:none;\" d=\"M -6.28125 -0.78125 L -6.28125 -1.78125 L -5.390625 -1.78125 C -5.753906 -2.070312 -6.015625 -2.382812 -6.171875 -2.71875 C -6.335938 -3.050781 -6.421875 -3.421875 -6.421875 -3.828125 C -6.421875 -4.710938 -6.109375 -5.3125 -5.484375 -5.625 C -5.140625 -5.800781 -4.65625 -5.890625 -4.03125 -5.890625 L 0 -5.890625 L 0 -4.8125 L -3.953125 -4.8125 C -4.335938 -4.8125 -4.644531 -4.753906 -4.875 -4.640625 C -5.269531 -4.453125 -5.46875 -4.113281 -5.46875 -3.625 C -5.46875 -3.375 -5.441406 -3.171875 -5.390625 -3.015625 C -5.304688 -2.722656 -5.132812 -2.46875 -4.875 -2.25 C -4.664062 -2.070312 -4.453125 -1.957031 -4.234375 -1.90625 C -4.015625 -1.851562 -3.695312 -1.828125 -3.28125 -1.828125 L 0 -1.828125 L 0 -0.78125 Z M -6.421875 -3.25 Z \"/>\n",
       "</symbol>\n",
       "<symbol overflow=\"visible\" id=\"glyph1-11\">\n",
       "<path style=\"stroke:none;\" d=\"M -1.96875 -1.40625 C -1.613281 -1.4375 -1.34375 -1.523438 -1.15625 -1.671875 C -0.820312 -1.929688 -0.65625 -2.390625 -0.65625 -3.046875 C -0.65625 -3.441406 -0.738281 -3.785156 -0.90625 -4.078125 C -1.070312 -4.378906 -1.332031 -4.53125 -1.6875 -4.53125 C -1.957031 -4.53125 -2.164062 -4.410156 -2.3125 -4.171875 C -2.394531 -4.015625 -2.492188 -3.710938 -2.609375 -3.265625 L -2.8125 -2.421875 C -2.945312 -1.890625 -3.097656 -1.5 -3.265625 -1.25 C -3.546875 -0.789062 -3.941406 -0.5625 -4.453125 -0.5625 C -5.046875 -0.5625 -5.523438 -0.773438 -5.890625 -1.203125 C -6.253906 -1.628906 -6.4375 -2.207031 -6.4375 -2.9375 C -6.4375 -3.875 -6.160156 -4.550781 -5.609375 -4.96875 C -5.253906 -5.238281 -4.875 -5.367188 -4.46875 -5.359375 L -4.46875 -4.359375 C -4.707031 -4.335938 -4.925781 -4.253906 -5.125 -4.109375 C -5.394531 -3.867188 -5.53125 -3.445312 -5.53125 -2.84375 C -5.53125 -2.445312 -5.453125 -2.144531 -5.296875 -1.9375 C -5.148438 -1.738281 -4.953125 -1.640625 -4.703125 -1.640625 C -4.429688 -1.640625 -4.210938 -1.773438 -4.046875 -2.046875 C -3.953125 -2.203125 -3.867188 -2.429688 -3.796875 -2.734375 L -3.625 -3.421875 C -3.4375 -4.179688 -3.257812 -4.691406 -3.09375 -4.953125 C -2.820312 -5.359375 -2.394531 -5.5625 -1.8125 -5.5625 C -1.257812 -5.5625 -0.78125 -5.347656 -0.375 -4.921875 C 0.03125 -4.503906 0.234375 -3.863281 0.234375 -3 C 0.234375 -2.0625 0.0234375 -1.394531 -0.390625 -1 C -0.816406 -0.613281 -1.34375 -0.410156 -1.96875 -0.390625 Z M -6.421875 -2.953125 Z \"/>\n",
       "</symbol>\n",
       "<symbol overflow=\"visible\" id=\"glyph1-12\">\n",
       "<path style=\"stroke:none;\" d=\"M -6.25 -0.78125 L -6.25 -1.84375 L 0 -1.84375 L 0 -0.78125 Z M -8.609375 -0.78125 L -8.609375 -1.84375 L -7.40625 -1.84375 L -7.40625 -0.78125 Z \"/>\n",
       "</symbol>\n",
       "<symbol overflow=\"visible\" id=\"glyph1-13\">\n",
       "<path style=\"stroke:none;\" d=\"M -8.03125 -0.984375 L -8.03125 -2.046875 L -6.28125 -2.046875 L -6.28125 -3.046875 L -5.421875 -3.046875 L -5.421875 -2.046875 L -1.3125 -2.046875 C -1.09375 -2.046875 -0.945312 -2.125 -0.875 -2.28125 C -0.832031 -2.351562 -0.8125 -2.488281 -0.8125 -2.6875 C -0.8125 -2.738281 -0.8125 -2.789062 -0.8125 -2.84375 C -0.820312 -2.90625 -0.828125 -2.972656 -0.828125 -3.046875 L 0 -3.046875 C 0.03125 -2.929688 0.0507812 -2.804688 0.0625 -2.671875 C 0.0820312 -2.546875 0.09375 -2.40625 0.09375 -2.25 C 0.09375 -1.757812 -0.03125 -1.425781 -0.28125 -1.25 C -0.53125 -1.070312 -0.859375 -0.984375 -1.265625 -0.984375 L -5.421875 -0.984375 L -5.421875 -0.140625 L -6.28125 -0.140625 L -6.28125 -0.984375 Z \"/>\n",
       "</symbol>\n",
       "<symbol overflow=\"visible\" id=\"glyph1-14\">\n",
       "<path style=\"stroke:none;\" d=\"M -6.28125 -4.6875 L -6.28125 -5.859375 C -5.875 -5.710938 -4.953125 -5.382812 -3.515625 -4.875 C -2.441406 -4.488281 -1.566406 -4.164062 -0.890625 -3.90625 C 0.710938 -3.300781 1.691406 -2.875 2.046875 -2.625 C 2.398438 -2.375 2.578125 -1.941406 2.578125 -1.328125 C 2.578125 -1.179688 2.566406 -1.066406 2.546875 -0.984375 C 2.535156 -0.910156 2.515625 -0.8125 2.484375 -0.6875 L 1.53125 -0.6875 C 1.582031 -0.875 1.613281 -1.007812 1.625 -1.09375 C 1.632812 -1.175781 1.640625 -1.25 1.640625 -1.3125 C 1.640625 -1.5 1.609375 -1.640625 1.546875 -1.734375 C 1.484375 -1.828125 1.40625 -1.90625 1.3125 -1.96875 C 1.28125 -1.988281 1.117188 -2.054688 0.828125 -2.171875 C 0.535156 -2.296875 0.320312 -2.382812 0.1875 -2.4375 L -6.28125 -0.125 L -6.28125 -1.3125 L -1.171875 -3 Z M -6.421875 -3 Z \"/>\n",
       "</symbol>\n",
       "<symbol overflow=\"visible\" id=\"glyph2-0\">\n",
       "<path style=\"stroke:none;\" d=\"M 1.078125 0 L 1.078125 -10.375 L 9.4375 -10.375 L 9.4375 0 Z M 8.140625 -1.296875 L 8.140625 -9.078125 L 2.375 -9.078125 L 2.375 -1.296875 Z \"/>\n",
       "</symbol>\n",
       "<symbol overflow=\"visible\" id=\"glyph2-1\">\n",
       "<path style=\"stroke:none;\" d=\"M 2.5 -2.453125 C 2.539062 -2.085938 2.628906 -1.832031 2.765625 -1.6875 C 3.015625 -1.414062 3.476562 -1.28125 4.15625 -1.28125 C 4.539062 -1.28125 4.847656 -1.335938 5.078125 -1.453125 C 5.316406 -1.578125 5.4375 -1.753906 5.4375 -1.984375 C 5.4375 -2.210938 5.34375 -2.382812 5.15625 -2.5 C 4.96875 -2.625 4.269531 -2.828125 3.0625 -3.109375 C 2.195312 -3.328125 1.585938 -3.597656 1.234375 -3.921875 C 0.878906 -4.234375 0.703125 -4.691406 0.703125 -5.296875 C 0.703125 -6.003906 0.976562 -6.613281 1.53125 -7.125 C 2.082031 -7.632812 2.863281 -7.890625 3.875 -7.890625 C 4.832031 -7.890625 5.613281 -7.695312 6.21875 -7.3125 C 6.820312 -6.925781 7.164062 -6.265625 7.25 -5.328125 L 5.25 -5.328125 C 5.21875 -5.585938 5.144531 -5.789062 5.03125 -5.9375 C 4.8125 -6.21875 4.4375 -6.359375 3.90625 -6.359375 C 3.46875 -6.359375 3.15625 -6.285156 2.96875 -6.140625 C 2.78125 -6.003906 2.6875 -5.847656 2.6875 -5.671875 C 2.6875 -5.441406 2.785156 -5.273438 2.984375 -5.171875 C 3.179688 -5.066406 3.878906 -4.878906 5.078125 -4.609375 C 5.878906 -4.421875 6.476562 -4.140625 6.875 -3.765625 C 7.269531 -3.378906 7.46875 -2.898438 7.46875 -2.328125 C 7.46875 -1.566406 7.179688 -0.941406 6.609375 -0.453125 C 6.046875 0.0234375 5.175781 0.265625 4 0.265625 C 2.789062 0.265625 1.898438 0.0078125 1.328125 -0.5 C 0.753906 -1.007812 0.46875 -1.660156 0.46875 -2.453125 Z M 4.03125 -7.875 Z \"/>\n",
       "</symbol>\n",
       "<symbol overflow=\"visible\" id=\"glyph2-2\">\n",
       "<path style=\"stroke:none;\" d=\"M 0.140625 -6.171875 L 0.140625 -7.59375 L 1.21875 -7.59375 L 1.21875 -9.734375 L 3.203125 -9.734375 L 3.203125 -7.59375 L 4.453125 -7.59375 L 4.453125 -6.171875 L 3.203125 -6.171875 L 3.203125 -2.125 C 3.203125 -1.800781 3.238281 -1.597656 3.3125 -1.515625 C 3.394531 -1.441406 3.640625 -1.40625 4.046875 -1.40625 C 4.109375 -1.40625 4.171875 -1.40625 4.234375 -1.40625 C 4.304688 -1.414062 4.378906 -1.421875 4.453125 -1.421875 L 4.453125 0.078125 L 3.5 0.109375 C 2.550781 0.140625 1.898438 -0.0234375 1.546875 -0.390625 C 1.328125 -0.617188 1.21875 -0.972656 1.21875 -1.453125 L 1.21875 -6.171875 Z \"/>\n",
       "</symbol>\n",
       "<symbol overflow=\"visible\" id=\"glyph2-3\">\n",
       "<path style=\"stroke:none;\" d=\"M 3 -8.578125 L 0.96875 -8.578125 L 0.96875 -10.4375 L 3 -10.4375 Z M 0.96875 -7.671875 L 3 -7.671875 L 3 0 L 0.96875 0 Z \"/>\n",
       "</symbol>\n",
       "<symbol overflow=\"visible\" id=\"glyph2-4\">\n",
       "<path style=\"stroke:none;\" d=\"M 9.5 -7.84375 C 9.84375 -7.84375 10.175781 -7.773438 10.5 -7.640625 C 10.832031 -7.503906 11.128906 -7.273438 11.390625 -6.953125 C 11.609375 -6.679688 11.753906 -6.351562 11.828125 -5.96875 C 11.878906 -5.707031 11.90625 -5.328125 11.90625 -4.828125 L 11.890625 0 L 9.828125 0 L 9.828125 -4.875 C 9.828125 -5.164062 9.78125 -5.40625 9.6875 -5.59375 C 9.507812 -5.957031 9.179688 -6.140625 8.703125 -6.140625 C 8.148438 -6.140625 7.769531 -5.90625 7.5625 -5.4375 C 7.457031 -5.195312 7.40625 -4.90625 7.40625 -4.5625 L 7.40625 0 L 5.375 0 L 5.375 -4.5625 C 5.375 -5.019531 5.328125 -5.351562 5.234375 -5.5625 C 5.066406 -5.925781 4.738281 -6.109375 4.25 -6.109375 C 3.675781 -6.109375 3.289062 -5.925781 3.09375 -5.5625 C 2.988281 -5.34375 2.9375 -5.023438 2.9375 -4.609375 L 2.9375 0 L 0.90625 0 L 0.90625 -7.65625 L 2.84375 -7.65625 L 2.84375 -6.53125 C 3.09375 -6.925781 3.328125 -7.210938 3.546875 -7.390625 C 3.941406 -7.691406 4.445312 -7.84375 5.0625 -7.84375 C 5.644531 -7.84375 6.117188 -7.710938 6.484375 -7.453125 C 6.773438 -7.210938 6.992188 -6.90625 7.140625 -6.53125 C 7.410156 -6.976562 7.738281 -7.304688 8.125 -7.515625 C 8.539062 -7.734375 9 -7.84375 9.5 -7.84375 Z \"/>\n",
       "</symbol>\n",
       "<symbol overflow=\"visible\" id=\"glyph2-5\">\n",
       "<path style=\"stroke:none;\" d=\"M 5.15625 -3.734375 C 5.03125 -3.648438 4.90625 -3.582031 4.78125 -3.53125 C 4.65625 -3.476562 4.476562 -3.429688 4.25 -3.390625 L 3.796875 -3.3125 C 3.378906 -3.238281 3.078125 -3.144531 2.890625 -3.03125 C 2.578125 -2.851562 2.421875 -2.570312 2.421875 -2.1875 C 2.421875 -1.84375 2.515625 -1.59375 2.703125 -1.4375 C 2.898438 -1.289062 3.132812 -1.21875 3.40625 -1.21875 C 3.832031 -1.21875 4.226562 -1.34375 4.59375 -1.59375 C 4.957031 -1.851562 5.144531 -2.316406 5.15625 -2.984375 Z M 3.953125 -4.65625 C 4.316406 -4.707031 4.578125 -4.769531 4.734375 -4.84375 C 5.023438 -4.957031 5.171875 -5.144531 5.171875 -5.40625 C 5.171875 -5.71875 5.0625 -5.929688 4.84375 -6.046875 C 4.625 -6.171875 4.304688 -6.234375 3.890625 -6.234375 C 3.410156 -6.234375 3.070312 -6.117188 2.875 -5.890625 C 2.738281 -5.710938 2.644531 -5.476562 2.59375 -5.1875 L 0.65625 -5.1875 C 0.695312 -5.851562 0.882812 -6.40625 1.21875 -6.84375 C 1.75 -7.507812 2.660156 -7.84375 3.953125 -7.84375 C 4.796875 -7.84375 5.539062 -7.675781 6.1875 -7.34375 C 6.84375 -7.007812 7.171875 -6.382812 7.171875 -5.46875 L 7.171875 -1.953125 C 7.171875 -1.703125 7.175781 -1.40625 7.1875 -1.0625 C 7.195312 -0.800781 7.234375 -0.625 7.296875 -0.53125 C 7.367188 -0.4375 7.46875 -0.359375 7.59375 -0.296875 L 7.59375 0 L 5.421875 0 C 5.359375 -0.15625 5.3125 -0.300781 5.28125 -0.4375 C 5.257812 -0.570312 5.242188 -0.726562 5.234375 -0.90625 C 4.953125 -0.601562 4.632812 -0.347656 4.28125 -0.140625 C 3.84375 0.109375 3.351562 0.234375 2.8125 0.234375 C 2.113281 0.234375 1.539062 0.0351562 1.09375 -0.359375 C 0.644531 -0.753906 0.421875 -1.316406 0.421875 -2.046875 C 0.421875 -2.984375 0.78125 -3.664062 1.5 -4.09375 C 1.90625 -4.320312 2.492188 -4.484375 3.265625 -4.578125 Z M 4.046875 -7.875 Z \"/>\n",
       "</symbol>\n",
       "<symbol overflow=\"visible\" id=\"glyph2-6\">\n",
       "<path style=\"stroke:none;\" d=\"\"/>\n",
       "</symbol>\n",
       "<symbol overflow=\"visible\" id=\"glyph2-7\">\n",
       "<path style=\"stroke:none;\" d=\"M 3.765625 -7.84375 C 4.222656 -7.84375 4.632812 -7.738281 5 -7.53125 C 5.363281 -7.332031 5.65625 -7.054688 5.875 -6.703125 L 5.875 -10.359375 L 7.90625 -10.359375 L 7.90625 0 L 5.96875 0 L 5.96875 -1.0625 C 5.675781 -0.601562 5.347656 -0.269531 4.984375 -0.0625 C 4.617188 0.132812 4.164062 0.234375 3.625 0.234375 C 2.726562 0.234375 1.972656 -0.125 1.359375 -0.84375 C 0.742188 -1.570312 0.4375 -2.503906 0.4375 -3.640625 C 0.4375 -4.941406 0.738281 -5.96875 1.34375 -6.71875 C 1.945312 -7.46875 2.753906 -7.84375 3.765625 -7.84375 Z M 4.203125 -1.453125 C 4.765625 -1.453125 5.191406 -1.660156 5.484375 -2.078125 C 5.785156 -2.503906 5.9375 -3.050781 5.9375 -3.71875 C 5.9375 -4.65625 5.695312 -5.328125 5.21875 -5.734375 C 4.9375 -5.972656 4.601562 -6.09375 4.21875 -6.09375 C 3.625 -6.09375 3.191406 -5.867188 2.921875 -5.421875 C 2.648438 -4.984375 2.515625 -4.4375 2.515625 -3.78125 C 2.515625 -3.070312 2.648438 -2.503906 2.921875 -2.078125 C 3.203125 -1.660156 3.628906 -1.453125 4.203125 -1.453125 Z \"/>\n",
       "</symbol>\n",
       "<symbol overflow=\"visible\" id=\"glyph2-8\">\n",
       "<path style=\"stroke:none;\" d=\"M 3.953125 -6.21875 C 3.492188 -6.21875 3.132812 -6.070312 2.875 -5.78125 C 2.625 -5.488281 2.46875 -5.09375 2.40625 -4.59375 L 5.515625 -4.59375 C 5.484375 -5.125 5.320312 -5.523438 5.03125 -5.796875 C 4.738281 -6.078125 4.378906 -6.21875 3.953125 -6.21875 Z M 3.953125 -7.875 C 4.597656 -7.875 5.175781 -7.753906 5.6875 -7.515625 C 6.195312 -7.273438 6.617188 -6.894531 6.953125 -6.375 C 7.253906 -5.925781 7.445312 -5.398438 7.53125 -4.796875 C 7.582031 -4.441406 7.601562 -3.9375 7.59375 -3.28125 L 2.34375 -3.28125 C 2.375 -2.507812 2.617188 -1.96875 3.078125 -1.65625 C 3.347656 -1.46875 3.679688 -1.375 4.078125 -1.375 C 4.484375 -1.375 4.816406 -1.488281 5.078125 -1.71875 C 5.222656 -1.84375 5.347656 -2.019531 5.453125 -2.25 L 7.5 -2.25 C 7.445312 -1.789062 7.207031 -1.328125 6.78125 -0.859375 C 6.125 -0.117188 5.207031 0.25 4.03125 0.25 C 3.050781 0.25 2.1875 -0.0625 1.4375 -0.6875 C 0.695312 -1.3125 0.328125 -2.332031 0.328125 -3.75 C 0.328125 -5.082031 0.660156 -6.101562 1.328125 -6.8125 C 2.003906 -7.519531 2.878906 -7.875 3.953125 -7.875 Z M 4.09375 -7.875 Z \"/>\n",
       "</symbol>\n",
       "<symbol overflow=\"visible\" id=\"glyph2-9\">\n",
       "<path style=\"stroke:none;\" d=\"M 2.984375 0 L 0.984375 0 L 0.984375 -10.375 L 2.984375 -10.375 Z \"/>\n",
       "</symbol>\n",
       "<symbol overflow=\"visible\" id=\"glyph2-10\">\n",
       "<path style=\"stroke:none;\" d=\"M 5.1875 -7.84375 C 5.976562 -7.84375 6.625 -7.632812 7.125 -7.21875 C 7.632812 -6.8125 7.890625 -6.125 7.890625 -5.15625 L 7.890625 0 L 5.828125 0 L 5.828125 -4.65625 C 5.828125 -5.0625 5.773438 -5.375 5.671875 -5.59375 C 5.472656 -5.988281 5.097656 -6.1875 4.546875 -6.1875 C 3.867188 -6.1875 3.398438 -5.894531 3.140625 -5.3125 C 3.015625 -5.007812 2.953125 -4.625 2.953125 -4.15625 L 2.953125 0 L 0.953125 0 L 0.953125 -7.65625 L 2.890625 -7.65625 L 2.890625 -6.53125 C 3.140625 -6.925781 3.378906 -7.210938 3.609375 -7.390625 C 4.023438 -7.691406 4.550781 -7.84375 5.1875 -7.84375 Z M 4.453125 -7.875 Z \"/>\n",
       "</symbol>\n",
       "<symbol overflow=\"visible\" id=\"glyph2-11\">\n",
       "<path style=\"stroke:none;\" d=\"M 2.609375 -10.375 L 2.265625 -6.078125 L 1.046875 -6.078125 L 0.703125 -10.375 Z \"/>\n",
       "</symbol>\n",
       "</g>\n",
       "<clipPath id=\"clip1\">\n",
       "  <path d=\"M 227 72 L 474.757812 72 L 474.757812 417 L 227 417 Z \"/>\n",
       "</clipPath>\n",
       "<clipPath id=\"clip2\">\n",
       "  <path d=\"M 59.039062 416 L 474 416 L 474 417 L 59.039062 417 Z \"/>\n",
       "</clipPath>\n",
       "</defs>\n",
       "<g id=\"surface1\">\n",
       "<rect x=\"0\" y=\"0\" width=\"504\" height=\"504\" style=\"fill:rgb(100%,100%,100%);fill-opacity:1;stroke:none;\"/>\n",
       "<g clip-path=\"url(#clip1)\" clip-rule=\"nonzero\">\n",
       "<path style=\"fill:none;stroke-width:0.75;stroke-linecap:round;stroke-linejoin:round;stroke:rgb(0%,0%,0%);stroke-opacity:1;stroke-miterlimit:10;\" d=\"M 227.910156 416.460938 L 235.65625 415.003906 L 243.398438 409.640625 L 251.144531 394.941406 L 258.886719 364.355469 L 266.632812 315.0625 L 274.375 252.003906 L 282.121094 186.34375 L 289.863281 129.824219 L 297.609375 90.671875 L 305.351562 72.800781 L 313.097656 75.820312 L 320.84375 95.308594 L 328.585938 124.691406 L 336.332031 157.757812 L 344.074219 189.484375 L 351.820312 216.183594 L 359.5625 236.539062 L 367.308594 251.75 L 375.050781 263.894531 L 382.796875 274.820312 L 390.539062 286.136719 L 398.285156 298.515625 L 406.027344 310.980469 L 413.773438 322.0625 L 421.515625 331.183594 L 429.261719 338.277344 L 437.003906 343.410156 L 444.75 347.4375 L 452.492188 351.503906 L 460.238281 355.652344 L 467.980469 358.949219 L 475.726562 361.292969 L 483.46875 363.914062 L 491.214844 367.824219 L 498.960938 372.863281 L 504 376.367188 \"/>\n",
       "</g>\n",
       "<path style=\"fill:none;stroke-width:0.75;stroke-linecap:round;stroke-linejoin:round;stroke:rgb(0%,0%,0%);stroke-opacity:1;stroke-miterlimit:10;\" d=\"M 74.398438 430.558594 L 458.398438 430.558594 \"/>\n",
       "<path style=\"fill:none;stroke-width:0.75;stroke-linecap:round;stroke-linejoin:round;stroke:rgb(0%,0%,0%);stroke-opacity:1;stroke-miterlimit:10;\" d=\"M 74.398438 430.558594 L 74.398438 437.761719 \"/>\n",
       "<path style=\"fill:none;stroke-width:0.75;stroke-linecap:round;stroke-linejoin:round;stroke:rgb(0%,0%,0%);stroke-opacity:1;stroke-miterlimit:10;\" d=\"M 138.398438 430.558594 L 138.398438 437.761719 \"/>\n",
       "<path style=\"fill:none;stroke-width:0.75;stroke-linecap:round;stroke-linejoin:round;stroke:rgb(0%,0%,0%);stroke-opacity:1;stroke-miterlimit:10;\" d=\"M 202.398438 430.558594 L 202.398438 437.761719 \"/>\n",
       "<path style=\"fill:none;stroke-width:0.75;stroke-linecap:round;stroke-linejoin:round;stroke:rgb(0%,0%,0%);stroke-opacity:1;stroke-miterlimit:10;\" d=\"M 266.398438 430.558594 L 266.398438 437.761719 \"/>\n",
       "<path style=\"fill:none;stroke-width:0.75;stroke-linecap:round;stroke-linejoin:round;stroke:rgb(0%,0%,0%);stroke-opacity:1;stroke-miterlimit:10;\" d=\"M 330.398438 430.558594 L 330.398438 437.761719 \"/>\n",
       "<path style=\"fill:none;stroke-width:0.75;stroke-linecap:round;stroke-linejoin:round;stroke:rgb(0%,0%,0%);stroke-opacity:1;stroke-miterlimit:10;\" d=\"M 394.398438 430.558594 L 394.398438 437.761719 \"/>\n",
       "<path style=\"fill:none;stroke-width:0.75;stroke-linecap:round;stroke-linejoin:round;stroke:rgb(0%,0%,0%);stroke-opacity:1;stroke-miterlimit:10;\" d=\"M 458.398438 430.558594 L 458.398438 437.761719 \"/>\n",
       "<g style=\"fill:rgb(0%,0%,0%);fill-opacity:1;\">\n",
       "  <use xlink:href=\"#glyph0-1\" x=\"69.0625\" y=\"456.480469\"/>\n",
       "  <use xlink:href=\"#glyph0-2\" x=\"73.058594\" y=\"456.480469\"/>\n",
       "</g>\n",
       "<g style=\"fill:rgb(0%,0%,0%);fill-opacity:1;\">\n",
       "  <use xlink:href=\"#glyph0-1\" x=\"133.0625\" y=\"456.480469\"/>\n",
       "  <use xlink:href=\"#glyph0-3\" x=\"137.058594\" y=\"456.480469\"/>\n",
       "</g>\n",
       "<g style=\"fill:rgb(0%,0%,0%);fill-opacity:1;\">\n",
       "  <use xlink:href=\"#glyph0-1\" x=\"197.0625\" y=\"456.480469\"/>\n",
       "  <use xlink:href=\"#glyph0-4\" x=\"201.058594\" y=\"456.480469\"/>\n",
       "</g>\n",
       "<g style=\"fill:rgb(0%,0%,0%);fill-opacity:1;\">\n",
       "  <use xlink:href=\"#glyph0-5\" x=\"263.0625\" y=\"456.480469\"/>\n",
       "</g>\n",
       "<g style=\"fill:rgb(0%,0%,0%);fill-opacity:1;\">\n",
       "  <use xlink:href=\"#glyph0-4\" x=\"327.0625\" y=\"456.480469\"/>\n",
       "</g>\n",
       "<g style=\"fill:rgb(0%,0%,0%);fill-opacity:1;\">\n",
       "  <use xlink:href=\"#glyph0-3\" x=\"391.0625\" y=\"456.480469\"/>\n",
       "</g>\n",
       "<g style=\"fill:rgb(0%,0%,0%);fill-opacity:1;\">\n",
       "  <use xlink:href=\"#glyph0-2\" x=\"455.0625\" y=\"456.480469\"/>\n",
       "</g>\n",
       "<path style=\"fill:none;stroke-width:0.75;stroke-linecap:round;stroke-linejoin:round;stroke:rgb(0%,0%,0%);stroke-opacity:1;stroke-miterlimit:10;\" d=\"M 59.039062 416.800781 L 59.039062 78.859375 \"/>\n",
       "<path style=\"fill:none;stroke-width:0.75;stroke-linecap:round;stroke-linejoin:round;stroke:rgb(0%,0%,0%);stroke-opacity:1;stroke-miterlimit:10;\" d=\"M 59.039062 416.800781 L 51.839844 416.800781 \"/>\n",
       "<path style=\"fill:none;stroke-width:0.75;stroke-linecap:round;stroke-linejoin:round;stroke:rgb(0%,0%,0%);stroke-opacity:1;stroke-miterlimit:10;\" d=\"M 59.039062 349.210938 L 51.839844 349.210938 \"/>\n",
       "<path style=\"fill:none;stroke-width:0.75;stroke-linecap:round;stroke-linejoin:round;stroke:rgb(0%,0%,0%);stroke-opacity:1;stroke-miterlimit:10;\" d=\"M 59.039062 281.625 L 51.839844 281.625 \"/>\n",
       "<path style=\"fill:none;stroke-width:0.75;stroke-linecap:round;stroke-linejoin:round;stroke:rgb(0%,0%,0%);stroke-opacity:1;stroke-miterlimit:10;\" d=\"M 59.039062 214.035156 L 51.839844 214.035156 \"/>\n",
       "<path style=\"fill:none;stroke-width:0.75;stroke-linecap:round;stroke-linejoin:round;stroke:rgb(0%,0%,0%);stroke-opacity:1;stroke-miterlimit:10;\" d=\"M 59.039062 146.445312 L 51.839844 146.445312 \"/>\n",
       "<path style=\"fill:none;stroke-width:0.75;stroke-linecap:round;stroke-linejoin:round;stroke:rgb(0%,0%,0%);stroke-opacity:1;stroke-miterlimit:10;\" d=\"M 59.039062 78.859375 L 51.839844 78.859375 \"/>\n",
       "<g style=\"fill:rgb(0%,0%,0%);fill-opacity:1;\">\n",
       "  <use xlink:href=\"#glyph1-1\" x=\"41.761719\" y=\"425.140625\"/>\n",
       "  <use xlink:href=\"#glyph1-2\" x=\"41.761719\" y=\"418.466797\"/>\n",
       "  <use xlink:href=\"#glyph1-1\" x=\"41.761719\" y=\"415.132812\"/>\n",
       "</g>\n",
       "<g style=\"fill:rgb(0%,0%,0%);fill-opacity:1;\">\n",
       "  <use xlink:href=\"#glyph1-1\" x=\"41.761719\" y=\"357.550781\"/>\n",
       "  <use xlink:href=\"#glyph1-2\" x=\"41.761719\" y=\"350.876953\"/>\n",
       "  <use xlink:href=\"#glyph1-3\" x=\"41.761719\" y=\"347.542969\"/>\n",
       "</g>\n",
       "<g style=\"fill:rgb(0%,0%,0%);fill-opacity:1;\">\n",
       "  <use xlink:href=\"#glyph1-1\" x=\"41.761719\" y=\"289.964844\"/>\n",
       "  <use xlink:href=\"#glyph1-2\" x=\"41.761719\" y=\"283.291016\"/>\n",
       "  <use xlink:href=\"#glyph1-4\" x=\"41.761719\" y=\"279.957031\"/>\n",
       "</g>\n",
       "<g style=\"fill:rgb(0%,0%,0%);fill-opacity:1;\">\n",
       "  <use xlink:href=\"#glyph1-1\" x=\"41.761719\" y=\"222.375\"/>\n",
       "  <use xlink:href=\"#glyph1-2\" x=\"41.761719\" y=\"215.701172\"/>\n",
       "  <use xlink:href=\"#glyph1-5\" x=\"41.761719\" y=\"212.367188\"/>\n",
       "</g>\n",
       "<g style=\"fill:rgb(0%,0%,0%);fill-opacity:1;\">\n",
       "  <use xlink:href=\"#glyph1-1\" x=\"41.761719\" y=\"154.785156\"/>\n",
       "  <use xlink:href=\"#glyph1-2\" x=\"41.761719\" y=\"148.111328\"/>\n",
       "  <use xlink:href=\"#glyph1-6\" x=\"41.761719\" y=\"144.777344\"/>\n",
       "</g>\n",
       "<g style=\"fill:rgb(0%,0%,0%);fill-opacity:1;\">\n",
       "  <use xlink:href=\"#glyph1-1\" x=\"41.761719\" y=\"87.199219\"/>\n",
       "  <use xlink:href=\"#glyph1-2\" x=\"41.761719\" y=\"80.525391\"/>\n",
       "  <use xlink:href=\"#glyph1-7\" x=\"41.761719\" y=\"77.191406\"/>\n",
       "</g>\n",
       "<path style=\"fill:none;stroke-width:0.75;stroke-linecap:round;stroke-linejoin:round;stroke:rgb(0%,0%,0%);stroke-opacity:1;stroke-miterlimit:10;\" d=\"M 59.039062 430.558594 L 473.761719 430.558594 L 473.761719 59.039062 L 59.039062 59.039062 L 59.039062 430.558594 \"/>\n",
       "<g style=\"fill:rgb(0%,0%,0%);fill-opacity:1;\">\n",
       "  <use xlink:href=\"#glyph2-1\" x=\"200.234375\" y=\"34.707031\"/>\n",
       "  <use xlink:href=\"#glyph2-2\" x=\"208.246445\" y=\"34.707031\"/>\n",
       "  <use xlink:href=\"#glyph2-3\" x=\"213.043839\" y=\"34.707031\"/>\n",
       "  <use xlink:href=\"#glyph2-4\" x=\"217.046356\" y=\"34.707031\"/>\n",
       "  <use xlink:href=\"#glyph2-5\" x=\"229.85582\" y=\"34.707031\"/>\n",
       "  <use xlink:href=\"#glyph2-6\" x=\"237.867889\" y=\"34.707031\"/>\n",
       "  <use xlink:href=\"#glyph2-7\" x=\"241.870407\" y=\"34.707031\"/>\n",
       "  <use xlink:href=\"#glyph2-8\" x=\"250.670319\" y=\"34.707031\"/>\n",
       "  <use xlink:href=\"#glyph2-9\" x=\"258.682388\" y=\"34.707031\"/>\n",
       "  <use xlink:href=\"#glyph2-9\" x=\"262.684906\" y=\"34.707031\"/>\n",
       "  <use xlink:href=\"#glyph2-5\" x=\"266.687424\" y=\"34.707031\"/>\n",
       "  <use xlink:href=\"#glyph2-6\" x=\"274.699493\" y=\"34.707031\"/>\n",
       "  <use xlink:href=\"#glyph2-7\" x=\"278.702011\" y=\"34.707031\"/>\n",
       "  <use xlink:href=\"#glyph2-8\" x=\"287.501923\" y=\"34.707031\"/>\n",
       "  <use xlink:href=\"#glyph2-10\" x=\"295.513992\" y=\"34.707031\"/>\n",
       "  <use xlink:href=\"#glyph2-1\" x=\"304.313904\" y=\"34.707031\"/>\n",
       "  <use xlink:href=\"#glyph2-3\" x=\"312.325974\" y=\"34.707031\"/>\n",
       "  <use xlink:href=\"#glyph2-2\" x=\"316.328491\" y=\"34.707031\"/>\n",
       "  <use xlink:href=\"#glyph2-5\" x=\"321.125885\" y=\"34.707031\"/>\n",
       "  <use xlink:href=\"#glyph2-11\" x=\"329.137955\" y=\"34.707031\"/>\n",
       "</g>\n",
       "<g style=\"fill:rgb(0%,0%,0%);fill-opacity:1;\">\n",
       "  <use xlink:href=\"#glyph0-6\" x=\"260.734375\" y=\"485.28125\"/>\n",
       "</g>\n",
       "<g style=\"fill:rgb(0%,0%,0%);fill-opacity:1;\">\n",
       "  <use xlink:href=\"#glyph1-8\" x=\"12.960938\" y=\"264.808594\"/>\n",
       "  <use xlink:href=\"#glyph1-9\" x=\"12.960938\" y=\"256.142578\"/>\n",
       "  <use xlink:href=\"#glyph1-10\" x=\"12.960938\" y=\"249.46875\"/>\n",
       "  <use xlink:href=\"#glyph1-11\" x=\"12.960938\" y=\"242.794922\"/>\n",
       "  <use xlink:href=\"#glyph1-12\" x=\"12.960938\" y=\"236.794922\"/>\n",
       "  <use xlink:href=\"#glyph1-13\" x=\"12.960938\" y=\"234.128906\"/>\n",
       "  <use xlink:href=\"#glyph1-14\" x=\"12.960938\" y=\"230.794922\"/>\n",
       "</g>\n",
       "<g clip-path=\"url(#clip2)\" clip-rule=\"nonzero\">\n",
       "<path style=\"fill:none;stroke-width:0.075;stroke-linecap:round;stroke-linejoin:round;stroke:rgb(74.509804%,74.509804%,74.509804%);stroke-opacity:1;stroke-miterlimit:10;\" d=\"M 59.039062 416.800781 L 473.761719 416.800781 \"/>\n",
       "</g>\n",
       "</g>\n",
       "</svg>\n"
      ],
      "text/plain": [
       "Plot with title “stima della densita'”"
      ]
     },
     "metadata": {
      "image/svg+xml": {
       "isolated": true
      }
     },
     "output_type": "display_data"
    }
   ],
   "source": [
    "\n",
    "summary(myDf)\n",
    "w = ME.TL\n",
    "hist(w, seq(-3,3,.01))\n",
    "plot(density(w), main=\"stima della densita'\",xlab=\"W\",xlim=c(-3.0,3.0))\n"
   ]
  }
 ],
 "metadata": {
  "kernelspec": {
   "display_name": "R",
   "language": "R",
   "name": "ir"
  },
  "language_info": {
   "codemirror_mode": "r",
   "file_extension": ".r",
   "mimetype": "text/x-r-source",
   "name": "R",
   "pygments_lexer": "r",
   "version": "3.2.2"
  }
 },
 "nbformat": 4,
 "nbformat_minor": 0
}
