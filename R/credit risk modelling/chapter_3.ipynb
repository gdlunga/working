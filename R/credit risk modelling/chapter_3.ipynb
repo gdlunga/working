{
 "cells": [
  {
   "cell_type": "code",
   "execution_count": 6,
   "metadata": {
    "collapsed": false
   },
   "outputs": [
    {
     "name": "stderr",
     "output_type": "stream",
     "text": [
      "The following objects are masked from myDf (pos = 3):\n",
      "\n",
      "    Default, EBIT.TA, ME.TL, RE.TA, S.TA, WC.TA\n",
      "\n"
     ]
    }
   ],
   "source": [
    "options(warn=-1)\n",
    "\n",
    "require(XLConnect)\n",
    "require(rms)\n",
    "\n",
    "myDf  <- read.csv(\"/Users/giovanni/git_repository/working/R/credit risk modelling/default_data.csv\") \n",
    "attach(myDf)\n"
   ]
  },
  {
   "cell_type": "markdown",
   "metadata": {},
   "source": [
    "### Cohort Approach"
   ]
  }
 ],
 "metadata": {
  "kernelspec": {
   "display_name": "R",
   "language": "R",
   "name": "ir"
  },
  "language_info": {
   "codemirror_mode": "r",
   "file_extension": ".r",
   "mimetype": "text/x-r-source",
   "name": "R",
   "pygments_lexer": "r",
   "version": "3.2.2"
  }
 },
 "nbformat": 4,
 "nbformat_minor": 0
}
