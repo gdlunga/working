{
 "cells": [
  {
   "cell_type": "markdown",
   "metadata": {},
   "source": [
    "# Semplici esempi su dati di chiusura S&P500 "
   ]
  },
  {
   "cell_type": "markdown",
   "metadata": {},
   "source": [
    "workbook excel : \"S&PMIB Esempio Simulazione.xls\""
   ]
  },
  {
   "cell_type": "markdown",
   "metadata": {},
   "source": [
    "### Analisi dei Dati"
   ]
  },
  {
   "cell_type": "code",
   "execution_count": 8,
   "metadata": {
    "collapsed": false
   },
   "outputs": [
    {
     "name": "stderr",
     "output_type": "stream",
     "text": [
      "Loading required package: binhf\n"
     ]
    },
    {
     "name": "stdout",
     "output_type": "stream",
     "text": [
      "La cartella di lavoro e' :  /Users/giovanni/git_repository/working/R/esempi"
     ]
    }
   ],
   "source": [
    "options(warn=-1)\n",
    "require(binhf)\n",
    "      \n",
    "working_dir = getwd()      \n",
    "cat(\"La cartella di lavoro e' : \", working_dir)"
   ]
  },
  {
   "cell_type": "code",
   "execution_count": 9,
   "metadata": {
    "collapsed": false
   },
   "outputs": [],
   "source": [
    "\n",
    "# import del file contenente i dati relativi all'indice S&P MIB\n",
    "file_name = paste(working_dir, 'ts_sp_mib.csv', sep=\"/\")\n",
    "ts <- read.csv(file_name)\n",
    "ts$Date = as.Date(ts$Date)\n",
    "\n",
    "attach(ts)"
   ]
  },
  {
   "cell_type": "markdown",
   "metadata": {},
   "source": [
    "Per effettuare il calcolo dei rendimenti senza alcun loop, shiftiamo il vettore dei prezzi di una posizione e poi calcoliamo il logaritmo del rapporto, in questo modo otteniamo direttamente il vettore dei rendimenti $yield = \\ln\\Bigl({P_{t-1} \\over P_{t}}\\Bigr)$"
   ]
  },
  {
   "cell_type": "code",
   "execution_count": 10,
   "metadata": {
    "collapsed": false
   },
   "outputs": [
    {
     "ename": "ERROR",
     "evalue": "Error in eval(expr, envir, enclos): non trovo la funzione \"shift\"\n",
     "output_type": "error",
     "traceback": [
      "Error in eval(expr, envir, enclos): non trovo la funzione \"shift\"\n"
     ]
    },
    {
     "ename": "ERROR",
     "evalue": "Error in shift_price[1] <- 0: oggetto \"shift_price\" non trovato\n",
     "output_type": "error",
     "traceback": [
      "Error in shift_price[1] <- 0: oggetto \"shift_price\" non trovato\n"
     ]
    },
    {
     "ename": "ERROR",
     "evalue": "Error in eval(expr, envir, enclos): oggetto \"shift_price\" non trovato\n",
     "output_type": "error",
     "traceback": [
      "Error in eval(expr, envir, enclos): oggetto \"shift_price\" non trovato\n"
     ]
    },
    {
     "ename": "ERROR",
     "evalue": "Error in yield[1] <- 0: oggetto \"yield\" non trovato\n",
     "output_type": "error",
     "traceback": [
      "Error in yield[1] <- 0: oggetto \"yield\" non trovato\n"
     ]
    }
   ],
   "source": [
    "# calcolo rendimenti\n",
    "shift_price    <- shift(Price,1)\n",
    "shift_price[1] <- 0\n",
    "yield <- log(shift_price/Price)\n",
    "yield[1] <- 0"
   ]
  },
  {
   "cell_type": "markdown",
   "metadata": {},
   "source": [
    "Plottiamo la distribuzione di frequenza dei rendimenti sulla quale sovrapponiamo una gaussiana teorica con valor medio e standard deviation uguale a quella misurata dalla serie storica. Si noti che dovremmo normalizzare la distribuzione teorica, infatti l'integrale della distribuzione di frequenza riportata sopra è pari a $\\Delta x \\sum\\limits_{i=1}^N f_i$ dove $\\Delta x$ è l'ampiezza del bin e $f_i$ il valore della i-esima frequenza."
   ]
  },
  {
   "cell_type": "code",
   "execution_count": 4,
   "metadata": {
    "collapsed": false
   },
   "outputs": [
    {
     "ename": "ERROR",
     "evalue": "Error in mean(yield): oggetto \"yield\" non trovato\n",
     "output_type": "error",
     "traceback": [
      "Error in mean(yield): oggetto \"yield\" non trovato\n"
     ]
    },
    {
     "ename": "ERROR",
     "evalue": "Error in is.data.frame(x): oggetto \"yield\" non trovato\n",
     "output_type": "error",
     "traceback": [
      "Error in is.data.frame(x): oggetto \"yield\" non trovato\n"
     ]
    },
    {
     "ename": "ERROR",
     "evalue": "Error in eval(expr, envir, enclos): oggetto \"yield\" non trovato\n",
     "output_type": "error",
     "traceback": [
      "Error in eval(expr, envir, enclos): oggetto \"yield\" non trovato\n"
     ]
    },
    {
     "ename": "ERROR",
     "evalue": "Error in eval(expr, envir, enclos): oggetto \"ntot\" non trovato\n",
     "output_type": "error",
     "traceback": [
      "Error in eval(expr, envir, enclos): oggetto \"ntot\" non trovato\n"
     ]
    },
    {
     "ename": "ERROR",
     "evalue": "Error in eval(expr, envir, enclos): oggetto \"m\" non trovato\n",
     "output_type": "error",
     "traceback": [
      "Error in eval(expr, envir, enclos): oggetto \"m\" non trovato\n"
     ]
    },
    {
     "ename": "ERROR",
     "evalue": "Error in eval(expr, envir, enclos): oggetto \"s\" non trovato\n",
     "output_type": "error",
     "traceback": [
      "Error in eval(expr, envir, enclos): oggetto \"s\" non trovato\n"
     ]
    },
    {
     "ename": "ERROR",
     "evalue": "Error in eval(expr, envir, enclos): oggetto \"f\" non trovato\n",
     "output_type": "error",
     "traceback": [
      "Error in eval(expr, envir, enclos): oggetto \"f\" non trovato\n"
     ]
    },
    {
     "ename": "ERROR",
     "evalue": "Error in hist(yield, x, ylim = c(0, 45)): oggetto \"yield\" non trovato\n",
     "output_type": "error",
     "traceback": [
      "Error in hist(yield, x, ylim = c(0, 45)): oggetto \"yield\" non trovato\n"
     ]
    },
    {
     "ename": "ERROR",
     "evalue": "Error in xy.coords(x, y): oggetto \"y\" non trovato\n",
     "output_type": "error",
     "traceback": [
      "Error in xy.coords(x, y): oggetto \"y\" non trovato\n"
     ]
    }
   ],
   "source": [
    "x <- seq(-.03,.03,.001)\n",
    "\n",
    "# calcolo media e standard deviation\n",
    "m <- mean(yield)\n",
    "s <- sqrt(var(yield))\n",
    "\n",
    "# calcolo il fattore di normalizzazione dell'area\n",
    "delta <- x[2] - x[1]\n",
    "ntot  <- length(yield)\n",
    "A     <- delta * ntot\n",
    "\n",
    "# normalizzazione x\n",
    "xn <- (x-m)/s\n",
    "\n",
    "f <- 1/(s*sqrt(2*pi))\n",
    "y <- f * exp(-.5*xn*xn) * A\n",
    "\n",
    "hist(yield,x ,ylim=c(0,45))\n",
    "lines(x, y, col='red',lwd=2)\n"
   ]
  },
  {
   "cell_type": "markdown",
   "metadata": {},
   "source": [
    "## Simulazione"
   ]
  },
  {
   "cell_type": "code",
   "execution_count": 5,
   "metadata": {
    "collapsed": true
   },
   "outputs": [],
   "source": [
    "# the following function simulates a trajectory of Brownian motion at time instants tt\n",
    "\n",
    "wiener = function( n, tt ) {\n",
    "  e = rnorm( n, 0, 1 )\n",
    "  x = c(0,cumsum( e )) / sqrt(n)\n",
    "  y = x[ 1+floor( n * tt ) ]\n",
    "  return( list( x = x, y = y ) )\n",
    "}"
   ]
  },
  {
   "cell_type": "code",
   "execution_count": 6,
   "metadata": {
    "collapsed": false
   },
   "outputs": [
    {
     "ename": "ERROR",
     "evalue": "Error in eval(expr, envir, enclos): oggetto \"s\" non trovato\n",
     "output_type": "error",
     "traceback": [
      "Error in eval(expr, envir, enclos): oggetto \"s\" non trovato\n"
     ]
    },
    {
     "ename": "ERROR",
     "evalue": "Error in eval(expr, envir, enclos): oggetto \"m\" non trovato\n",
     "output_type": "error",
     "traceback": [
      "Error in eval(expr, envir, enclos): oggetto \"m\" non trovato\n"
     ]
    },
    {
     "ename": "ERROR",
     "evalue": "Error in eval(expr, envir, enclos): oggetto \"Price\" non trovato\n",
     "output_type": "error",
     "traceback": [
      "Error in eval(expr, envir, enclos): oggetto \"Price\" non trovato\n"
     ]
    },
    {
     "ename": "ERROR",
     "evalue": "Error in eval(expr, envir, enclos): oggetto \"S0\" non trovato\n",
     "output_type": "error",
     "traceback": [
      "Error in eval(expr, envir, enclos): oggetto \"S0\" non trovato\n"
     ]
    },
    {
     "ename": "ERROR",
     "evalue": "Error in plot(S1, type = \"l\", ylim = c(33000, 34000), xlab = \"Time\", ylab = \"\"): oggetto \"S1\" non trovato\n",
     "output_type": "error",
     "traceback": [
      "Error in plot(S1, type = \"l\", ylim = c(33000, 34000), xlab = \"Time\", ylab = \"\"): oggetto \"S1\" non trovato\n"
     ]
    },
    {
     "ename": "ERROR",
     "evalue": "Error: oggetto \"S0\" non trovato\n",
     "output_type": "error",
     "traceback": [
      "Error: oggetto \"S0\" non trovato\n"
     ]
    },
    {
     "ename": "ERROR",
     "evalue": "Error in eval(expr, envir, enclos): oggetto \"S0\" non trovato\n",
     "output_type": "error",
     "traceback": [
      "Error in eval(expr, envir, enclos): oggetto \"S0\" non trovato\n"
     ]
    },
    {
     "ename": "ERROR",
     "evalue": "Error in eval(expr, envir, enclos): oggetto \"S0\" non trovato\n",
     "output_type": "error",
     "traceback": [
      "Error in eval(expr, envir, enclos): oggetto \"S0\" non trovato\n"
     ]
    },
    {
     "ename": "ERROR",
     "evalue": "Error in lines(y1, lwd = 2, col = \"blue\"): oggetto \"y1\" non trovato\n",
     "output_type": "error",
     "traceback": [
      "Error in lines(y1, lwd = 2, col = \"blue\"): oggetto \"y1\" non trovato\n"
     ]
    },
    {
     "ename": "ERROR",
     "evalue": "Error in lines(y2, lwd = 2, col = \"blue\"): oggetto \"y2\" non trovato\n",
     "output_type": "error",
     "traceback": [
      "Error in lines(y2, lwd = 2, col = \"blue\"): oggetto \"y2\" non trovato\n"
     ]
    },
    {
     "ename": "ERROR",
     "evalue": "Error in eval(expr, envir, enclos): oggetto \"S0\" non trovato\n",
     "output_type": "error",
     "traceback": [
      "Error in eval(expr, envir, enclos): oggetto \"S0\" non trovato\n"
     ]
    },
    {
     "ename": "ERROR",
     "evalue": "Error in eval(expr, envir, enclos): oggetto \"S0\" non trovato\n",
     "output_type": "error",
     "traceback": [
      "Error in eval(expr, envir, enclos): oggetto \"S0\" non trovato\n"
     ]
    },
    {
     "ename": "ERROR",
     "evalue": "Error in lines(y1, lwd = 2, col = \"red\"): oggetto \"y1\" non trovato\n",
     "output_type": "error",
     "traceback": [
      "Error in lines(y1, lwd = 2, col = \"red\"): oggetto \"y1\" non trovato\n"
     ]
    },
    {
     "ename": "ERROR",
     "evalue": "Error in lines(y2, lwd = 2, col = \"red\"): oggetto \"y2\" non trovato\n",
     "output_type": "error",
     "traceback": [
      "Error in lines(y2, lwd = 2, col = \"red\"): oggetto \"y2\" non trovato\n"
     ]
    },
    {
     "ename": "ERROR",
     "evalue": "Error in eval(expr, envir, enclos): oggetto \"S0\" non trovato\n",
     "output_type": "error",
     "traceback": [
      "Error in eval(expr, envir, enclos): oggetto \"S0\" non trovato\n"
     ]
    },
    {
     "ename": "ERROR",
     "evalue": "Error in eval(expr, envir, enclos): oggetto \"S0\" non trovato\n",
     "output_type": "error",
     "traceback": [
      "Error in eval(expr, envir, enclos): oggetto \"S0\" non trovato\n"
     ]
    },
    {
     "ename": "ERROR",
     "evalue": "Error in lines(y1, lwd = 2, col = \"green\"): oggetto \"y1\" non trovato\n",
     "output_type": "error",
     "traceback": [
      "Error in lines(y1, lwd = 2, col = \"green\"): oggetto \"y1\" non trovato\n"
     ]
    },
    {
     "ename": "ERROR",
     "evalue": "Error in lines(y2, lwd = 2, col = \"green\"): oggetto \"y2\" non trovato\n",
     "output_type": "error",
     "traceback": [
      "Error in lines(y2, lwd = 2, col = \"green\"): oggetto \"y2\" non trovato\n"
     ]
    }
   ],
   "source": [
    "time_step  <- 1000\n",
    "nsim       <- 100\n",
    "t          <- seq(0,1,1/time_step)\n",
    "delta_t <- t[2]-t[1]\n",
    "# volatilita' normalizzata ad un anno (si assumono 250 giorni lavorativi)\n",
    "sigma   <- s * sqrt(250) * sqrt(delta_t)\n",
    "# drift \n",
    "drift   <- (m + .5*sigma*sigma)*delta_t\n",
    "S0      <- Price[1]\n",
    "\n",
    "# generiamo un path di 500 punti fra 0 e tmax\n",
    "paths <- wiener(time_step, t )$y\n",
    "S1    <- S0*exp(drift + sigma * paths)\n",
    "plot( S1, type=\"l\",ylim = c(33000,34000), xlab = \"Time\", ylab=\"\" )\n",
    "\n",
    "for(i in 1:nsim){\n",
    "    paths <- wiener(time_step, t )$y\n",
    "    S     <- S0*exp(drift + sigma * paths)\n",
    "    lines( S , col=sample(rainbow(100)))\n",
    "}\n",
    "\n",
    "# 90-esimo percentile\n",
    "p <- qnorm(0.9)\n",
    "y1=S0*exp(drift+p*sigma*sqrt(t))\n",
    "y2=S0*exp(drift-p*sigma*sqrt(t))\n",
    "lines(y1, lwd=2,col='blue')\n",
    "lines(y2, lwd=2,col='blue')\n",
    "\n",
    "# 99-esimo percentile\n",
    "p <- qnorm(0.99)\n",
    "y1=S0*exp(drift+p*sigma*sqrt(t))\n",
    "y2=S0*exp(drift-p*sigma*sqrt(t))\n",
    "lines(y1, lwd=2,col='red')\n",
    "lines(y2, lwd=2,col='red')\n",
    "\n",
    "# 99.99-esimo percentile\n",
    "p <- qnorm(0.9999)\n",
    "y1=S0*exp(drift+p*sigma*sqrt(t))\n",
    "y2=S0*exp(drift-p*sigma*sqrt(t))\n",
    "lines(y1, lwd=2,col='green')\n",
    "lines(y2, lwd=2,col='green')\n"
   ]
  },
  {
   "cell_type": "code",
   "execution_count": null,
   "metadata": {
    "collapsed": true
   },
   "outputs": [],
   "source": []
  }
 ],
 "metadata": {
  "kernelspec": {
   "display_name": "R",
   "language": "R",
   "name": "ir"
  },
  "language_info": {
   "codemirror_mode": "r",
   "file_extension": ".r",
   "mimetype": "text/x-r-source",
   "name": "R",
   "pygments_lexer": "r",
   "version": "3.2.2"
  }
 },
 "nbformat": 4,
 "nbformat_minor": 0
}
