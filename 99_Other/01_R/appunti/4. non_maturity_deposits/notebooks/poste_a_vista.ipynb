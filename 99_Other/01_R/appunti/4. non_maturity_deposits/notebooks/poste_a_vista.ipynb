{
 "cells": [
  {
   "cell_type": "code",
   "execution_count": 2,
   "metadata": {
    "collapsed": true
   },
   "outputs": [],
   "source": [
    "file_path = '/Users/giovanni/git_repository/working/R/appunti'\n",
    "file_name = 'SerieVolumi.csv'\n",
    "\n",
    "file_name = paste(file_path,file_name,sep='/')\n",
    "\n",
    "Log_Nb<- read.csv(file_name,header = TRUE, sep = \";\")\n",
    "attach(Log_Nb)\n",
    "\n"
   ]
  },
  {
   "cell_type": "markdown",
   "metadata": {},
   "source": [
    "Almost all filters in this package can be put into the following framework. Given a time series $\\{x_t\\}^T_{t=1}$ we are interested in isolating component of $x_t$, denoted $y_t$ with period of oscillations between $p_l$ and $p_u$, where $2 \\le p_l < p_u < \\infty$.\n",
    "\n",
    "Consider the following decomposition of the time series\n",
    "\n",
    "$$x_t = y_t + \\bar{x}_t$$\n",
    "\n",
    "The component $y_t$ is assumed to have power only in the frequencies in the interval $\\{(a,b) \\cup (-a,-b)\\} \\in (-\\pi, \\pi)$. $a$ and $b$ are related to $p_l$ and $p_u$ by\n",
    "\n",
    "$$a=\\frac{2 \\pi}{p_u}\\ \\ \\ \\ \\ {b=\\frac{2 \\pi}{p_l}}$$\n",
    "\n",
    "If infinite amount of data is available, then we can use the ideal bandpass filter\n",
    "\n",
    "$$y_t = B(L)x_t$$\n",
    "\n",
    "where the filter, $B(L)$, is given in terms of the lag operator $L$ and defined as\n",
    "\n",
    "$$B(L) = \\sum^\\infty_{j=-\\infty} B_j L^j, \\ \\ \\ L^k x_t = x_{t-k}$$\n",
    "\n",
    "The ideal bandpass filter weights are given by\n",
    "\n",
    "$$B_j = \\frac{\\sin(jb)-\\sin(ja)}{\\pi j}$$\n",
    "\n",
    "$$B_0=\\frac{b-a}{\\pi}$$\n",
    "\n",
    "The Hodrick-Prescott filter obtains the filter weights $\\hat{B}_j$ as a solution to\n",
    "\n",
    "$$\n",
    "\\hat{B}_{j}= \\arg \\min E \\{ (y_t-\\hat{y}_t)^2 \\} = \\arg \\min \\left\\{ \\sum^{T}_{t=1}(y_t-\\hat{y}_{t})^2 + \\lambda\\sum^{T-1}_{t=2}(\\hat{y}_{t+1}-2\\hat{y}_{t}+\\hat{y}_{t-1})^2 \\right\\}\n",
    "$$\n",
    "\n",
    "The Hodrick-Prescott filter is a finite data approximation with following moving average weights\n",
    "\n",
    "$$\n",
    "\\hat{B}_j=\\frac{1}{2\\pi}\\int^{\\pi}_{-\\pi} \n",
    "\\frac{4\\lambda(1-\\cos(\\omega))^2}{1+4\\lambda(1-\\cos(\\omega))^2}\n",
    "\\quad e^{i \\omega j} d \\omega\n",
    "$$\n",
    "\n",
    "If $drift=TRUE$ the drift adjusted series is obtained as\n",
    "\n",
    "$$\n",
    "\\tilde{x}_{t}=x_t-t\\left(\\frac{x_{T}-x_{1}}{T-1}\\right), \\ \\ t=0,1,\\dots,T-1\n",
    "$$\n",
    "\n",
    "where $\\tilde{x}_{t}$ is the undrifted series.\n",
    "\n"
   ]
  },
  {
   "cell_type": "code",
   "execution_count": null,
   "metadata": {
    "collapsed": true
   },
   "outputs": [],
   "source": []
  }
 ],
 "metadata": {
  "kernelspec": {
   "display_name": "R",
   "language": "R",
   "name": "ir"
  },
  "language_info": {
   "codemirror_mode": "r",
   "file_extension": ".r",
   "mimetype": "text/x-r-source",
   "name": "R",
   "pygments_lexer": "r",
   "version": "3.2.2"
  }
 },
 "nbformat": 4,
 "nbformat_minor": 0
}
