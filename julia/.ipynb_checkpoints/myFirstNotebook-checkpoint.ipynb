{
 "cells": [
  {
   "cell_type": "markdown",
   "metadata": {},
   "source": [
    "# Random Path Simulation"
   ]
  },
  {
   "cell_type": "markdown",
   "metadata": {},
   "source": [
    "A very simple example of Wiener process: $dY(t) = \\mu dt + \\sigma dW(t)$"
   ]
  },
  {
   "cell_type": "code",
   "execution_count": 1,
   "metadata": {
    "collapsed": false
   },
   "outputs": [
    {
     "name": "stderr",
     "output_type": "stream",
     "text": [
      "/opt/local/Library/Frameworks/Python.framework/Versions/2.7/lib/python2.7/site-packages/matplotlib/__init__.py:1318: UserWarning:  This call to matplotlib.use() has no effect\n",
      "because the backend has already been chosen;\n",
      "matplotlib.use() must be called *before* pylab, matplotlib.pyplot,\n",
      "or matplotlib.backends is imported for the first time.\n",
      "\n",
      "  warnings.warn(_use_error_msg)\n",
      "Warning: error initializing module PyPlot:\n",
      "PyCall.PyError(msg=\":PyImport_ImportModule\", T=PyCall.PyObject(o=0x000000000eab5618), val=PyCall.PyObject(o=0x000000001022b6c8), traceback=PyCall.PyObject(o=0x000000001022b5a8))\n"
     ]
    },
    {
     "ename": "LoadError",
     "evalue": "ArgumentError(\"haskey of NULL PyObject\")\nwhile loading In[1], in expression starting on line 11",
     "output_type": "error",
     "traceback": [
      "ArgumentError(\"haskey of NULL PyObject\")\nwhile loading In[1], in expression starting on line 11",
      "",
      " in haskey at /Users/giovanni/.julia/v0.3/PyCall/src/PyCall.jl:278",
      " in plot at /Users/giovanni/.julia/v0.3/PyPlot/src/PyPlot.jl:452"
     ]
    }
   ],
   "source": [
    "using PyPlot\n",
    "n     = 100\n",
    "t_0   = 0.0\n",
    "t_n   = 1.0\n",
    "Δ     = (t_n - t_0)/n\n",
    "σ     = 1\n",
    "μ     = 5\n",
    "times = linspace(t_0, t_n, n)\n",
    "drift = linspace(μ*Δ, μ*Δ, n)\n",
    "epsilon_values = cumsum(drift + randn(n)*sqrt(Δ)*σ)\n",
    "plot(times, epsilon_values, \"b-\")\n",
    "plot(times, cumsum(drift),color=\"r\", \"b-\")\n",
    "xlabel(\"time\")\n",
    "ylabel(\"Y(t)\")\n",
    "title(\"Wiener Proces\")\n",
    "grid(\"on\")"
   ]
  }
 ],
 "metadata": {
  "kernelspec": {
   "display_name": "Julia 0.3.11",
   "language": "julia",
   "name": "julia-0.3"
  },
  "language_info": {
   "name": "julia",
   "version": "0.3.11"
  }
 },
 "nbformat": 4,
 "nbformat_minor": 0
}
